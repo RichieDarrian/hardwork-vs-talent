{
  "nbformat": 4,
  "nbformat_minor": 0,
  "metadata": {
    "colab": {
      "provenance": [],
      "collapsed_sections": [
        "OYk5Vgv3x1rW",
        "pAJe3YzcVD8S",
        "2cvbiBi2xLpm",
        "bK5eeSc-3yGe",
        "8XtSgjRCBs3_",
        "InjRisK4BwBw",
        "qPuRn-oiBW91",
        "0HsIml-5-d1v"
      ]
    },
    "kernelspec": {
      "name": "python3",
      "display_name": "Python 3"
    },
    "language_info": {
      "name": "python"
    },
    "widgets": {
      "application/vnd.jupyter.widget-state+json": {
        "ac78e5e175f34bb1a795fb966ff405fd": {
          "model_module": "@jupyter-widgets/controls",
          "model_name": "HBoxModel",
          "model_module_version": "1.5.0",
          "state": {
            "_dom_classes": [],
            "_model_module": "@jupyter-widgets/controls",
            "_model_module_version": "1.5.0",
            "_model_name": "HBoxModel",
            "_view_count": null,
            "_view_module": "@jupyter-widgets/controls",
            "_view_module_version": "1.5.0",
            "_view_name": "HBoxView",
            "box_style": "",
            "children": [
              "IPY_MODEL_63e1884fea9a4de6b97d43906279e237",
              "IPY_MODEL_0f42d5800cf54a42b09e434ce222c265",
              "IPY_MODEL_d46d2fb5d03f44dc9748514980a19327"
            ],
            "layout": "IPY_MODEL_9a0e35751f0a4b98b68a80d9b8c88f34"
          }
        },
        "63e1884fea9a4de6b97d43906279e237": {
          "model_module": "@jupyter-widgets/controls",
          "model_name": "HTMLModel",
          "model_module_version": "1.5.0",
          "state": {
            "_dom_classes": [],
            "_model_module": "@jupyter-widgets/controls",
            "_model_module_version": "1.5.0",
            "_model_name": "HTMLModel",
            "_view_count": null,
            "_view_module": "@jupyter-widgets/controls",
            "_view_module_version": "1.5.0",
            "_view_name": "HTMLView",
            "description": "",
            "description_tooltip": null,
            "layout": "IPY_MODEL_40056a75002a4864ba77062ab81297d6",
            "placeholder": "​",
            "style": "IPY_MODEL_3938d77f82214f07b8731c12ff11f0f4",
            "value": "Downloading Comments: "
          }
        },
        "0f42d5800cf54a42b09e434ce222c265": {
          "model_module": "@jupyter-widgets/controls",
          "model_name": "FloatProgressModel",
          "model_module_version": "1.5.0",
          "state": {
            "_dom_classes": [],
            "_model_module": "@jupyter-widgets/controls",
            "_model_module_version": "1.5.0",
            "_model_name": "FloatProgressModel",
            "_view_count": null,
            "_view_module": "@jupyter-widgets/controls",
            "_view_module_version": "1.5.0",
            "_view_name": "ProgressView",
            "bar_style": "success",
            "description": "",
            "description_tooltip": null,
            "layout": "IPY_MODEL_0151b6c59e6c48ad84b9307c33f91ec2",
            "max": 1,
            "min": 0,
            "orientation": "horizontal",
            "style": "IPY_MODEL_b45738f4a43a4cb6bcb9707dd56ad054",
            "value": 1
          }
        },
        "d46d2fb5d03f44dc9748514980a19327": {
          "model_module": "@jupyter-widgets/controls",
          "model_name": "HTMLModel",
          "model_module_version": "1.5.0",
          "state": {
            "_dom_classes": [],
            "_model_module": "@jupyter-widgets/controls",
            "_model_module_version": "1.5.0",
            "_model_name": "HTMLModel",
            "_view_count": null,
            "_view_module": "@jupyter-widgets/controls",
            "_view_module_version": "1.5.0",
            "_view_name": "HTMLView",
            "description": "",
            "description_tooltip": null,
            "layout": "IPY_MODEL_1e18c8931eb941d7ae471b071810f93a",
            "placeholder": "​",
            "style": "IPY_MODEL_a3dfcb231fb4499d8bcc4e9b239c0112",
            "value": " 972/? [00:32&lt;00:00, 33.84it/s]"
          }
        },
        "9a0e35751f0a4b98b68a80d9b8c88f34": {
          "model_module": "@jupyter-widgets/base",
          "model_name": "LayoutModel",
          "model_module_version": "1.2.0",
          "state": {
            "_model_module": "@jupyter-widgets/base",
            "_model_module_version": "1.2.0",
            "_model_name": "LayoutModel",
            "_view_count": null,
            "_view_module": "@jupyter-widgets/base",
            "_view_module_version": "1.2.0",
            "_view_name": "LayoutView",
            "align_content": null,
            "align_items": null,
            "align_self": null,
            "border": null,
            "bottom": null,
            "display": null,
            "flex": null,
            "flex_flow": null,
            "grid_area": null,
            "grid_auto_columns": null,
            "grid_auto_flow": null,
            "grid_auto_rows": null,
            "grid_column": null,
            "grid_gap": null,
            "grid_row": null,
            "grid_template_areas": null,
            "grid_template_columns": null,
            "grid_template_rows": null,
            "height": null,
            "justify_content": null,
            "justify_items": null,
            "left": null,
            "margin": null,
            "max_height": null,
            "max_width": null,
            "min_height": null,
            "min_width": null,
            "object_fit": null,
            "object_position": null,
            "order": null,
            "overflow": null,
            "overflow_x": null,
            "overflow_y": null,
            "padding": null,
            "right": null,
            "top": null,
            "visibility": null,
            "width": null
          }
        },
        "40056a75002a4864ba77062ab81297d6": {
          "model_module": "@jupyter-widgets/base",
          "model_name": "LayoutModel",
          "model_module_version": "1.2.0",
          "state": {
            "_model_module": "@jupyter-widgets/base",
            "_model_module_version": "1.2.0",
            "_model_name": "LayoutModel",
            "_view_count": null,
            "_view_module": "@jupyter-widgets/base",
            "_view_module_version": "1.2.0",
            "_view_name": "LayoutView",
            "align_content": null,
            "align_items": null,
            "align_self": null,
            "border": null,
            "bottom": null,
            "display": null,
            "flex": null,
            "flex_flow": null,
            "grid_area": null,
            "grid_auto_columns": null,
            "grid_auto_flow": null,
            "grid_auto_rows": null,
            "grid_column": null,
            "grid_gap": null,
            "grid_row": null,
            "grid_template_areas": null,
            "grid_template_columns": null,
            "grid_template_rows": null,
            "height": null,
            "justify_content": null,
            "justify_items": null,
            "left": null,
            "margin": null,
            "max_height": null,
            "max_width": null,
            "min_height": null,
            "min_width": null,
            "object_fit": null,
            "object_position": null,
            "order": null,
            "overflow": null,
            "overflow_x": null,
            "overflow_y": null,
            "padding": null,
            "right": null,
            "top": null,
            "visibility": null,
            "width": null
          }
        },
        "3938d77f82214f07b8731c12ff11f0f4": {
          "model_module": "@jupyter-widgets/controls",
          "model_name": "DescriptionStyleModel",
          "model_module_version": "1.5.0",
          "state": {
            "_model_module": "@jupyter-widgets/controls",
            "_model_module_version": "1.5.0",
            "_model_name": "DescriptionStyleModel",
            "_view_count": null,
            "_view_module": "@jupyter-widgets/base",
            "_view_module_version": "1.2.0",
            "_view_name": "StyleView",
            "description_width": ""
          }
        },
        "0151b6c59e6c48ad84b9307c33f91ec2": {
          "model_module": "@jupyter-widgets/base",
          "model_name": "LayoutModel",
          "model_module_version": "1.2.0",
          "state": {
            "_model_module": "@jupyter-widgets/base",
            "_model_module_version": "1.2.0",
            "_model_name": "LayoutModel",
            "_view_count": null,
            "_view_module": "@jupyter-widgets/base",
            "_view_module_version": "1.2.0",
            "_view_name": "LayoutView",
            "align_content": null,
            "align_items": null,
            "align_self": null,
            "border": null,
            "bottom": null,
            "display": null,
            "flex": null,
            "flex_flow": null,
            "grid_area": null,
            "grid_auto_columns": null,
            "grid_auto_flow": null,
            "grid_auto_rows": null,
            "grid_column": null,
            "grid_gap": null,
            "grid_row": null,
            "grid_template_areas": null,
            "grid_template_columns": null,
            "grid_template_rows": null,
            "height": null,
            "justify_content": null,
            "justify_items": null,
            "left": null,
            "margin": null,
            "max_height": null,
            "max_width": null,
            "min_height": null,
            "min_width": null,
            "object_fit": null,
            "object_position": null,
            "order": null,
            "overflow": null,
            "overflow_x": null,
            "overflow_y": null,
            "padding": null,
            "right": null,
            "top": null,
            "visibility": null,
            "width": "20px"
          }
        },
        "b45738f4a43a4cb6bcb9707dd56ad054": {
          "model_module": "@jupyter-widgets/controls",
          "model_name": "ProgressStyleModel",
          "model_module_version": "1.5.0",
          "state": {
            "_model_module": "@jupyter-widgets/controls",
            "_model_module_version": "1.5.0",
            "_model_name": "ProgressStyleModel",
            "_view_count": null,
            "_view_module": "@jupyter-widgets/base",
            "_view_module_version": "1.2.0",
            "_view_name": "StyleView",
            "bar_color": null,
            "description_width": ""
          }
        },
        "1e18c8931eb941d7ae471b071810f93a": {
          "model_module": "@jupyter-widgets/base",
          "model_name": "LayoutModel",
          "model_module_version": "1.2.0",
          "state": {
            "_model_module": "@jupyter-widgets/base",
            "_model_module_version": "1.2.0",
            "_model_name": "LayoutModel",
            "_view_count": null,
            "_view_module": "@jupyter-widgets/base",
            "_view_module_version": "1.2.0",
            "_view_name": "LayoutView",
            "align_content": null,
            "align_items": null,
            "align_self": null,
            "border": null,
            "bottom": null,
            "display": null,
            "flex": null,
            "flex_flow": null,
            "grid_area": null,
            "grid_auto_columns": null,
            "grid_auto_flow": null,
            "grid_auto_rows": null,
            "grid_column": null,
            "grid_gap": null,
            "grid_row": null,
            "grid_template_areas": null,
            "grid_template_columns": null,
            "grid_template_rows": null,
            "height": null,
            "justify_content": null,
            "justify_items": null,
            "left": null,
            "margin": null,
            "max_height": null,
            "max_width": null,
            "min_height": null,
            "min_width": null,
            "object_fit": null,
            "object_position": null,
            "order": null,
            "overflow": null,
            "overflow_x": null,
            "overflow_y": null,
            "padding": null,
            "right": null,
            "top": null,
            "visibility": null,
            "width": null
          }
        },
        "a3dfcb231fb4499d8bcc4e9b239c0112": {
          "model_module": "@jupyter-widgets/controls",
          "model_name": "DescriptionStyleModel",
          "model_module_version": "1.5.0",
          "state": {
            "_model_module": "@jupyter-widgets/controls",
            "_model_module_version": "1.5.0",
            "_model_name": "DescriptionStyleModel",
            "_view_count": null,
            "_view_module": "@jupyter-widgets/base",
            "_view_module_version": "1.2.0",
            "_view_name": "StyleView",
            "description_width": ""
          }
        },
        "92f484d3406649a6a7a7e7b4c9dbc6cf": {
          "model_module": "@jupyter-widgets/controls",
          "model_name": "HBoxModel",
          "model_module_version": "1.5.0",
          "state": {
            "_dom_classes": [],
            "_model_module": "@jupyter-widgets/controls",
            "_model_module_version": "1.5.0",
            "_model_name": "HBoxModel",
            "_view_count": null,
            "_view_module": "@jupyter-widgets/controls",
            "_view_module_version": "1.5.0",
            "_view_name": "HBoxView",
            "box_style": "",
            "children": [
              "IPY_MODEL_5edabcffa4424cffb8544a8aafaa824e",
              "IPY_MODEL_30e64757f92d4b4abcc20da445422162",
              "IPY_MODEL_59b73b1eb64c445ab253f4383644822a"
            ],
            "layout": "IPY_MODEL_f941ea01da3b4ac1b01e36285ee24cf5"
          }
        },
        "5edabcffa4424cffb8544a8aafaa824e": {
          "model_module": "@jupyter-widgets/controls",
          "model_name": "HTMLModel",
          "model_module_version": "1.5.0",
          "state": {
            "_dom_classes": [],
            "_model_module": "@jupyter-widgets/controls",
            "_model_module_version": "1.5.0",
            "_model_name": "HTMLModel",
            "_view_count": null,
            "_view_module": "@jupyter-widgets/controls",
            "_view_module_version": "1.5.0",
            "_view_name": "HTMLView",
            "description": "",
            "description_tooltip": null,
            "layout": "IPY_MODEL_c3cd1364bf7646b6a02a4522fd9b1a14",
            "placeholder": "​",
            "style": "IPY_MODEL_f253ab664c7744cfb7b6cccd4b40080f",
            "value": "Classifying comments: 100%"
          }
        },
        "30e64757f92d4b4abcc20da445422162": {
          "model_module": "@jupyter-widgets/controls",
          "model_name": "FloatProgressModel",
          "model_module_version": "1.5.0",
          "state": {
            "_dom_classes": [],
            "_model_module": "@jupyter-widgets/controls",
            "_model_module_version": "1.5.0",
            "_model_name": "FloatProgressModel",
            "_view_count": null,
            "_view_module": "@jupyter-widgets/controls",
            "_view_module_version": "1.5.0",
            "_view_name": "ProgressView",
            "bar_style": "success",
            "description": "",
            "description_tooltip": null,
            "layout": "IPY_MODEL_90b44bb3160044b7a98bbd381c406b23",
            "max": 934,
            "min": 0,
            "orientation": "horizontal",
            "style": "IPY_MODEL_595cc1b6b1254540ac532ad99b8ace55",
            "value": 934
          }
        },
        "59b73b1eb64c445ab253f4383644822a": {
          "model_module": "@jupyter-widgets/controls",
          "model_name": "HTMLModel",
          "model_module_version": "1.5.0",
          "state": {
            "_dom_classes": [],
            "_model_module": "@jupyter-widgets/controls",
            "_model_module_version": "1.5.0",
            "_model_name": "HTMLModel",
            "_view_count": null,
            "_view_module": "@jupyter-widgets/controls",
            "_view_module_version": "1.5.0",
            "_view_name": "HTMLView",
            "description": "",
            "description_tooltip": null,
            "layout": "IPY_MODEL_f9f5338d0a444e908adc5d3a563780e1",
            "placeholder": "​",
            "style": "IPY_MODEL_30f5a2f4577a4013b9716ddf2aceecb4",
            "value": " 934/934 [09:00&lt;00:00,  1.74it/s]"
          }
        },
        "f941ea01da3b4ac1b01e36285ee24cf5": {
          "model_module": "@jupyter-widgets/base",
          "model_name": "LayoutModel",
          "model_module_version": "1.2.0",
          "state": {
            "_model_module": "@jupyter-widgets/base",
            "_model_module_version": "1.2.0",
            "_model_name": "LayoutModel",
            "_view_count": null,
            "_view_module": "@jupyter-widgets/base",
            "_view_module_version": "1.2.0",
            "_view_name": "LayoutView",
            "align_content": null,
            "align_items": null,
            "align_self": null,
            "border": null,
            "bottom": null,
            "display": null,
            "flex": null,
            "flex_flow": null,
            "grid_area": null,
            "grid_auto_columns": null,
            "grid_auto_flow": null,
            "grid_auto_rows": null,
            "grid_column": null,
            "grid_gap": null,
            "grid_row": null,
            "grid_template_areas": null,
            "grid_template_columns": null,
            "grid_template_rows": null,
            "height": null,
            "justify_content": null,
            "justify_items": null,
            "left": null,
            "margin": null,
            "max_height": null,
            "max_width": null,
            "min_height": null,
            "min_width": null,
            "object_fit": null,
            "object_position": null,
            "order": null,
            "overflow": null,
            "overflow_x": null,
            "overflow_y": null,
            "padding": null,
            "right": null,
            "top": null,
            "visibility": null,
            "width": null
          }
        },
        "c3cd1364bf7646b6a02a4522fd9b1a14": {
          "model_module": "@jupyter-widgets/base",
          "model_name": "LayoutModel",
          "model_module_version": "1.2.0",
          "state": {
            "_model_module": "@jupyter-widgets/base",
            "_model_module_version": "1.2.0",
            "_model_name": "LayoutModel",
            "_view_count": null,
            "_view_module": "@jupyter-widgets/base",
            "_view_module_version": "1.2.0",
            "_view_name": "LayoutView",
            "align_content": null,
            "align_items": null,
            "align_self": null,
            "border": null,
            "bottom": null,
            "display": null,
            "flex": null,
            "flex_flow": null,
            "grid_area": null,
            "grid_auto_columns": null,
            "grid_auto_flow": null,
            "grid_auto_rows": null,
            "grid_column": null,
            "grid_gap": null,
            "grid_row": null,
            "grid_template_areas": null,
            "grid_template_columns": null,
            "grid_template_rows": null,
            "height": null,
            "justify_content": null,
            "justify_items": null,
            "left": null,
            "margin": null,
            "max_height": null,
            "max_width": null,
            "min_height": null,
            "min_width": null,
            "object_fit": null,
            "object_position": null,
            "order": null,
            "overflow": null,
            "overflow_x": null,
            "overflow_y": null,
            "padding": null,
            "right": null,
            "top": null,
            "visibility": null,
            "width": null
          }
        },
        "f253ab664c7744cfb7b6cccd4b40080f": {
          "model_module": "@jupyter-widgets/controls",
          "model_name": "DescriptionStyleModel",
          "model_module_version": "1.5.0",
          "state": {
            "_model_module": "@jupyter-widgets/controls",
            "_model_module_version": "1.5.0",
            "_model_name": "DescriptionStyleModel",
            "_view_count": null,
            "_view_module": "@jupyter-widgets/base",
            "_view_module_version": "1.2.0",
            "_view_name": "StyleView",
            "description_width": ""
          }
        },
        "90b44bb3160044b7a98bbd381c406b23": {
          "model_module": "@jupyter-widgets/base",
          "model_name": "LayoutModel",
          "model_module_version": "1.2.0",
          "state": {
            "_model_module": "@jupyter-widgets/base",
            "_model_module_version": "1.2.0",
            "_model_name": "LayoutModel",
            "_view_count": null,
            "_view_module": "@jupyter-widgets/base",
            "_view_module_version": "1.2.0",
            "_view_name": "LayoutView",
            "align_content": null,
            "align_items": null,
            "align_self": null,
            "border": null,
            "bottom": null,
            "display": null,
            "flex": null,
            "flex_flow": null,
            "grid_area": null,
            "grid_auto_columns": null,
            "grid_auto_flow": null,
            "grid_auto_rows": null,
            "grid_column": null,
            "grid_gap": null,
            "grid_row": null,
            "grid_template_areas": null,
            "grid_template_columns": null,
            "grid_template_rows": null,
            "height": null,
            "justify_content": null,
            "justify_items": null,
            "left": null,
            "margin": null,
            "max_height": null,
            "max_width": null,
            "min_height": null,
            "min_width": null,
            "object_fit": null,
            "object_position": null,
            "order": null,
            "overflow": null,
            "overflow_x": null,
            "overflow_y": null,
            "padding": null,
            "right": null,
            "top": null,
            "visibility": null,
            "width": null
          }
        },
        "595cc1b6b1254540ac532ad99b8ace55": {
          "model_module": "@jupyter-widgets/controls",
          "model_name": "ProgressStyleModel",
          "model_module_version": "1.5.0",
          "state": {
            "_model_module": "@jupyter-widgets/controls",
            "_model_module_version": "1.5.0",
            "_model_name": "ProgressStyleModel",
            "_view_count": null,
            "_view_module": "@jupyter-widgets/base",
            "_view_module_version": "1.2.0",
            "_view_name": "StyleView",
            "bar_color": null,
            "description_width": ""
          }
        },
        "f9f5338d0a444e908adc5d3a563780e1": {
          "model_module": "@jupyter-widgets/base",
          "model_name": "LayoutModel",
          "model_module_version": "1.2.0",
          "state": {
            "_model_module": "@jupyter-widgets/base",
            "_model_module_version": "1.2.0",
            "_model_name": "LayoutModel",
            "_view_count": null,
            "_view_module": "@jupyter-widgets/base",
            "_view_module_version": "1.2.0",
            "_view_name": "LayoutView",
            "align_content": null,
            "align_items": null,
            "align_self": null,
            "border": null,
            "bottom": null,
            "display": null,
            "flex": null,
            "flex_flow": null,
            "grid_area": null,
            "grid_auto_columns": null,
            "grid_auto_flow": null,
            "grid_auto_rows": null,
            "grid_column": null,
            "grid_gap": null,
            "grid_row": null,
            "grid_template_areas": null,
            "grid_template_columns": null,
            "grid_template_rows": null,
            "height": null,
            "justify_content": null,
            "justify_items": null,
            "left": null,
            "margin": null,
            "max_height": null,
            "max_width": null,
            "min_height": null,
            "min_width": null,
            "object_fit": null,
            "object_position": null,
            "order": null,
            "overflow": null,
            "overflow_x": null,
            "overflow_y": null,
            "padding": null,
            "right": null,
            "top": null,
            "visibility": null,
            "width": null
          }
        },
        "30f5a2f4577a4013b9716ddf2aceecb4": {
          "model_module": "@jupyter-widgets/controls",
          "model_name": "DescriptionStyleModel",
          "model_module_version": "1.5.0",
          "state": {
            "_model_module": "@jupyter-widgets/controls",
            "_model_module_version": "1.5.0",
            "_model_name": "DescriptionStyleModel",
            "_view_count": null,
            "_view_module": "@jupyter-widgets/base",
            "_view_module_version": "1.2.0",
            "_view_name": "StyleView",
            "description_width": ""
          }
        }
      }
    }
  },
  "cells": [
    {
      "cell_type": "markdown",
      "source": [
        "# Initial Preparation\n",
        "\n",
        "In this section, I set up the environment by installing required libraries, mounting Google Drive, ad configuring the working directory to manage and access project files effectively."
      ],
      "metadata": {
        "id": "OYk5Vgv3x1rW"
      }
    },
    {
      "cell_type": "markdown",
      "source": [
        "To start, I installed and imported every necessary libraries."
      ],
      "metadata": {
        "id": "dh78AZl0HcKZ"
      }
    },
    {
      "cell_type": "code",
      "source": [
        "%pip install youtube-comment-downloader\n",
        "%pip install langchain_community\n",
        "%pip install replicate"
      ],
      "metadata": {
        "id": "G2cWVlqhS-qJ"
      },
      "execution_count": null,
      "outputs": []
    },
    {
      "cell_type": "code",
      "source": [
        "from google.colab import drive\n",
        "import os\n",
        "\n",
        "from youtube_comment_downloader import *\n",
        "from tqdm.notebook import tqdm\n",
        "import datetime\n",
        "import pytz\n",
        "\n",
        "import pandas as pd\n",
        "pd.set_option('display.max_colwidth', None)\n",
        "import numpy as np\n",
        "import seaborn as sns\n",
        "import matplotlib.pyplot as plt\n",
        "from wordcloud import WordCloud\n",
        "\n",
        "from langchain_community.llms import Replicate\n",
        "from google.colab import userdata"
      ],
      "metadata": {
        "id": "fMJ-oKU50oPa"
      },
      "execution_count": null,
      "outputs": []
    },
    {
      "cell_type": "markdown",
      "source": [
        "Google Drive is then mounted to the Colab environment, and the working directory is changed to my preferred folder within my drive to access and save datasets scraped and cleaned."
      ],
      "metadata": {
        "id": "molvtIca7jcV"
      }
    },
    {
      "cell_type": "code",
      "source": [
        "drive.mount('/content/drive')\n",
        "os.chdir('/content/drive/My Drive/DataProject/SDI')"
      ],
      "metadata": {
        "colab": {
          "base_uri": "https://localhost:8080/"
        },
        "id": "9-RP3MdUx4Zc",
        "outputId": "8da0c84a-cbe9-42be-a420-3f4793c2ca66"
      },
      "execution_count": null,
      "outputs": [
        {
          "output_type": "stream",
          "name": "stdout",
          "text": [
            "Mounted at /content/drive\n"
          ]
        }
      ]
    },
    {
      "cell_type": "markdown",
      "source": [
        "# Web Scraping\n",
        "\n",
        "In this section, I aim to build the raw dataset by web scraping where I collect and organize YouTube comments into a usable format for analysis."
      ],
      "metadata": {
        "id": "pAJe3YzcVD8S"
      }
    },
    {
      "cell_type": "markdown",
      "source": [
        "`youtube_comment_downloader` library is used to scrape comments from Justin Sung's relevant video -- [**4 Reasons Hard Work DOES NOT Beat Talent**](https://www.youtube.com/watch?v=aRHTEhQp1g0) -- by its video URL. I choose to sort it by popularity so the \"head\" of the dataset can represent the most relevant and trustworthy comments, as they reflect broader viewer agreement or engagement from its number of likes."
      ],
      "metadata": {
        "id": "ImBqMni59SF2"
      }
    },
    {
      "cell_type": "code",
      "source": [
        "downloader = YoutubeCommentDownloader()\n",
        "comments = downloader.get_comments_from_url(\"https://www.youtube.com/watch?v=aRHTEhQp1g0\", sort_by=SORT_BY_POPULAR)\n",
        "\n",
        "# youtube-comment-downloader returns a generator that produces one comment (dictionary type) at a time, so I collect them into a list first (tqdm for a convenient progress bar)\n",
        "comments_list = list(tqdm(comments, desc=\"Downloading Comments\"))\n",
        "\n",
        "# Set timezone to Asia/Jakarta (WIB)\n",
        "wib_tz = pytz.timezone(\"Asia/Jakarta\")\n",
        "now = datetime.datetime.now(wib_tz)\n",
        "\n",
        "print(f\"\\nComments scraped on: {now.strftime('%A, %d %B %Y %H:%M:%S')}\")"
      ],
      "metadata": {
        "id": "ZQPfKs0O_Gu7",
        "colab": {
          "base_uri": "https://localhost:8080/",
          "height": 84,
          "referenced_widgets": [
            "ac78e5e175f34bb1a795fb966ff405fd",
            "63e1884fea9a4de6b97d43906279e237",
            "0f42d5800cf54a42b09e434ce222c265",
            "d46d2fb5d03f44dc9748514980a19327",
            "9a0e35751f0a4b98b68a80d9b8c88f34",
            "40056a75002a4864ba77062ab81297d6",
            "3938d77f82214f07b8731c12ff11f0f4",
            "0151b6c59e6c48ad84b9307c33f91ec2",
            "b45738f4a43a4cb6bcb9707dd56ad054",
            "1e18c8931eb941d7ae471b071810f93a",
            "a3dfcb231fb4499d8bcc4e9b239c0112"
          ]
        },
        "outputId": "7e14e47a-2d73-48e1-ea87-18904820bfc2"
      },
      "execution_count": null,
      "outputs": [
        {
          "output_type": "display_data",
          "data": {
            "text/plain": [
              "Downloading Comments: 0it [00:00, ?it/s]"
            ],
            "application/vnd.jupyter.widget-view+json": {
              "version_major": 2,
              "version_minor": 0,
              "model_id": "ac78e5e175f34bb1a795fb966ff405fd"
            }
          },
          "metadata": {}
        },
        {
          "output_type": "stream",
          "name": "stdout",
          "text": [
            "\n",
            "Comments scraped on: Sunday, 03 August 2025 13:46:44\n"
          ]
        }
      ]
    },
    {
      "cell_type": "markdown",
      "source": [
        "Based on [DeepWiki](https://deepwiki.com/egbertbouman/youtube-comment-downloader/1.2-features), the comments gathered have the following features.\n",
        "1. `cid`: Comment ID  \n",
        "2. `text`: Comment text content  \n",
        "3. `time`: Publication time as string  \n",
        "4. `time_parsed`: Parsed timestamp (when available)  \n",
        "5. `author`: Author display name  \n",
        "6. `channel`: Author channel ID  \n",
        "7. `votes`: Number of likes  \n",
        "8. `replies`: Number of replies  \n",
        "9. `photo`: Author profile photo URL  \n",
        "10. `heart`: Whether the creator hearted the comment  \n",
        "11. `reply`: Whether it's a reply to another comment  \n",
        "12. `paid`: Text for paid comments (Super Chat)"
      ],
      "metadata": {
        "id": "IzK3LQgq--Uq"
      }
    },
    {
      "cell_type": "markdown",
      "source": [
        "Below is an example of a comment from the list."
      ],
      "metadata": {
        "id": "w-dVGe_ZAQNx"
      }
    },
    {
      "cell_type": "code",
      "source": [
        "comments_list[0]"
      ],
      "metadata": {
        "colab": {
          "base_uri": "https://localhost:8080/"
        },
        "id": "DFEUR2kZp4Uo",
        "outputId": "975d4c8a-d1cd-4792-a73d-3695e1b30807"
      },
      "execution_count": null,
      "outputs": [
        {
          "output_type": "execute_result",
          "data": {
            "text/plain": [
              "{'cid': 'UgwFnoEVROyPz3rdN_94AaABAg',\n",
              " 'text': 'Join my Learning Drops weekly newsletter here: https://bit.ly/4c15rqY\\nEvery week, I distil what really works for improving results, memory, depth of understanding, and knowledge application from over a decade of coaching into bite-sized emails.',\n",
              " 'time': '1 year ago',\n",
              " 'author': '@JustinSung',\n",
              " 'channel': 'UC2Zs9v2hL2qZZ7vsAENsg4w',\n",
              " 'votes': '7',\n",
              " 'replies': '',\n",
              " 'photo': 'https://yt3.ggpht.com/IDthoe4zGCdT94i4iyUQjR97Sz5woOyAQLuo9sOihhPYLL9TcUScEqOEZWfFdwcrLHVlDzBW=s88-c-k-c0x00ffffff-no-rj',\n",
              " 'heart': False,\n",
              " 'reply': False,\n",
              " 'time_parsed': 1722667573.234489}"
            ]
          },
          "metadata": {},
          "execution_count": 49
        }
      ]
    },
    {
      "cell_type": "markdown",
      "source": [
        "More than half of those features are irrelevant to my analysis. To avoid unnecessary complexity and maintain a focused dataset, I selected features which directly support the identification of viewpoints, patterns of engagement, and the structure of the discussion, which are central to my analysis. The selected features are `author`, `text`, `time`, `votes`, and `reply`.\n",
        "\n",
        "When building the dataset, I also renamed the features to `username`, `comment/reply` (each text can be a comment or a reply to a comment), `time` (stays the same), `likes` (more general), and `isReply`. These names more clearly reflect their contents, making it easier to interpret each attribute's purpose during analysis."
      ],
      "metadata": {
        "id": "bKgp6EsC8Y-s"
      }
    },
    {
      "cell_type": "code",
      "metadata": {
        "id": "f56d4887-89e0-49a4-82f2-c6457a0917d9",
        "colab": {
          "base_uri": "https://localhost:8080/",
          "height": 328
        },
        "outputId": "a959574d-aab1-4ec5-8681-55be79c5af25"
      },
      "source": [
        "df = pd.DataFrame(comments_list)\n",
        "\n",
        "df = df[['author', 'text', 'time', 'votes', 'reply']]\n",
        "df.columns = ['username', 'comment/reply', 'time', 'likes', 'isReply']\n",
        "\n",
        "print(\"First 5 comments of the raw dataset:\")\n",
        "display(df.head())"
      ],
      "execution_count": null,
      "outputs": [
        {
          "output_type": "stream",
          "name": "stdout",
          "text": [
            "First 5 comments of the raw dataset:\n"
          ]
        },
        {
          "output_type": "display_data",
          "data": {
            "text/plain": [
              "          username  \\\n",
              "0      @JustinSung   \n",
              "1          @vikshi   \n",
              "2      @julesinmed   \n",
              "3  @alphaomega6023   \n",
              "4        @eagle772   \n",
              "\n",
              "                                                                                                                                                                                                                                                                                                                                                                                                                                                                     comment/reply  \\\n",
              "0                                                                                                                                                                                                                            Join my Learning Drops weekly newsletter here: https://bit.ly/4c15rqY\\nEvery week, I distil what really works for improving results, memory, depth of understanding, and knowledge application from over a decade of coaching into bite-sized emails.   \n",
              "1                                                                                                                                                                                                                                                                                                                                                                                                                             Hardwork beats talent when talent doesn't work hard.   \n",
              "2  Personally, I think hard work should lead to smart work. We tend to associate the term hard work with concepts like long hours, lack of sleep and exhaustion, while it would be more useful if these circumstances were seen as a ''prompt'' to find a way to work smarter (simply to avoid being crushed by them, following natural evolution and self-preservation). Also, the process of simplification is itself ''hard work'', just not in the conventional, general view!   \n",
              "3                                                                                                                                                                                                                                                                                                     4:21 1. Hard work has diminishing returns\\r\\n6:27 2. Effort is fuel\\r\\n10:29 3. Hard work is also about the type of work that you do\\r\\n12:22 Two things to do to solve this   \n",
              "4                 “Talent is just the natural ability for someone to intuitively use more optimal processes.” \\n\\nWow, that is some deep insight!\\n\\nIt basically means, you need to discover the optimal processes that will give you the desired results . And then train yourself on making them intuitive; second nature. \\n\\nThen keep upgrading them. So you are able to do more with less. \\n\\nThank you Justin! You have literally changed my life. \\n\\nThank you brother!   \n",
              "\n",
              "                  time likes  isReply  \n",
              "0           1 year ago     7    False  \n",
              "1           1 year ago  2.1K    False  \n",
              "2  1 year ago (edited)  1.3K    False  \n",
              "3           1 year ago   372    False  \n",
              "4           1 year ago   916    False  "
            ],
            "text/html": [
              "\n",
              "  <div id=\"df-49d294aa-d6e2-45b0-86f1-6bff3ac41e36\" class=\"colab-df-container\">\n",
              "    <div>\n",
              "<style scoped>\n",
              "    .dataframe tbody tr th:only-of-type {\n",
              "        vertical-align: middle;\n",
              "    }\n",
              "\n",
              "    .dataframe tbody tr th {\n",
              "        vertical-align: top;\n",
              "    }\n",
              "\n",
              "    .dataframe thead th {\n",
              "        text-align: right;\n",
              "    }\n",
              "</style>\n",
              "<table border=\"1\" class=\"dataframe\">\n",
              "  <thead>\n",
              "    <tr style=\"text-align: right;\">\n",
              "      <th></th>\n",
              "      <th>username</th>\n",
              "      <th>comment/reply</th>\n",
              "      <th>time</th>\n",
              "      <th>likes</th>\n",
              "      <th>isReply</th>\n",
              "    </tr>\n",
              "  </thead>\n",
              "  <tbody>\n",
              "    <tr>\n",
              "      <th>0</th>\n",
              "      <td>@JustinSung</td>\n",
              "      <td>Join my Learning Drops weekly newsletter here: https://bit.ly/4c15rqY\\nEvery week, I distil what really works for improving results, memory, depth of understanding, and knowledge application from over a decade of coaching into bite-sized emails.</td>\n",
              "      <td>1 year ago</td>\n",
              "      <td>7</td>\n",
              "      <td>False</td>\n",
              "    </tr>\n",
              "    <tr>\n",
              "      <th>1</th>\n",
              "      <td>@vikshi</td>\n",
              "      <td>Hardwork beats talent when talent doesn't work hard.</td>\n",
              "      <td>1 year ago</td>\n",
              "      <td>2.1K</td>\n",
              "      <td>False</td>\n",
              "    </tr>\n",
              "    <tr>\n",
              "      <th>2</th>\n",
              "      <td>@julesinmed</td>\n",
              "      <td>Personally, I think hard work should lead to smart work. We tend to associate the term hard work with concepts like long hours, lack of sleep and exhaustion, while it would be more useful if these circumstances were seen as a ''prompt'' to find a way to work smarter (simply to avoid being crushed by them, following natural evolution and self-preservation). Also, the process of simplification is itself ''hard work'', just not in the conventional, general view!</td>\n",
              "      <td>1 year ago (edited)</td>\n",
              "      <td>1.3K</td>\n",
              "      <td>False</td>\n",
              "    </tr>\n",
              "    <tr>\n",
              "      <th>3</th>\n",
              "      <td>@alphaomega6023</td>\n",
              "      <td>4:21 1. Hard work has diminishing returns\\r\\n6:27 2. Effort is fuel\\r\\n10:29 3. Hard work is also about the type of work that you do\\r\\n12:22 Two things to do to solve this</td>\n",
              "      <td>1 year ago</td>\n",
              "      <td>372</td>\n",
              "      <td>False</td>\n",
              "    </tr>\n",
              "    <tr>\n",
              "      <th>4</th>\n",
              "      <td>@eagle772</td>\n",
              "      <td>“Talent is just the natural ability for someone to intuitively use more optimal processes.” \\n\\nWow, that is some deep insight!\\n\\nIt basically means, you need to discover the optimal processes that will give you the desired results . And then train yourself on making them intuitive; second nature. \\n\\nThen keep upgrading them. So you are able to do more with less. \\n\\nThank you Justin! You have literally changed my life. \\n\\nThank you brother!</td>\n",
              "      <td>1 year ago</td>\n",
              "      <td>916</td>\n",
              "      <td>False</td>\n",
              "    </tr>\n",
              "  </tbody>\n",
              "</table>\n",
              "</div>\n",
              "    <div class=\"colab-df-buttons\">\n",
              "\n",
              "  <div class=\"colab-df-container\">\n",
              "    <button class=\"colab-df-convert\" onclick=\"convertToInteractive('df-49d294aa-d6e2-45b0-86f1-6bff3ac41e36')\"\n",
              "            title=\"Convert this dataframe to an interactive table.\"\n",
              "            style=\"display:none;\">\n",
              "\n",
              "  <svg xmlns=\"http://www.w3.org/2000/svg\" height=\"24px\" viewBox=\"0 -960 960 960\">\n",
              "    <path d=\"M120-120v-720h720v720H120Zm60-500h600v-160H180v160Zm220 220h160v-160H400v160Zm0 220h160v-160H400v160ZM180-400h160v-160H180v160Zm440 0h160v-160H620v160ZM180-180h160v-160H180v160Zm440 0h160v-160H620v160Z\"/>\n",
              "  </svg>\n",
              "    </button>\n",
              "\n",
              "  <style>\n",
              "    .colab-df-container {\n",
              "      display:flex;\n",
              "      gap: 12px;\n",
              "    }\n",
              "\n",
              "    .colab-df-convert {\n",
              "      background-color: #E8F0FE;\n",
              "      border: none;\n",
              "      border-radius: 50%;\n",
              "      cursor: pointer;\n",
              "      display: none;\n",
              "      fill: #1967D2;\n",
              "      height: 32px;\n",
              "      padding: 0 0 0 0;\n",
              "      width: 32px;\n",
              "    }\n",
              "\n",
              "    .colab-df-convert:hover {\n",
              "      background-color: #E2EBFA;\n",
              "      box-shadow: 0px 1px 2px rgba(60, 64, 67, 0.3), 0px 1px 3px 1px rgba(60, 64, 67, 0.15);\n",
              "      fill: #174EA6;\n",
              "    }\n",
              "\n",
              "    .colab-df-buttons div {\n",
              "      margin-bottom: 4px;\n",
              "    }\n",
              "\n",
              "    [theme=dark] .colab-df-convert {\n",
              "      background-color: #3B4455;\n",
              "      fill: #D2E3FC;\n",
              "    }\n",
              "\n",
              "    [theme=dark] .colab-df-convert:hover {\n",
              "      background-color: #434B5C;\n",
              "      box-shadow: 0px 1px 3px 1px rgba(0, 0, 0, 0.15);\n",
              "      filter: drop-shadow(0px 1px 2px rgba(0, 0, 0, 0.3));\n",
              "      fill: #FFFFFF;\n",
              "    }\n",
              "  </style>\n",
              "\n",
              "    <script>\n",
              "      const buttonEl =\n",
              "        document.querySelector('#df-49d294aa-d6e2-45b0-86f1-6bff3ac41e36 button.colab-df-convert');\n",
              "      buttonEl.style.display =\n",
              "        google.colab.kernel.accessAllowed ? 'block' : 'none';\n",
              "\n",
              "      async function convertToInteractive(key) {\n",
              "        const element = document.querySelector('#df-49d294aa-d6e2-45b0-86f1-6bff3ac41e36');\n",
              "        const dataTable =\n",
              "          await google.colab.kernel.invokeFunction('convertToInteractive',\n",
              "                                                    [key], {});\n",
              "        if (!dataTable) return;\n",
              "\n",
              "        const docLinkHtml = 'Like what you see? Visit the ' +\n",
              "          '<a target=\"_blank\" href=https://colab.research.google.com/notebooks/data_table.ipynb>data table notebook</a>'\n",
              "          + ' to learn more about interactive tables.';\n",
              "        element.innerHTML = '';\n",
              "        dataTable['output_type'] = 'display_data';\n",
              "        await google.colab.output.renderOutput(dataTable, element);\n",
              "        const docLink = document.createElement('div');\n",
              "        docLink.innerHTML = docLinkHtml;\n",
              "        element.appendChild(docLink);\n",
              "      }\n",
              "    </script>\n",
              "  </div>\n",
              "\n",
              "\n",
              "    <div id=\"df-ed4e72c1-6987-4d87-909b-80773a644503\">\n",
              "      <button class=\"colab-df-quickchart\" onclick=\"quickchart('df-ed4e72c1-6987-4d87-909b-80773a644503')\"\n",
              "                title=\"Suggest charts\"\n",
              "                style=\"display:none;\">\n",
              "\n",
              "<svg xmlns=\"http://www.w3.org/2000/svg\" height=\"24px\"viewBox=\"0 0 24 24\"\n",
              "     width=\"24px\">\n",
              "    <g>\n",
              "        <path d=\"M19 3H5c-1.1 0-2 .9-2 2v14c0 1.1.9 2 2 2h14c1.1 0 2-.9 2-2V5c0-1.1-.9-2-2-2zM9 17H7v-7h2v7zm4 0h-2V7h2v10zm4 0h-2v-4h2v4z\"/>\n",
              "    </g>\n",
              "</svg>\n",
              "      </button>\n",
              "\n",
              "<style>\n",
              "  .colab-df-quickchart {\n",
              "      --bg-color: #E8F0FE;\n",
              "      --fill-color: #1967D2;\n",
              "      --hover-bg-color: #E2EBFA;\n",
              "      --hover-fill-color: #174EA6;\n",
              "      --disabled-fill-color: #AAA;\n",
              "      --disabled-bg-color: #DDD;\n",
              "  }\n",
              "\n",
              "  [theme=dark] .colab-df-quickchart {\n",
              "      --bg-color: #3B4455;\n",
              "      --fill-color: #D2E3FC;\n",
              "      --hover-bg-color: #434B5C;\n",
              "      --hover-fill-color: #FFFFFF;\n",
              "      --disabled-bg-color: #3B4455;\n",
              "      --disabled-fill-color: #666;\n",
              "  }\n",
              "\n",
              "  .colab-df-quickchart {\n",
              "    background-color: var(--bg-color);\n",
              "    border: none;\n",
              "    border-radius: 50%;\n",
              "    cursor: pointer;\n",
              "    display: none;\n",
              "    fill: var(--fill-color);\n",
              "    height: 32px;\n",
              "    padding: 0;\n",
              "    width: 32px;\n",
              "  }\n",
              "\n",
              "  .colab-df-quickchart:hover {\n",
              "    background-color: var(--hover-bg-color);\n",
              "    box-shadow: 0 1px 2px rgba(60, 64, 67, 0.3), 0 1px 3px 1px rgba(60, 64, 67, 0.15);\n",
              "    fill: var(--button-hover-fill-color);\n",
              "  }\n",
              "\n",
              "  .colab-df-quickchart-complete:disabled,\n",
              "  .colab-df-quickchart-complete:disabled:hover {\n",
              "    background-color: var(--disabled-bg-color);\n",
              "    fill: var(--disabled-fill-color);\n",
              "    box-shadow: none;\n",
              "  }\n",
              "\n",
              "  .colab-df-spinner {\n",
              "    border: 2px solid var(--fill-color);\n",
              "    border-color: transparent;\n",
              "    border-bottom-color: var(--fill-color);\n",
              "    animation:\n",
              "      spin 1s steps(1) infinite;\n",
              "  }\n",
              "\n",
              "  @keyframes spin {\n",
              "    0% {\n",
              "      border-color: transparent;\n",
              "      border-bottom-color: var(--fill-color);\n",
              "      border-left-color: var(--fill-color);\n",
              "    }\n",
              "    20% {\n",
              "      border-color: transparent;\n",
              "      border-left-color: var(--fill-color);\n",
              "      border-top-color: var(--fill-color);\n",
              "    }\n",
              "    30% {\n",
              "      border-color: transparent;\n",
              "      border-left-color: var(--fill-color);\n",
              "      border-top-color: var(--fill-color);\n",
              "      border-right-color: var(--fill-color);\n",
              "    }\n",
              "    40% {\n",
              "      border-color: transparent;\n",
              "      border-right-color: var(--fill-color);\n",
              "      border-top-color: var(--fill-color);\n",
              "    }\n",
              "    60% {\n",
              "      border-color: transparent;\n",
              "      border-right-color: var(--fill-color);\n",
              "    }\n",
              "    80% {\n",
              "      border-color: transparent;\n",
              "      border-right-color: var(--fill-color);\n",
              "      border-bottom-color: var(--fill-color);\n",
              "    }\n",
              "    90% {\n",
              "      border-color: transparent;\n",
              "      border-bottom-color: var(--fill-color);\n",
              "    }\n",
              "  }\n",
              "</style>\n",
              "\n",
              "      <script>\n",
              "        async function quickchart(key) {\n",
              "          const quickchartButtonEl =\n",
              "            document.querySelector('#' + key + ' button');\n",
              "          quickchartButtonEl.disabled = true;  // To prevent multiple clicks.\n",
              "          quickchartButtonEl.classList.add('colab-df-spinner');\n",
              "          try {\n",
              "            const charts = await google.colab.kernel.invokeFunction(\n",
              "                'suggestCharts', [key], {});\n",
              "          } catch (error) {\n",
              "            console.error('Error during call to suggestCharts:', error);\n",
              "          }\n",
              "          quickchartButtonEl.classList.remove('colab-df-spinner');\n",
              "          quickchartButtonEl.classList.add('colab-df-quickchart-complete');\n",
              "        }\n",
              "        (() => {\n",
              "          let quickchartButtonEl =\n",
              "            document.querySelector('#df-ed4e72c1-6987-4d87-909b-80773a644503 button');\n",
              "          quickchartButtonEl.style.display =\n",
              "            google.colab.kernel.accessAllowed ? 'block' : 'none';\n",
              "        })();\n",
              "      </script>\n",
              "    </div>\n",
              "\n",
              "    </div>\n",
              "  </div>\n"
            ],
            "application/vnd.google.colaboratory.intrinsic+json": {
              "type": "dataframe",
              "summary": "{\n  \"name\": \"display(df\",\n  \"rows\": 5,\n  \"fields\": [\n    {\n      \"column\": \"username\",\n      \"properties\": {\n        \"dtype\": \"string\",\n        \"num_unique_values\": 5,\n        \"samples\": [\n          \"@vikshi\",\n          \"@eagle772\",\n          \"@julesinmed\"\n        ],\n        \"semantic_type\": \"\",\n        \"description\": \"\"\n      }\n    },\n    {\n      \"column\": \"comment/reply\",\n      \"properties\": {\n        \"dtype\": \"string\",\n        \"num_unique_values\": 5,\n        \"samples\": [\n          \"Hardwork beats talent when talent doesn't work hard.\",\n          \"\\u201cTalent is just the natural ability for someone to intuitively use more optimal processes.\\u201d \\n\\nWow, that is some deep insight!\\n\\nIt basically means, you need to discover the optimal processes that will give you the desired results . And then train yourself on making them intuitive; second nature. \\n\\nThen keep upgrading them. So you are able to do more with less. \\n\\nThank you Justin! You have literally changed my life. \\n\\nThank you brother!\",\n          \"Personally, I think hard work should lead to smart work. We tend to associate the term hard work with concepts like long hours, lack of sleep and exhaustion, while it would be more useful if these circumstances were seen as a ''prompt'' to find a way to work smarter (simply to avoid being crushed by them, following natural evolution and self-preservation). Also, the process of simplification is itself ''hard work'', just not in the conventional, general view!\"\n        ],\n        \"semantic_type\": \"\",\n        \"description\": \"\"\n      }\n    },\n    {\n      \"column\": \"time\",\n      \"properties\": {\n        \"dtype\": \"category\",\n        \"num_unique_values\": 2,\n        \"samples\": [\n          \"1 year ago (edited)\",\n          \"1 year ago\"\n        ],\n        \"semantic_type\": \"\",\n        \"description\": \"\"\n      }\n    },\n    {\n      \"column\": \"likes\",\n      \"properties\": {\n        \"dtype\": \"string\",\n        \"num_unique_values\": 5,\n        \"samples\": [\n          \"2.1K\",\n          \"916\"\n        ],\n        \"semantic_type\": \"\",\n        \"description\": \"\"\n      }\n    },\n    {\n      \"column\": \"isReply\",\n      \"properties\": {\n        \"dtype\": \"boolean\",\n        \"num_unique_values\": 1,\n        \"samples\": [\n          false\n        ],\n        \"semantic_type\": \"\",\n        \"description\": \"\"\n      }\n    }\n  ]\n}"
            }
          },
          "metadata": {}
        }
      ]
    },
    {
      "cell_type": "markdown",
      "source": [
        "The raw dataset is saved for future reference."
      ],
      "metadata": {
        "id": "79jAArNrFeAS"
      }
    },
    {
      "cell_type": "code",
      "source": [
        "df.to_csv(\"raw_dataset.csv\", index=False)"
      ],
      "metadata": {
        "id": "ixzbjRuvWE-6"
      },
      "execution_count": null,
      "outputs": []
    },
    {
      "cell_type": "markdown",
      "source": [
        "# Initial Exploration\n",
        "\n",
        "In this section, I review the dataset's structure several data quality issues and formulate a plan to address them to prepare a cleaner and more reliable dataset for analysis."
      ],
      "metadata": {
        "id": "2cvbiBi2xLpm"
      }
    },
    {
      "cell_type": "code",
      "source": [
        "df = pd.read_csv(\"raw_dataset.csv\")"
      ],
      "metadata": {
        "id": "c6ILxKNIFsJg"
      },
      "execution_count": null,
      "outputs": []
    },
    {
      "cell_type": "code",
      "source": [
        "print(f\"Dataset shape: {df.shape[0]} rows and {df.shape[1]} columns.\")"
      ],
      "metadata": {
        "colab": {
          "base_uri": "https://localhost:8080/"
        },
        "id": "O8bTGt-lJ69d",
        "outputId": "bf53895b-5907-4621-9920-4003a5791e5c"
      },
      "execution_count": null,
      "outputs": [
        {
          "output_type": "stream",
          "name": "stdout",
          "text": [
            "Dataset shape: 972 rows and 5 columns.\n"
          ]
        }
      ]
    },
    {
      "cell_type": "markdown",
      "source": [
        "There are 972 comments in the raw dataset, each containing 5 insightful attributes, which are their username, comment/reply text, time, number of likes, and whether it is a reply."
      ],
      "metadata": {
        "id": "dw1fGxglHWmf"
      }
    },
    {
      "cell_type": "code",
      "source": [
        "print(\"First 5 comments:\")\n",
        "display(df.head())"
      ],
      "metadata": {
        "colab": {
          "base_uri": "https://localhost:8080/",
          "height": 328
        },
        "id": "Dqv6h3GyxqCK",
        "outputId": "fb6e57ff-1e43-484a-e30f-50361b736d71"
      },
      "execution_count": null,
      "outputs": [
        {
          "output_type": "stream",
          "name": "stdout",
          "text": [
            "First 5 comments:\n"
          ]
        },
        {
          "output_type": "display_data",
          "data": {
            "text/plain": [
              "          username  \\\n",
              "0      @JustinSung   \n",
              "1          @vikshi   \n",
              "2      @julesinmed   \n",
              "3  @alphaomega6023   \n",
              "4        @eagle772   \n",
              "\n",
              "                                                                                                                                                                                                                                                                                                                                                                                                                                                                     comment/reply  \\\n",
              "0                                                                                                                                                                                                                            Join my Learning Drops weekly newsletter here: https://bit.ly/4c15rqY\\nEvery week, I distil what really works for improving results, memory, depth of understanding, and knowledge application from over a decade of coaching into bite-sized emails.   \n",
              "1                                                                                                                                                                                                                                                                                                                                                                                                                             Hardwork beats talent when talent doesn't work hard.   \n",
              "2  Personally, I think hard work should lead to smart work. We tend to associate the term hard work with concepts like long hours, lack of sleep and exhaustion, while it would be more useful if these circumstances were seen as a ''prompt'' to find a way to work smarter (simply to avoid being crushed by them, following natural evolution and self-preservation). Also, the process of simplification is itself ''hard work'', just not in the conventional, general view!   \n",
              "3                                                                                                                                                                                                                                                                                                     4:21 1. Hard work has diminishing returns\\r\\n6:27 2. Effort is fuel\\r\\n10:29 3. Hard work is also about the type of work that you do\\r\\n12:22 Two things to do to solve this   \n",
              "4                 “Talent is just the natural ability for someone to intuitively use more optimal processes.” \\n\\nWow, that is some deep insight!\\n\\nIt basically means, you need to discover the optimal processes that will give you the desired results . And then train yourself on making them intuitive; second nature. \\n\\nThen keep upgrading them. So you are able to do more with less. \\n\\nThank you Justin! You have literally changed my life. \\n\\nThank you brother!   \n",
              "\n",
              "                  time likes  isReply  \n",
              "0           1 year ago     7    False  \n",
              "1           1 year ago  2.1K    False  \n",
              "2  1 year ago (edited)  1.3K    False  \n",
              "3           1 year ago   372    False  \n",
              "4           1 year ago   916    False  "
            ],
            "text/html": [
              "\n",
              "  <div id=\"df-427fcb58-2a4a-441b-8da3-e811a7dcfaa7\" class=\"colab-df-container\">\n",
              "    <div>\n",
              "<style scoped>\n",
              "    .dataframe tbody tr th:only-of-type {\n",
              "        vertical-align: middle;\n",
              "    }\n",
              "\n",
              "    .dataframe tbody tr th {\n",
              "        vertical-align: top;\n",
              "    }\n",
              "\n",
              "    .dataframe thead th {\n",
              "        text-align: right;\n",
              "    }\n",
              "</style>\n",
              "<table border=\"1\" class=\"dataframe\">\n",
              "  <thead>\n",
              "    <tr style=\"text-align: right;\">\n",
              "      <th></th>\n",
              "      <th>username</th>\n",
              "      <th>comment/reply</th>\n",
              "      <th>time</th>\n",
              "      <th>likes</th>\n",
              "      <th>isReply</th>\n",
              "    </tr>\n",
              "  </thead>\n",
              "  <tbody>\n",
              "    <tr>\n",
              "      <th>0</th>\n",
              "      <td>@JustinSung</td>\n",
              "      <td>Join my Learning Drops weekly newsletter here: https://bit.ly/4c15rqY\\nEvery week, I distil what really works for improving results, memory, depth of understanding, and knowledge application from over a decade of coaching into bite-sized emails.</td>\n",
              "      <td>1 year ago</td>\n",
              "      <td>7</td>\n",
              "      <td>False</td>\n",
              "    </tr>\n",
              "    <tr>\n",
              "      <th>1</th>\n",
              "      <td>@vikshi</td>\n",
              "      <td>Hardwork beats talent when talent doesn't work hard.</td>\n",
              "      <td>1 year ago</td>\n",
              "      <td>2.1K</td>\n",
              "      <td>False</td>\n",
              "    </tr>\n",
              "    <tr>\n",
              "      <th>2</th>\n",
              "      <td>@julesinmed</td>\n",
              "      <td>Personally, I think hard work should lead to smart work. We tend to associate the term hard work with concepts like long hours, lack of sleep and exhaustion, while it would be more useful if these circumstances were seen as a ''prompt'' to find a way to work smarter (simply to avoid being crushed by them, following natural evolution and self-preservation). Also, the process of simplification is itself ''hard work'', just not in the conventional, general view!</td>\n",
              "      <td>1 year ago (edited)</td>\n",
              "      <td>1.3K</td>\n",
              "      <td>False</td>\n",
              "    </tr>\n",
              "    <tr>\n",
              "      <th>3</th>\n",
              "      <td>@alphaomega6023</td>\n",
              "      <td>4:21 1. Hard work has diminishing returns\\r\\n6:27 2. Effort is fuel\\r\\n10:29 3. Hard work is also about the type of work that you do\\r\\n12:22 Two things to do to solve this</td>\n",
              "      <td>1 year ago</td>\n",
              "      <td>372</td>\n",
              "      <td>False</td>\n",
              "    </tr>\n",
              "    <tr>\n",
              "      <th>4</th>\n",
              "      <td>@eagle772</td>\n",
              "      <td>“Talent is just the natural ability for someone to intuitively use more optimal processes.” \\n\\nWow, that is some deep insight!\\n\\nIt basically means, you need to discover the optimal processes that will give you the desired results . And then train yourself on making them intuitive; second nature. \\n\\nThen keep upgrading them. So you are able to do more with less. \\n\\nThank you Justin! You have literally changed my life. \\n\\nThank you brother!</td>\n",
              "      <td>1 year ago</td>\n",
              "      <td>916</td>\n",
              "      <td>False</td>\n",
              "    </tr>\n",
              "  </tbody>\n",
              "</table>\n",
              "</div>\n",
              "    <div class=\"colab-df-buttons\">\n",
              "\n",
              "  <div class=\"colab-df-container\">\n",
              "    <button class=\"colab-df-convert\" onclick=\"convertToInteractive('df-427fcb58-2a4a-441b-8da3-e811a7dcfaa7')\"\n",
              "            title=\"Convert this dataframe to an interactive table.\"\n",
              "            style=\"display:none;\">\n",
              "\n",
              "  <svg xmlns=\"http://www.w3.org/2000/svg\" height=\"24px\" viewBox=\"0 -960 960 960\">\n",
              "    <path d=\"M120-120v-720h720v720H120Zm60-500h600v-160H180v160Zm220 220h160v-160H400v160Zm0 220h160v-160H400v160ZM180-400h160v-160H180v160Zm440 0h160v-160H620v160ZM180-180h160v-160H180v160Zm440 0h160v-160H620v160Z\"/>\n",
              "  </svg>\n",
              "    </button>\n",
              "\n",
              "  <style>\n",
              "    .colab-df-container {\n",
              "      display:flex;\n",
              "      gap: 12px;\n",
              "    }\n",
              "\n",
              "    .colab-df-convert {\n",
              "      background-color: #E8F0FE;\n",
              "      border: none;\n",
              "      border-radius: 50%;\n",
              "      cursor: pointer;\n",
              "      display: none;\n",
              "      fill: #1967D2;\n",
              "      height: 32px;\n",
              "      padding: 0 0 0 0;\n",
              "      width: 32px;\n",
              "    }\n",
              "\n",
              "    .colab-df-convert:hover {\n",
              "      background-color: #E2EBFA;\n",
              "      box-shadow: 0px 1px 2px rgba(60, 64, 67, 0.3), 0px 1px 3px 1px rgba(60, 64, 67, 0.15);\n",
              "      fill: #174EA6;\n",
              "    }\n",
              "\n",
              "    .colab-df-buttons div {\n",
              "      margin-bottom: 4px;\n",
              "    }\n",
              "\n",
              "    [theme=dark] .colab-df-convert {\n",
              "      background-color: #3B4455;\n",
              "      fill: #D2E3FC;\n",
              "    }\n",
              "\n",
              "    [theme=dark] .colab-df-convert:hover {\n",
              "      background-color: #434B5C;\n",
              "      box-shadow: 0px 1px 3px 1px rgba(0, 0, 0, 0.15);\n",
              "      filter: drop-shadow(0px 1px 2px rgba(0, 0, 0, 0.3));\n",
              "      fill: #FFFFFF;\n",
              "    }\n",
              "  </style>\n",
              "\n",
              "    <script>\n",
              "      const buttonEl =\n",
              "        document.querySelector('#df-427fcb58-2a4a-441b-8da3-e811a7dcfaa7 button.colab-df-convert');\n",
              "      buttonEl.style.display =\n",
              "        google.colab.kernel.accessAllowed ? 'block' : 'none';\n",
              "\n",
              "      async function convertToInteractive(key) {\n",
              "        const element = document.querySelector('#df-427fcb58-2a4a-441b-8da3-e811a7dcfaa7');\n",
              "        const dataTable =\n",
              "          await google.colab.kernel.invokeFunction('convertToInteractive',\n",
              "                                                    [key], {});\n",
              "        if (!dataTable) return;\n",
              "\n",
              "        const docLinkHtml = 'Like what you see? Visit the ' +\n",
              "          '<a target=\"_blank\" href=https://colab.research.google.com/notebooks/data_table.ipynb>data table notebook</a>'\n",
              "          + ' to learn more about interactive tables.';\n",
              "        element.innerHTML = '';\n",
              "        dataTable['output_type'] = 'display_data';\n",
              "        await google.colab.output.renderOutput(dataTable, element);\n",
              "        const docLink = document.createElement('div');\n",
              "        docLink.innerHTML = docLinkHtml;\n",
              "        element.appendChild(docLink);\n",
              "      }\n",
              "    </script>\n",
              "  </div>\n",
              "\n",
              "\n",
              "    <div id=\"df-d03ddb7d-4d5c-4f16-929b-9b5482f7fabb\">\n",
              "      <button class=\"colab-df-quickchart\" onclick=\"quickchart('df-d03ddb7d-4d5c-4f16-929b-9b5482f7fabb')\"\n",
              "                title=\"Suggest charts\"\n",
              "                style=\"display:none;\">\n",
              "\n",
              "<svg xmlns=\"http://www.w3.org/2000/svg\" height=\"24px\"viewBox=\"0 0 24 24\"\n",
              "     width=\"24px\">\n",
              "    <g>\n",
              "        <path d=\"M19 3H5c-1.1 0-2 .9-2 2v14c0 1.1.9 2 2 2h14c1.1 0 2-.9 2-2V5c0-1.1-.9-2-2-2zM9 17H7v-7h2v7zm4 0h-2V7h2v10zm4 0h-2v-4h2v4z\"/>\n",
              "    </g>\n",
              "</svg>\n",
              "      </button>\n",
              "\n",
              "<style>\n",
              "  .colab-df-quickchart {\n",
              "      --bg-color: #E8F0FE;\n",
              "      --fill-color: #1967D2;\n",
              "      --hover-bg-color: #E2EBFA;\n",
              "      --hover-fill-color: #174EA6;\n",
              "      --disabled-fill-color: #AAA;\n",
              "      --disabled-bg-color: #DDD;\n",
              "  }\n",
              "\n",
              "  [theme=dark] .colab-df-quickchart {\n",
              "      --bg-color: #3B4455;\n",
              "      --fill-color: #D2E3FC;\n",
              "      --hover-bg-color: #434B5C;\n",
              "      --hover-fill-color: #FFFFFF;\n",
              "      --disabled-bg-color: #3B4455;\n",
              "      --disabled-fill-color: #666;\n",
              "  }\n",
              "\n",
              "  .colab-df-quickchart {\n",
              "    background-color: var(--bg-color);\n",
              "    border: none;\n",
              "    border-radius: 50%;\n",
              "    cursor: pointer;\n",
              "    display: none;\n",
              "    fill: var(--fill-color);\n",
              "    height: 32px;\n",
              "    padding: 0;\n",
              "    width: 32px;\n",
              "  }\n",
              "\n",
              "  .colab-df-quickchart:hover {\n",
              "    background-color: var(--hover-bg-color);\n",
              "    box-shadow: 0 1px 2px rgba(60, 64, 67, 0.3), 0 1px 3px 1px rgba(60, 64, 67, 0.15);\n",
              "    fill: var(--button-hover-fill-color);\n",
              "  }\n",
              "\n",
              "  .colab-df-quickchart-complete:disabled,\n",
              "  .colab-df-quickchart-complete:disabled:hover {\n",
              "    background-color: var(--disabled-bg-color);\n",
              "    fill: var(--disabled-fill-color);\n",
              "    box-shadow: none;\n",
              "  }\n",
              "\n",
              "  .colab-df-spinner {\n",
              "    border: 2px solid var(--fill-color);\n",
              "    border-color: transparent;\n",
              "    border-bottom-color: var(--fill-color);\n",
              "    animation:\n",
              "      spin 1s steps(1) infinite;\n",
              "  }\n",
              "\n",
              "  @keyframes spin {\n",
              "    0% {\n",
              "      border-color: transparent;\n",
              "      border-bottom-color: var(--fill-color);\n",
              "      border-left-color: var(--fill-color);\n",
              "    }\n",
              "    20% {\n",
              "      border-color: transparent;\n",
              "      border-left-color: var(--fill-color);\n",
              "      border-top-color: var(--fill-color);\n",
              "    }\n",
              "    30% {\n",
              "      border-color: transparent;\n",
              "      border-left-color: var(--fill-color);\n",
              "      border-top-color: var(--fill-color);\n",
              "      border-right-color: var(--fill-color);\n",
              "    }\n",
              "    40% {\n",
              "      border-color: transparent;\n",
              "      border-right-color: var(--fill-color);\n",
              "      border-top-color: var(--fill-color);\n",
              "    }\n",
              "    60% {\n",
              "      border-color: transparent;\n",
              "      border-right-color: var(--fill-color);\n",
              "    }\n",
              "    80% {\n",
              "      border-color: transparent;\n",
              "      border-right-color: var(--fill-color);\n",
              "      border-bottom-color: var(--fill-color);\n",
              "    }\n",
              "    90% {\n",
              "      border-color: transparent;\n",
              "      border-bottom-color: var(--fill-color);\n",
              "    }\n",
              "  }\n",
              "</style>\n",
              "\n",
              "      <script>\n",
              "        async function quickchart(key) {\n",
              "          const quickchartButtonEl =\n",
              "            document.querySelector('#' + key + ' button');\n",
              "          quickchartButtonEl.disabled = true;  // To prevent multiple clicks.\n",
              "          quickchartButtonEl.classList.add('colab-df-spinner');\n",
              "          try {\n",
              "            const charts = await google.colab.kernel.invokeFunction(\n",
              "                'suggestCharts', [key], {});\n",
              "          } catch (error) {\n",
              "            console.error('Error during call to suggestCharts:', error);\n",
              "          }\n",
              "          quickchartButtonEl.classList.remove('colab-df-spinner');\n",
              "          quickchartButtonEl.classList.add('colab-df-quickchart-complete');\n",
              "        }\n",
              "        (() => {\n",
              "          let quickchartButtonEl =\n",
              "            document.querySelector('#df-d03ddb7d-4d5c-4f16-929b-9b5482f7fabb button');\n",
              "          quickchartButtonEl.style.display =\n",
              "            google.colab.kernel.accessAllowed ? 'block' : 'none';\n",
              "        })();\n",
              "      </script>\n",
              "    </div>\n",
              "\n",
              "    </div>\n",
              "  </div>\n"
            ],
            "application/vnd.google.colaboratory.intrinsic+json": {
              "type": "dataframe",
              "summary": "{\n  \"name\": \"display(df\",\n  \"rows\": 5,\n  \"fields\": [\n    {\n      \"column\": \"username\",\n      \"properties\": {\n        \"dtype\": \"string\",\n        \"num_unique_values\": 5,\n        \"samples\": [\n          \"@vikshi\",\n          \"@eagle772\",\n          \"@julesinmed\"\n        ],\n        \"semantic_type\": \"\",\n        \"description\": \"\"\n      }\n    },\n    {\n      \"column\": \"comment/reply\",\n      \"properties\": {\n        \"dtype\": \"string\",\n        \"num_unique_values\": 5,\n        \"samples\": [\n          \"Hardwork beats talent when talent doesn't work hard.\",\n          \"\\u201cTalent is just the natural ability for someone to intuitively use more optimal processes.\\u201d \\n\\nWow, that is some deep insight!\\n\\nIt basically means, you need to discover the optimal processes that will give you the desired results . And then train yourself on making them intuitive; second nature. \\n\\nThen keep upgrading them. So you are able to do more with less. \\n\\nThank you Justin! You have literally changed my life. \\n\\nThank you brother!\",\n          \"Personally, I think hard work should lead to smart work. We tend to associate the term hard work with concepts like long hours, lack of sleep and exhaustion, while it would be more useful if these circumstances were seen as a ''prompt'' to find a way to work smarter (simply to avoid being crushed by them, following natural evolution and self-preservation). Also, the process of simplification is itself ''hard work'', just not in the conventional, general view!\"\n        ],\n        \"semantic_type\": \"\",\n        \"description\": \"\"\n      }\n    },\n    {\n      \"column\": \"time\",\n      \"properties\": {\n        \"dtype\": \"category\",\n        \"num_unique_values\": 2,\n        \"samples\": [\n          \"1 year ago (edited)\",\n          \"1 year ago\"\n        ],\n        \"semantic_type\": \"\",\n        \"description\": \"\"\n      }\n    },\n    {\n      \"column\": \"likes\",\n      \"properties\": {\n        \"dtype\": \"string\",\n        \"num_unique_values\": 5,\n        \"samples\": [\n          \"2.1K\",\n          \"916\"\n        ],\n        \"semantic_type\": \"\",\n        \"description\": \"\"\n      }\n    },\n    {\n      \"column\": \"isReply\",\n      \"properties\": {\n        \"dtype\": \"boolean\",\n        \"num_unique_values\": 1,\n        \"samples\": [\n          false\n        ],\n        \"semantic_type\": \"\",\n        \"description\": \"\"\n      }\n    }\n  ]\n}"
            }
          },
          "metadata": {}
        }
      ]
    },
    {
      "cell_type": "markdown",
      "source": [
        "The first comment is actually from the creator himself, @JustinSung, which makes me wonder whether he interacts with his audience as well. If he does, it might present a problem for my analysis. Since my goal is to analyze audience perspectives, **including the creator's own comment could introduce bias or skew the results because it might reflect an inherent confirmation of the video's message**, not an independent reaction like those from viewers. Therefore, identifying and filtering comments from @JustinSung is necessary to ensure the analysis reflects only the audience's viewpoints."
      ],
      "metadata": {
        "id": "GT1EkIeqKDOQ"
      }
    },
    {
      "cell_type": "code",
      "source": [
        "author_comments = df[df['username'] == '@JustinSung']\n",
        "print(f\"Number of comments from @JustinSung: {len(author_comments)}\")\n",
        "print(\"First 6 comments from @JustinSung\")\n",
        "display(author_comments.head(6))"
      ],
      "metadata": {
        "colab": {
          "base_uri": "https://localhost:8080/",
          "height": 376
        },
        "id": "HEMW8j8s8SPb",
        "outputId": "f030a1ed-2a2a-453c-d03e-4e195c5cf112"
      },
      "execution_count": null,
      "outputs": [
        {
          "output_type": "stream",
          "name": "stdout",
          "text": [
            "Number of comments from @JustinSung: 37\n",
            "First 6 comments from @JustinSung\n"
          ]
        },
        {
          "output_type": "display_data",
          "data": {
            "text/plain": [
              "        username  \\\n",
              "0    @JustinSung   \n",
              "27   @JustinSung   \n",
              "87   @JustinSung   \n",
              "112  @JustinSung   \n",
              "136  @JustinSung   \n",
              "139  @JustinSung   \n",
              "\n",
              "                                                                                                                                                                                                                                             comment/reply  \\\n",
              "0    Join my Learning Drops weekly newsletter here: https://bit.ly/4c15rqY\\nEvery week, I distil what really works for improving results, memory, depth of understanding, and knowledge application from over a decade of coaching into bite-sized emails.   \n",
              "27                                                                                                                                                                                                                                         Succinctly put.   \n",
              "87                                                                                                                                                                                                                              I love it - totally agree.   \n",
              "112                                                                                                                                                                                                                              You absolutely nailed it.   \n",
              "136                                                                                                                                   I wonder how many people completely skipped over this part of the video? I really think it's a pivotal life concept.   \n",
              "139                                                                        yep when you do the right thing, hard work is still an option that remains open for you. But without doing the right thing, hard work blocks you from learning the right thing.   \n",
              "\n",
              "           time likes  isReply  \n",
              "0    1 year ago     7    False  \n",
              "27   1 year ago   133     True  \n",
              "87   1 year ago   113     True  \n",
              "112  1 year ago    49     True  \n",
              "136  1 year ago    22     True  \n",
              "139  1 year ago   103     True  "
            ],
            "text/html": [
              "\n",
              "  <div id=\"df-7aed75eb-0f38-4fa6-801c-22c7d8d8c88f\" class=\"colab-df-container\">\n",
              "    <div>\n",
              "<style scoped>\n",
              "    .dataframe tbody tr th:only-of-type {\n",
              "        vertical-align: middle;\n",
              "    }\n",
              "\n",
              "    .dataframe tbody tr th {\n",
              "        vertical-align: top;\n",
              "    }\n",
              "\n",
              "    .dataframe thead th {\n",
              "        text-align: right;\n",
              "    }\n",
              "</style>\n",
              "<table border=\"1\" class=\"dataframe\">\n",
              "  <thead>\n",
              "    <tr style=\"text-align: right;\">\n",
              "      <th></th>\n",
              "      <th>username</th>\n",
              "      <th>comment/reply</th>\n",
              "      <th>time</th>\n",
              "      <th>likes</th>\n",
              "      <th>isReply</th>\n",
              "    </tr>\n",
              "  </thead>\n",
              "  <tbody>\n",
              "    <tr>\n",
              "      <th>0</th>\n",
              "      <td>@JustinSung</td>\n",
              "      <td>Join my Learning Drops weekly newsletter here: https://bit.ly/4c15rqY\\nEvery week, I distil what really works for improving results, memory, depth of understanding, and knowledge application from over a decade of coaching into bite-sized emails.</td>\n",
              "      <td>1 year ago</td>\n",
              "      <td>7</td>\n",
              "      <td>False</td>\n",
              "    </tr>\n",
              "    <tr>\n",
              "      <th>27</th>\n",
              "      <td>@JustinSung</td>\n",
              "      <td>Succinctly put.</td>\n",
              "      <td>1 year ago</td>\n",
              "      <td>133</td>\n",
              "      <td>True</td>\n",
              "    </tr>\n",
              "    <tr>\n",
              "      <th>87</th>\n",
              "      <td>@JustinSung</td>\n",
              "      <td>I love it - totally agree.</td>\n",
              "      <td>1 year ago</td>\n",
              "      <td>113</td>\n",
              "      <td>True</td>\n",
              "    </tr>\n",
              "    <tr>\n",
              "      <th>112</th>\n",
              "      <td>@JustinSung</td>\n",
              "      <td>You absolutely nailed it.</td>\n",
              "      <td>1 year ago</td>\n",
              "      <td>49</td>\n",
              "      <td>True</td>\n",
              "    </tr>\n",
              "    <tr>\n",
              "      <th>136</th>\n",
              "      <td>@JustinSung</td>\n",
              "      <td>I wonder how many people completely skipped over this part of the video? I really think it's a pivotal life concept.</td>\n",
              "      <td>1 year ago</td>\n",
              "      <td>22</td>\n",
              "      <td>True</td>\n",
              "    </tr>\n",
              "    <tr>\n",
              "      <th>139</th>\n",
              "      <td>@JustinSung</td>\n",
              "      <td>yep when you do the right thing, hard work is still an option that remains open for you. But without doing the right thing, hard work blocks you from learning the right thing.</td>\n",
              "      <td>1 year ago</td>\n",
              "      <td>103</td>\n",
              "      <td>True</td>\n",
              "    </tr>\n",
              "  </tbody>\n",
              "</table>\n",
              "</div>\n",
              "    <div class=\"colab-df-buttons\">\n",
              "\n",
              "  <div class=\"colab-df-container\">\n",
              "    <button class=\"colab-df-convert\" onclick=\"convertToInteractive('df-7aed75eb-0f38-4fa6-801c-22c7d8d8c88f')\"\n",
              "            title=\"Convert this dataframe to an interactive table.\"\n",
              "            style=\"display:none;\">\n",
              "\n",
              "  <svg xmlns=\"http://www.w3.org/2000/svg\" height=\"24px\" viewBox=\"0 -960 960 960\">\n",
              "    <path d=\"M120-120v-720h720v720H120Zm60-500h600v-160H180v160Zm220 220h160v-160H400v160Zm0 220h160v-160H400v160ZM180-400h160v-160H180v160Zm440 0h160v-160H620v160ZM180-180h160v-160H180v160Zm440 0h160v-160H620v160Z\"/>\n",
              "  </svg>\n",
              "    </button>\n",
              "\n",
              "  <style>\n",
              "    .colab-df-container {\n",
              "      display:flex;\n",
              "      gap: 12px;\n",
              "    }\n",
              "\n",
              "    .colab-df-convert {\n",
              "      background-color: #E8F0FE;\n",
              "      border: none;\n",
              "      border-radius: 50%;\n",
              "      cursor: pointer;\n",
              "      display: none;\n",
              "      fill: #1967D2;\n",
              "      height: 32px;\n",
              "      padding: 0 0 0 0;\n",
              "      width: 32px;\n",
              "    }\n",
              "\n",
              "    .colab-df-convert:hover {\n",
              "      background-color: #E2EBFA;\n",
              "      box-shadow: 0px 1px 2px rgba(60, 64, 67, 0.3), 0px 1px 3px 1px rgba(60, 64, 67, 0.15);\n",
              "      fill: #174EA6;\n",
              "    }\n",
              "\n",
              "    .colab-df-buttons div {\n",
              "      margin-bottom: 4px;\n",
              "    }\n",
              "\n",
              "    [theme=dark] .colab-df-convert {\n",
              "      background-color: #3B4455;\n",
              "      fill: #D2E3FC;\n",
              "    }\n",
              "\n",
              "    [theme=dark] .colab-df-convert:hover {\n",
              "      background-color: #434B5C;\n",
              "      box-shadow: 0px 1px 3px 1px rgba(0, 0, 0, 0.15);\n",
              "      filter: drop-shadow(0px 1px 2px rgba(0, 0, 0, 0.3));\n",
              "      fill: #FFFFFF;\n",
              "    }\n",
              "  </style>\n",
              "\n",
              "    <script>\n",
              "      const buttonEl =\n",
              "        document.querySelector('#df-7aed75eb-0f38-4fa6-801c-22c7d8d8c88f button.colab-df-convert');\n",
              "      buttonEl.style.display =\n",
              "        google.colab.kernel.accessAllowed ? 'block' : 'none';\n",
              "\n",
              "      async function convertToInteractive(key) {\n",
              "        const element = document.querySelector('#df-7aed75eb-0f38-4fa6-801c-22c7d8d8c88f');\n",
              "        const dataTable =\n",
              "          await google.colab.kernel.invokeFunction('convertToInteractive',\n",
              "                                                    [key], {});\n",
              "        if (!dataTable) return;\n",
              "\n",
              "        const docLinkHtml = 'Like what you see? Visit the ' +\n",
              "          '<a target=\"_blank\" href=https://colab.research.google.com/notebooks/data_table.ipynb>data table notebook</a>'\n",
              "          + ' to learn more about interactive tables.';\n",
              "        element.innerHTML = '';\n",
              "        dataTable['output_type'] = 'display_data';\n",
              "        await google.colab.output.renderOutput(dataTable, element);\n",
              "        const docLink = document.createElement('div');\n",
              "        docLink.innerHTML = docLinkHtml;\n",
              "        element.appendChild(docLink);\n",
              "      }\n",
              "    </script>\n",
              "  </div>\n",
              "\n",
              "\n",
              "    <div id=\"df-d264c404-9c64-4065-b8ce-1f97436f9338\">\n",
              "      <button class=\"colab-df-quickchart\" onclick=\"quickchart('df-d264c404-9c64-4065-b8ce-1f97436f9338')\"\n",
              "                title=\"Suggest charts\"\n",
              "                style=\"display:none;\">\n",
              "\n",
              "<svg xmlns=\"http://www.w3.org/2000/svg\" height=\"24px\"viewBox=\"0 0 24 24\"\n",
              "     width=\"24px\">\n",
              "    <g>\n",
              "        <path d=\"M19 3H5c-1.1 0-2 .9-2 2v14c0 1.1.9 2 2 2h14c1.1 0 2-.9 2-2V5c0-1.1-.9-2-2-2zM9 17H7v-7h2v7zm4 0h-2V7h2v10zm4 0h-2v-4h2v4z\"/>\n",
              "    </g>\n",
              "</svg>\n",
              "      </button>\n",
              "\n",
              "<style>\n",
              "  .colab-df-quickchart {\n",
              "      --bg-color: #E8F0FE;\n",
              "      --fill-color: #1967D2;\n",
              "      --hover-bg-color: #E2EBFA;\n",
              "      --hover-fill-color: #174EA6;\n",
              "      --disabled-fill-color: #AAA;\n",
              "      --disabled-bg-color: #DDD;\n",
              "  }\n",
              "\n",
              "  [theme=dark] .colab-df-quickchart {\n",
              "      --bg-color: #3B4455;\n",
              "      --fill-color: #D2E3FC;\n",
              "      --hover-bg-color: #434B5C;\n",
              "      --hover-fill-color: #FFFFFF;\n",
              "      --disabled-bg-color: #3B4455;\n",
              "      --disabled-fill-color: #666;\n",
              "  }\n",
              "\n",
              "  .colab-df-quickchart {\n",
              "    background-color: var(--bg-color);\n",
              "    border: none;\n",
              "    border-radius: 50%;\n",
              "    cursor: pointer;\n",
              "    display: none;\n",
              "    fill: var(--fill-color);\n",
              "    height: 32px;\n",
              "    padding: 0;\n",
              "    width: 32px;\n",
              "  }\n",
              "\n",
              "  .colab-df-quickchart:hover {\n",
              "    background-color: var(--hover-bg-color);\n",
              "    box-shadow: 0 1px 2px rgba(60, 64, 67, 0.3), 0 1px 3px 1px rgba(60, 64, 67, 0.15);\n",
              "    fill: var(--button-hover-fill-color);\n",
              "  }\n",
              "\n",
              "  .colab-df-quickchart-complete:disabled,\n",
              "  .colab-df-quickchart-complete:disabled:hover {\n",
              "    background-color: var(--disabled-bg-color);\n",
              "    fill: var(--disabled-fill-color);\n",
              "    box-shadow: none;\n",
              "  }\n",
              "\n",
              "  .colab-df-spinner {\n",
              "    border: 2px solid var(--fill-color);\n",
              "    border-color: transparent;\n",
              "    border-bottom-color: var(--fill-color);\n",
              "    animation:\n",
              "      spin 1s steps(1) infinite;\n",
              "  }\n",
              "\n",
              "  @keyframes spin {\n",
              "    0% {\n",
              "      border-color: transparent;\n",
              "      border-bottom-color: var(--fill-color);\n",
              "      border-left-color: var(--fill-color);\n",
              "    }\n",
              "    20% {\n",
              "      border-color: transparent;\n",
              "      border-left-color: var(--fill-color);\n",
              "      border-top-color: var(--fill-color);\n",
              "    }\n",
              "    30% {\n",
              "      border-color: transparent;\n",
              "      border-left-color: var(--fill-color);\n",
              "      border-top-color: var(--fill-color);\n",
              "      border-right-color: var(--fill-color);\n",
              "    }\n",
              "    40% {\n",
              "      border-color: transparent;\n",
              "      border-right-color: var(--fill-color);\n",
              "      border-top-color: var(--fill-color);\n",
              "    }\n",
              "    60% {\n",
              "      border-color: transparent;\n",
              "      border-right-color: var(--fill-color);\n",
              "    }\n",
              "    80% {\n",
              "      border-color: transparent;\n",
              "      border-right-color: var(--fill-color);\n",
              "      border-bottom-color: var(--fill-color);\n",
              "    }\n",
              "    90% {\n",
              "      border-color: transparent;\n",
              "      border-bottom-color: var(--fill-color);\n",
              "    }\n",
              "  }\n",
              "</style>\n",
              "\n",
              "      <script>\n",
              "        async function quickchart(key) {\n",
              "          const quickchartButtonEl =\n",
              "            document.querySelector('#' + key + ' button');\n",
              "          quickchartButtonEl.disabled = true;  // To prevent multiple clicks.\n",
              "          quickchartButtonEl.classList.add('colab-df-spinner');\n",
              "          try {\n",
              "            const charts = await google.colab.kernel.invokeFunction(\n",
              "                'suggestCharts', [key], {});\n",
              "          } catch (error) {\n",
              "            console.error('Error during call to suggestCharts:', error);\n",
              "          }\n",
              "          quickchartButtonEl.classList.remove('colab-df-spinner');\n",
              "          quickchartButtonEl.classList.add('colab-df-quickchart-complete');\n",
              "        }\n",
              "        (() => {\n",
              "          let quickchartButtonEl =\n",
              "            document.querySelector('#df-d264c404-9c64-4065-b8ce-1f97436f9338 button');\n",
              "          quickchartButtonEl.style.display =\n",
              "            google.colab.kernel.accessAllowed ? 'block' : 'none';\n",
              "        })();\n",
              "      </script>\n",
              "    </div>\n",
              "\n",
              "    </div>\n",
              "  </div>\n"
            ],
            "application/vnd.google.colaboratory.intrinsic+json": {
              "type": "dataframe",
              "summary": "{\n  \"name\": \"display(author_comments\",\n  \"rows\": 6,\n  \"fields\": [\n    {\n      \"column\": \"username\",\n      \"properties\": {\n        \"dtype\": \"category\",\n        \"num_unique_values\": 1,\n        \"samples\": [\n          \"@JustinSung\"\n        ],\n        \"semantic_type\": \"\",\n        \"description\": \"\"\n      }\n    },\n    {\n      \"column\": \"comment/reply\",\n      \"properties\": {\n        \"dtype\": \"string\",\n        \"num_unique_values\": 6,\n        \"samples\": [\n          \"Join my Learning Drops weekly newsletter here: https://bit.ly/4c15rqY\\nEvery week, I distil what really works for improving results, memory, depth of understanding, and knowledge application from over a decade of coaching into bite-sized emails.\"\n        ],\n        \"semantic_type\": \"\",\n        \"description\": \"\"\n      }\n    },\n    {\n      \"column\": \"time\",\n      \"properties\": {\n        \"dtype\": \"category\",\n        \"num_unique_values\": 1,\n        \"samples\": [\n          \"1 year ago\"\n        ],\n        \"semantic_type\": \"\",\n        \"description\": \"\"\n      }\n    },\n    {\n      \"column\": \"likes\",\n      \"properties\": {\n        \"dtype\": \"string\",\n        \"num_unique_values\": 6,\n        \"samples\": [\n          \"7\"\n        ],\n        \"semantic_type\": \"\",\n        \"description\": \"\"\n      }\n    },\n    {\n      \"column\": \"isReply\",\n      \"properties\": {\n        \"dtype\": \"boolean\",\n        \"num_unique_values\": 2,\n        \"samples\": [\n          true\n        ],\n        \"semantic_type\": \"\",\n        \"description\": \"\"\n      }\n    }\n  ]\n}"
            }
          },
          "metadata": {}
        }
      ]
    },
    {
      "cell_type": "markdown",
      "source": [
        "There are 37 comments/replies from @JustinSung, some of which contributes to the debate of hardwork vs talent. To maintain analytical integrity and focus solely on external audience perspectives, I will drop all comments made by @JustinSung from the dataset."
      ],
      "metadata": {
        "id": "AJKoUTyuKRNs"
      }
    },
    {
      "cell_type": "code",
      "source": [
        "df.info()"
      ],
      "metadata": {
        "colab": {
          "base_uri": "https://localhost:8080/"
        },
        "id": "rgyVWB9b1qRq",
        "outputId": "a83ed106-90e9-483e-cebb-80d985a98ecc"
      },
      "execution_count": null,
      "outputs": [
        {
          "output_type": "stream",
          "name": "stdout",
          "text": [
            "<class 'pandas.core.frame.DataFrame'>\n",
            "RangeIndex: 972 entries, 0 to 971\n",
            "Data columns (total 5 columns):\n",
            " #   Column         Non-Null Count  Dtype \n",
            "---  ------         --------------  ----- \n",
            " 0   username       972 non-null    object\n",
            " 1   comment/reply  972 non-null    object\n",
            " 2   time           972 non-null    object\n",
            " 3   likes          972 non-null    object\n",
            " 4   isReply        972 non-null    bool  \n",
            "dtypes: bool(1), object(4)\n",
            "memory usage: 31.5+ KB\n"
          ]
        }
      ]
    },
    {
      "cell_type": "markdown",
      "source": [
        "All columns in the dataset have 972 non-null entires, which matches the total number of rows, indicating that there are **no missing values**.\n",
        "\n",
        "However, **both the `time` and `likes` columns are stored as object types**, which makes them difficult to work with during analysis, as object types prevent direct sorting (especially sorting by chronological order) or numerical computation (especially aggregating by likes). Hence, they require additional preprocessing such as converting `time` as an ordinal data type and `likes` as integers."
      ],
      "metadata": {
        "id": "T_Bf-op_LkOX"
      }
    },
    {
      "cell_type": "code",
      "source": [
        "print(\"unique time:\")\n",
        "print(df['time'].unique().tolist())"
      ],
      "metadata": {
        "colab": {
          "base_uri": "https://localhost:8080/"
        },
        "id": "LwMOqpDS3gXn",
        "outputId": "d4b5ca13-0baf-489d-c71e-a4702e25dc15"
      },
      "execution_count": null,
      "outputs": [
        {
          "output_type": "stream",
          "name": "stdout",
          "text": [
            "unique time:\n",
            "['1 year ago', '1 year ago (edited)', '10 months ago', '9 months ago', '8 months ago', '7 months ago', '6 months ago', '5 months ago', '1 month ago', '5 months ago (edited)', '3 months ago', '11 months ago', '2 days ago', '9 days ago', '11 days ago', '1 month ago (edited)', '4 months ago', '4 months ago (edited)', '2 months ago', '2 weeks ago', '17 hours ago', '6 months ago (edited)', '3 weeks ago', '4 weeks ago']\n"
          ]
        }
      ]
    },
    {
      "cell_type": "markdown",
      "source": [
        "An additional problem in the `time` column is that **some entries include the string '(edited)' which introduces inconsistency in format**. To address this, I will remove the substring '(edited)' from all `time` entries.\n",
        "\n",
        "Also, **the timestamps in the dataset vary in both granularity and scale, with some indicate hours, other days, and some even weeks** yet all refer to comments posted within the past month. Keeping them as-is adds unnecessary complexity and does not significantly improve the analysis. To streamline the data and focus on broader temporal trends rather than fine-grained distinctions, I will unify all entries labeled within one month ('1 hour ago', '9 days ago', '4 week ago', etc.) into a single category: 'this month'. This simplification allows for more meaningful insights and clearer visualization without sacrificing analytical value."
      ],
      "metadata": {
        "id": "NPsG-KKBQFsG"
      }
    },
    {
      "cell_type": "code",
      "source": [
        "print(\"Unique likes:\")\n",
        "print(df['likes'].unique().tolist())"
      ],
      "metadata": {
        "colab": {
          "base_uri": "https://localhost:8080/"
        },
        "id": "PJdNLLGQ1uSI",
        "outputId": "7ca5e4c9-1ad2-4caa-9ed6-b56e4d8791d8"
      },
      "execution_count": null,
      "outputs": [
        {
          "output_type": "stream",
          "name": "stdout",
          "text": [
            "Unique likes:\n",
            "['7', '2.1K', '1.3K', '372', '916', '622', '35', '36', '47', '159', '489', '213', '73', '71', '72', '173', '15', '32', '5', '250', '169', '88', '9', '16', '24', '21', '133', '12', '23', '3', '25', '1', '11', '0', '2', '86', '113', '14', '4', '49', '8', '6', '17', '22', '26', '103', '52', '27', '10', '28', '18', '31', '80', '48', '141', '30', '13', '38', '29', '42', '19']\n"
          ]
        }
      ]
    },
    {
      "cell_type": "markdown",
      "source": [
        "Another problem in the `likes` column is **the use of the letter 'K' to denote thousands**, which prevents the values from being treated as numeric types. This formatting inconsistency makes it difficult to perform quantitative analysis, such as aggregating likes. To resolve this, I will convert all such entries by replacing the 'K' with multiplying it by a thousand, then typecasting it as an integer, finally standardizing the column for numerical operations. Approximating each likes with the letter 'K' is okay in this analysis because the level of precision is sufficient for understanding general engagement trends and does not significantly affect the overall analysis."
      ],
      "metadata": {
        "id": "QSdISeXGQpo3"
      }
    },
    {
      "cell_type": "code",
      "source": [
        "duplicates = df[df.duplicated(subset=['username', 'comment/reply'], keep=False)]\n",
        "\n",
        "print(f\"Number of duplicate comments (based on username and comment/reply): {len(duplicates)}\")\n",
        "display(duplicates.sort_values(by=['username', 'comment/reply']))"
      ],
      "metadata": {
        "colab": {
          "base_uri": "https://localhost:8080/",
          "height": 129
        },
        "id": "75Fttt9q_-c5",
        "outputId": "3a007cf4-f224-47d6-cf2f-e9a263a1b9f1"
      },
      "execution_count": null,
      "outputs": [
        {
          "output_type": "stream",
          "name": "stdout",
          "text": [
            "Number of duplicate comments (based on username and comment/reply): 2\n"
          ]
        },
        {
          "output_type": "display_data",
          "data": {
            "text/plain": [
              "                 username  \\\n",
              "83   @josephwillyyose3443   \n",
              "359  @josephwillyyose3443   \n",
              "\n",
              "                                                                 comment/reply  \\\n",
              "83   Talent is everything with hard work. Hard work is nothing without talent.   \n",
              "359  Talent is everything with hard work. Hard work is nothing without talent.   \n",
              "\n",
              "             time likes  isReply  \n",
              "83   6 months ago     0     True  \n",
              "359  6 months ago     2    False  "
            ],
            "text/html": [
              "\n",
              "  <div id=\"df-937f3d18-9620-40c3-a750-2291024c4efe\" class=\"colab-df-container\">\n",
              "    <div>\n",
              "<style scoped>\n",
              "    .dataframe tbody tr th:only-of-type {\n",
              "        vertical-align: middle;\n",
              "    }\n",
              "\n",
              "    .dataframe tbody tr th {\n",
              "        vertical-align: top;\n",
              "    }\n",
              "\n",
              "    .dataframe thead th {\n",
              "        text-align: right;\n",
              "    }\n",
              "</style>\n",
              "<table border=\"1\" class=\"dataframe\">\n",
              "  <thead>\n",
              "    <tr style=\"text-align: right;\">\n",
              "      <th></th>\n",
              "      <th>username</th>\n",
              "      <th>comment/reply</th>\n",
              "      <th>time</th>\n",
              "      <th>likes</th>\n",
              "      <th>isReply</th>\n",
              "    </tr>\n",
              "  </thead>\n",
              "  <tbody>\n",
              "    <tr>\n",
              "      <th>83</th>\n",
              "      <td>@josephwillyyose3443</td>\n",
              "      <td>Talent is everything with hard work. Hard work is nothing without talent.</td>\n",
              "      <td>6 months ago</td>\n",
              "      <td>0</td>\n",
              "      <td>True</td>\n",
              "    </tr>\n",
              "    <tr>\n",
              "      <th>359</th>\n",
              "      <td>@josephwillyyose3443</td>\n",
              "      <td>Talent is everything with hard work. Hard work is nothing without talent.</td>\n",
              "      <td>6 months ago</td>\n",
              "      <td>2</td>\n",
              "      <td>False</td>\n",
              "    </tr>\n",
              "  </tbody>\n",
              "</table>\n",
              "</div>\n",
              "    <div class=\"colab-df-buttons\">\n",
              "\n",
              "  <div class=\"colab-df-container\">\n",
              "    <button class=\"colab-df-convert\" onclick=\"convertToInteractive('df-937f3d18-9620-40c3-a750-2291024c4efe')\"\n",
              "            title=\"Convert this dataframe to an interactive table.\"\n",
              "            style=\"display:none;\">\n",
              "\n",
              "  <svg xmlns=\"http://www.w3.org/2000/svg\" height=\"24px\" viewBox=\"0 -960 960 960\">\n",
              "    <path d=\"M120-120v-720h720v720H120Zm60-500h600v-160H180v160Zm220 220h160v-160H400v160Zm0 220h160v-160H400v160ZM180-400h160v-160H180v160Zm440 0h160v-160H620v160ZM180-180h160v-160H180v160Zm440 0h160v-160H620v160Z\"/>\n",
              "  </svg>\n",
              "    </button>\n",
              "\n",
              "  <style>\n",
              "    .colab-df-container {\n",
              "      display:flex;\n",
              "      gap: 12px;\n",
              "    }\n",
              "\n",
              "    .colab-df-convert {\n",
              "      background-color: #E8F0FE;\n",
              "      border: none;\n",
              "      border-radius: 50%;\n",
              "      cursor: pointer;\n",
              "      display: none;\n",
              "      fill: #1967D2;\n",
              "      height: 32px;\n",
              "      padding: 0 0 0 0;\n",
              "      width: 32px;\n",
              "    }\n",
              "\n",
              "    .colab-df-convert:hover {\n",
              "      background-color: #E2EBFA;\n",
              "      box-shadow: 0px 1px 2px rgba(60, 64, 67, 0.3), 0px 1px 3px 1px rgba(60, 64, 67, 0.15);\n",
              "      fill: #174EA6;\n",
              "    }\n",
              "\n",
              "    .colab-df-buttons div {\n",
              "      margin-bottom: 4px;\n",
              "    }\n",
              "\n",
              "    [theme=dark] .colab-df-convert {\n",
              "      background-color: #3B4455;\n",
              "      fill: #D2E3FC;\n",
              "    }\n",
              "\n",
              "    [theme=dark] .colab-df-convert:hover {\n",
              "      background-color: #434B5C;\n",
              "      box-shadow: 0px 1px 3px 1px rgba(0, 0, 0, 0.15);\n",
              "      filter: drop-shadow(0px 1px 2px rgba(0, 0, 0, 0.3));\n",
              "      fill: #FFFFFF;\n",
              "    }\n",
              "  </style>\n",
              "\n",
              "    <script>\n",
              "      const buttonEl =\n",
              "        document.querySelector('#df-937f3d18-9620-40c3-a750-2291024c4efe button.colab-df-convert');\n",
              "      buttonEl.style.display =\n",
              "        google.colab.kernel.accessAllowed ? 'block' : 'none';\n",
              "\n",
              "      async function convertToInteractive(key) {\n",
              "        const element = document.querySelector('#df-937f3d18-9620-40c3-a750-2291024c4efe');\n",
              "        const dataTable =\n",
              "          await google.colab.kernel.invokeFunction('convertToInteractive',\n",
              "                                                    [key], {});\n",
              "        if (!dataTable) return;\n",
              "\n",
              "        const docLinkHtml = 'Like what you see? Visit the ' +\n",
              "          '<a target=\"_blank\" href=https://colab.research.google.com/notebooks/data_table.ipynb>data table notebook</a>'\n",
              "          + ' to learn more about interactive tables.';\n",
              "        element.innerHTML = '';\n",
              "        dataTable['output_type'] = 'display_data';\n",
              "        await google.colab.output.renderOutput(dataTable, element);\n",
              "        const docLink = document.createElement('div');\n",
              "        docLink.innerHTML = docLinkHtml;\n",
              "        element.appendChild(docLink);\n",
              "      }\n",
              "    </script>\n",
              "  </div>\n",
              "\n",
              "\n",
              "    <div id=\"df-b2b1e0b5-cf55-4570-a9aa-9e92922ff5f6\">\n",
              "      <button class=\"colab-df-quickchart\" onclick=\"quickchart('df-b2b1e0b5-cf55-4570-a9aa-9e92922ff5f6')\"\n",
              "                title=\"Suggest charts\"\n",
              "                style=\"display:none;\">\n",
              "\n",
              "<svg xmlns=\"http://www.w3.org/2000/svg\" height=\"24px\"viewBox=\"0 0 24 24\"\n",
              "     width=\"24px\">\n",
              "    <g>\n",
              "        <path d=\"M19 3H5c-1.1 0-2 .9-2 2v14c0 1.1.9 2 2 2h14c1.1 0 2-.9 2-2V5c0-1.1-.9-2-2-2zM9 17H7v-7h2v7zm4 0h-2V7h2v10zm4 0h-2v-4h2v4z\"/>\n",
              "    </g>\n",
              "</svg>\n",
              "      </button>\n",
              "\n",
              "<style>\n",
              "  .colab-df-quickchart {\n",
              "      --bg-color: #E8F0FE;\n",
              "      --fill-color: #1967D2;\n",
              "      --hover-bg-color: #E2EBFA;\n",
              "      --hover-fill-color: #174EA6;\n",
              "      --disabled-fill-color: #AAA;\n",
              "      --disabled-bg-color: #DDD;\n",
              "  }\n",
              "\n",
              "  [theme=dark] .colab-df-quickchart {\n",
              "      --bg-color: #3B4455;\n",
              "      --fill-color: #D2E3FC;\n",
              "      --hover-bg-color: #434B5C;\n",
              "      --hover-fill-color: #FFFFFF;\n",
              "      --disabled-bg-color: #3B4455;\n",
              "      --disabled-fill-color: #666;\n",
              "  }\n",
              "\n",
              "  .colab-df-quickchart {\n",
              "    background-color: var(--bg-color);\n",
              "    border: none;\n",
              "    border-radius: 50%;\n",
              "    cursor: pointer;\n",
              "    display: none;\n",
              "    fill: var(--fill-color);\n",
              "    height: 32px;\n",
              "    padding: 0;\n",
              "    width: 32px;\n",
              "  }\n",
              "\n",
              "  .colab-df-quickchart:hover {\n",
              "    background-color: var(--hover-bg-color);\n",
              "    box-shadow: 0 1px 2px rgba(60, 64, 67, 0.3), 0 1px 3px 1px rgba(60, 64, 67, 0.15);\n",
              "    fill: var(--button-hover-fill-color);\n",
              "  }\n",
              "\n",
              "  .colab-df-quickchart-complete:disabled,\n",
              "  .colab-df-quickchart-complete:disabled:hover {\n",
              "    background-color: var(--disabled-bg-color);\n",
              "    fill: var(--disabled-fill-color);\n",
              "    box-shadow: none;\n",
              "  }\n",
              "\n",
              "  .colab-df-spinner {\n",
              "    border: 2px solid var(--fill-color);\n",
              "    border-color: transparent;\n",
              "    border-bottom-color: var(--fill-color);\n",
              "    animation:\n",
              "      spin 1s steps(1) infinite;\n",
              "  }\n",
              "\n",
              "  @keyframes spin {\n",
              "    0% {\n",
              "      border-color: transparent;\n",
              "      border-bottom-color: var(--fill-color);\n",
              "      border-left-color: var(--fill-color);\n",
              "    }\n",
              "    20% {\n",
              "      border-color: transparent;\n",
              "      border-left-color: var(--fill-color);\n",
              "      border-top-color: var(--fill-color);\n",
              "    }\n",
              "    30% {\n",
              "      border-color: transparent;\n",
              "      border-left-color: var(--fill-color);\n",
              "      border-top-color: var(--fill-color);\n",
              "      border-right-color: var(--fill-color);\n",
              "    }\n",
              "    40% {\n",
              "      border-color: transparent;\n",
              "      border-right-color: var(--fill-color);\n",
              "      border-top-color: var(--fill-color);\n",
              "    }\n",
              "    60% {\n",
              "      border-color: transparent;\n",
              "      border-right-color: var(--fill-color);\n",
              "    }\n",
              "    80% {\n",
              "      border-color: transparent;\n",
              "      border-right-color: var(--fill-color);\n",
              "      border-bottom-color: var(--fill-color);\n",
              "    }\n",
              "    90% {\n",
              "      border-color: transparent;\n",
              "      border-bottom-color: var(--fill-color);\n",
              "    }\n",
              "  }\n",
              "</style>\n",
              "\n",
              "      <script>\n",
              "        async function quickchart(key) {\n",
              "          const quickchartButtonEl =\n",
              "            document.querySelector('#' + key + ' button');\n",
              "          quickchartButtonEl.disabled = true;  // To prevent multiple clicks.\n",
              "          quickchartButtonEl.classList.add('colab-df-spinner');\n",
              "          try {\n",
              "            const charts = await google.colab.kernel.invokeFunction(\n",
              "                'suggestCharts', [key], {});\n",
              "          } catch (error) {\n",
              "            console.error('Error during call to suggestCharts:', error);\n",
              "          }\n",
              "          quickchartButtonEl.classList.remove('colab-df-spinner');\n",
              "          quickchartButtonEl.classList.add('colab-df-quickchart-complete');\n",
              "        }\n",
              "        (() => {\n",
              "          let quickchartButtonEl =\n",
              "            document.querySelector('#df-b2b1e0b5-cf55-4570-a9aa-9e92922ff5f6 button');\n",
              "          quickchartButtonEl.style.display =\n",
              "            google.colab.kernel.accessAllowed ? 'block' : 'none';\n",
              "        })();\n",
              "      </script>\n",
              "    </div>\n",
              "\n",
              "    </div>\n",
              "  </div>\n"
            ],
            "application/vnd.google.colaboratory.intrinsic+json": {
              "type": "dataframe",
              "summary": "{\n  \"name\": \"display(duplicates\",\n  \"rows\": 2,\n  \"fields\": [\n    {\n      \"column\": \"username\",\n      \"properties\": {\n        \"dtype\": \"string\",\n        \"num_unique_values\": 1,\n        \"samples\": [\n          \"@josephwillyyose3443\"\n        ],\n        \"semantic_type\": \"\",\n        \"description\": \"\"\n      }\n    },\n    {\n      \"column\": \"comment/reply\",\n      \"properties\": {\n        \"dtype\": \"string\",\n        \"num_unique_values\": 1,\n        \"samples\": [\n          \"Talent is everything with hard work. Hard work is nothing without talent.\"\n        ],\n        \"semantic_type\": \"\",\n        \"description\": \"\"\n      }\n    },\n    {\n      \"column\": \"time\",\n      \"properties\": {\n        \"dtype\": \"string\",\n        \"num_unique_values\": 1,\n        \"samples\": [\n          \"6 months ago\"\n        ],\n        \"semantic_type\": \"\",\n        \"description\": \"\"\n      }\n    },\n    {\n      \"column\": \"likes\",\n      \"properties\": {\n        \"dtype\": \"string\",\n        \"num_unique_values\": 2,\n        \"samples\": [\n          \"2\"\n        ],\n        \"semantic_type\": \"\",\n        \"description\": \"\"\n      }\n    },\n    {\n      \"column\": \"isReply\",\n      \"properties\": {\n        \"dtype\": \"boolean\",\n        \"num_unique_values\": 2,\n        \"samples\": [\n          false\n        ],\n        \"semantic_type\": \"\",\n        \"description\": \"\"\n      }\n    }\n  ]\n}"
            }
          },
          "metadata": {}
        }
      ]
    },
    {
      "cell_type": "markdown",
      "source": [
        "I filter duplicates by `username` and `comment/reply` because based on my observation, **users sometimes post identical comments multiple times**. One case would be when they reply to different comments with the same exact message they want to share. Another one would be where they want to gain as much attention as possible or emphasize a certain message. This leads to duplicate content under the same name. By identifying duplicates based solely on the `comment/reply` and `username`, I focus on removing redundant content regardless of when or where it was posted.\n",
        "\n",
        "We can see one duplicate pair appearing which shows one of his post is a reply to another comment, but the other is his comment to the video (as can be seen from the `isReply` column). This supports my earlier observation that I mentioned and ultimately leads me to drop Joseph's duplicate comment with the least likes, as keeping the version with higher engagement better represents audience reception while reducing noise in the dataset."
      ],
      "metadata": {
        "id": "kkvdDyUEUwmX"
      }
    },
    {
      "cell_type": "markdown",
      "source": [
        "# Preprocessing\n",
        "\n",
        "In this section, I refine the dataset by addressing data quality issues identified during the initial exploration."
      ],
      "metadata": {
        "id": "bK5eeSc-3yGe"
      }
    },
    {
      "cell_type": "markdown",
      "source": [
        "First, I drop every comments from the author (@JustinSung)."
      ],
      "metadata": {
        "id": "16sSqi_tcZEG"
      }
    },
    {
      "cell_type": "code",
      "source": [
        "df = df[df['username'] != '@JustinSung'].copy()\n",
        "\n",
        "print(f\"Number of comments after removing author's comments: {len(df)}\")\n",
        "print(\"First 5 comments:\")\n",
        "display(df.head())"
      ],
      "metadata": {
        "colab": {
          "base_uri": "https://localhost:8080/",
          "height": 432
        },
        "id": "nQZRGiDT72nE",
        "outputId": "10ba2153-e266-4dca-fc6a-a1f8ff74a562"
      },
      "execution_count": null,
      "outputs": [
        {
          "output_type": "stream",
          "name": "stdout",
          "text": [
            "Number of comments after removing author's comments: 935\n",
            "First 5 comments:\n"
          ]
        },
        {
          "output_type": "display_data",
          "data": {
            "text/plain": [
              "          username  \\\n",
              "1          @vikshi   \n",
              "2      @julesinmed   \n",
              "3  @alphaomega6023   \n",
              "4        @eagle772   \n",
              "5   @zirak21mistry   \n",
              "\n",
              "                                                                                                                                                                                                                                                                                                                                                                                                                                                                                                                                                                                                                                                                                                                                                                                                                                                                                                        comment/reply  \\\n",
              "1                                                                                                                                                                                                                                                                                                                                                                                                                                                                                                                                                                                                                                                                                                                                                                                                                                                                Hardwork beats talent when talent doesn't work hard.   \n",
              "2                                                                                                                                                                                                                                                                                                                                                                                                                                     Personally, I think hard work should lead to smart work. We tend to associate the term hard work with concepts like long hours, lack of sleep and exhaustion, while it would be more useful if these circumstances were seen as a ''prompt'' to find a way to work smarter (simply to avoid being crushed by them, following natural evolution and self-preservation). Also, the process of simplification is itself ''hard work'', just not in the conventional, general view!   \n",
              "3                                                                                                                                                                                                                                                                                                                                                                                                                                                                                                                                                                                                                                                                                                                                        4:21 1. Hard work has diminishing returns\\r\\n6:27 2. Effort is fuel\\r\\n10:29 3. Hard work is also about the type of work that you do\\r\\n12:22 Two things to do to solve this   \n",
              "4                                                                                                                                                                                                                                                                                                                                                                                                                                                    “Talent is just the natural ability for someone to intuitively use more optimal processes.” \\n\\nWow, that is some deep insight!\\n\\nIt basically means, you need to discover the optimal processes that will give you the desired results . And then train yourself on making them intuitive; second nature. \\n\\nThen keep upgrading them. So you are able to do more with less. \\n\\nThank you Justin! You have literally changed my life. \\n\\nThank you brother!   \n",
              "5  \"You can work hard and still do poorly\". Can't agree more. All my engineering years, I worked fairly hard, put in multiple extra hours, and attended extra classes. Even after all this extra effort, I managed to get slightly about average grades whereas my few talented peers worked half as hard but produced double the results with exceptional grades. That was the moment when I realised that it is more to it than just hard work.\\n\\nEveryone always says to work harder and harder. They say that you have not yet achieved success because you have not worked hard enough. \\n\\nI feel it is only so much hard work you can do because you have limited time and energy and it is only a matter of time before your genetics give up and you get burnt out (probably multiple times) and give up eventually.\\n\\nFinally someone can understand my point of view. Glad I found you and your channel.   \n",
              "\n",
              "                  time likes  isReply  \n",
              "1           1 year ago  2.1K    False  \n",
              "2  1 year ago (edited)  1.3K    False  \n",
              "3           1 year ago   372    False  \n",
              "4           1 year ago   916    False  \n",
              "5           1 year ago   622    False  "
            ],
            "text/html": [
              "\n",
              "  <div id=\"df-1d874a9c-87f4-4607-9572-b4b986aa1eac\" class=\"colab-df-container\">\n",
              "    <div>\n",
              "<style scoped>\n",
              "    .dataframe tbody tr th:only-of-type {\n",
              "        vertical-align: middle;\n",
              "    }\n",
              "\n",
              "    .dataframe tbody tr th {\n",
              "        vertical-align: top;\n",
              "    }\n",
              "\n",
              "    .dataframe thead th {\n",
              "        text-align: right;\n",
              "    }\n",
              "</style>\n",
              "<table border=\"1\" class=\"dataframe\">\n",
              "  <thead>\n",
              "    <tr style=\"text-align: right;\">\n",
              "      <th></th>\n",
              "      <th>username</th>\n",
              "      <th>comment/reply</th>\n",
              "      <th>time</th>\n",
              "      <th>likes</th>\n",
              "      <th>isReply</th>\n",
              "    </tr>\n",
              "  </thead>\n",
              "  <tbody>\n",
              "    <tr>\n",
              "      <th>1</th>\n",
              "      <td>@vikshi</td>\n",
              "      <td>Hardwork beats talent when talent doesn't work hard.</td>\n",
              "      <td>1 year ago</td>\n",
              "      <td>2.1K</td>\n",
              "      <td>False</td>\n",
              "    </tr>\n",
              "    <tr>\n",
              "      <th>2</th>\n",
              "      <td>@julesinmed</td>\n",
              "      <td>Personally, I think hard work should lead to smart work. We tend to associate the term hard work with concepts like long hours, lack of sleep and exhaustion, while it would be more useful if these circumstances were seen as a ''prompt'' to find a way to work smarter (simply to avoid being crushed by them, following natural evolution and self-preservation). Also, the process of simplification is itself ''hard work'', just not in the conventional, general view!</td>\n",
              "      <td>1 year ago (edited)</td>\n",
              "      <td>1.3K</td>\n",
              "      <td>False</td>\n",
              "    </tr>\n",
              "    <tr>\n",
              "      <th>3</th>\n",
              "      <td>@alphaomega6023</td>\n",
              "      <td>4:21 1. Hard work has diminishing returns\\r\\n6:27 2. Effort is fuel\\r\\n10:29 3. Hard work is also about the type of work that you do\\r\\n12:22 Two things to do to solve this</td>\n",
              "      <td>1 year ago</td>\n",
              "      <td>372</td>\n",
              "      <td>False</td>\n",
              "    </tr>\n",
              "    <tr>\n",
              "      <th>4</th>\n",
              "      <td>@eagle772</td>\n",
              "      <td>“Talent is just the natural ability for someone to intuitively use more optimal processes.” \\n\\nWow, that is some deep insight!\\n\\nIt basically means, you need to discover the optimal processes that will give you the desired results . And then train yourself on making them intuitive; second nature. \\n\\nThen keep upgrading them. So you are able to do more with less. \\n\\nThank you Justin! You have literally changed my life. \\n\\nThank you brother!</td>\n",
              "      <td>1 year ago</td>\n",
              "      <td>916</td>\n",
              "      <td>False</td>\n",
              "    </tr>\n",
              "    <tr>\n",
              "      <th>5</th>\n",
              "      <td>@zirak21mistry</td>\n",
              "      <td>\"You can work hard and still do poorly\". Can't agree more. All my engineering years, I worked fairly hard, put in multiple extra hours, and attended extra classes. Even after all this extra effort, I managed to get slightly about average grades whereas my few talented peers worked half as hard but produced double the results with exceptional grades. That was the moment when I realised that it is more to it than just hard work.\\n\\nEveryone always says to work harder and harder. They say that you have not yet achieved success because you have not worked hard enough. \\n\\nI feel it is only so much hard work you can do because you have limited time and energy and it is only a matter of time before your genetics give up and you get burnt out (probably multiple times) and give up eventually.\\n\\nFinally someone can understand my point of view. Glad I found you and your channel.</td>\n",
              "      <td>1 year ago</td>\n",
              "      <td>622</td>\n",
              "      <td>False</td>\n",
              "    </tr>\n",
              "  </tbody>\n",
              "</table>\n",
              "</div>\n",
              "    <div class=\"colab-df-buttons\">\n",
              "\n",
              "  <div class=\"colab-df-container\">\n",
              "    <button class=\"colab-df-convert\" onclick=\"convertToInteractive('df-1d874a9c-87f4-4607-9572-b4b986aa1eac')\"\n",
              "            title=\"Convert this dataframe to an interactive table.\"\n",
              "            style=\"display:none;\">\n",
              "\n",
              "  <svg xmlns=\"http://www.w3.org/2000/svg\" height=\"24px\" viewBox=\"0 -960 960 960\">\n",
              "    <path d=\"M120-120v-720h720v720H120Zm60-500h600v-160H180v160Zm220 220h160v-160H400v160Zm0 220h160v-160H400v160ZM180-400h160v-160H180v160Zm440 0h160v-160H620v160ZM180-180h160v-160H180v160Zm440 0h160v-160H620v160Z\"/>\n",
              "  </svg>\n",
              "    </button>\n",
              "\n",
              "  <style>\n",
              "    .colab-df-container {\n",
              "      display:flex;\n",
              "      gap: 12px;\n",
              "    }\n",
              "\n",
              "    .colab-df-convert {\n",
              "      background-color: #E8F0FE;\n",
              "      border: none;\n",
              "      border-radius: 50%;\n",
              "      cursor: pointer;\n",
              "      display: none;\n",
              "      fill: #1967D2;\n",
              "      height: 32px;\n",
              "      padding: 0 0 0 0;\n",
              "      width: 32px;\n",
              "    }\n",
              "\n",
              "    .colab-df-convert:hover {\n",
              "      background-color: #E2EBFA;\n",
              "      box-shadow: 0px 1px 2px rgba(60, 64, 67, 0.3), 0px 1px 3px 1px rgba(60, 64, 67, 0.15);\n",
              "      fill: #174EA6;\n",
              "    }\n",
              "\n",
              "    .colab-df-buttons div {\n",
              "      margin-bottom: 4px;\n",
              "    }\n",
              "\n",
              "    [theme=dark] .colab-df-convert {\n",
              "      background-color: #3B4455;\n",
              "      fill: #D2E3FC;\n",
              "    }\n",
              "\n",
              "    [theme=dark] .colab-df-convert:hover {\n",
              "      background-color: #434B5C;\n",
              "      box-shadow: 0px 1px 3px 1px rgba(0, 0, 0, 0.15);\n",
              "      filter: drop-shadow(0px 1px 2px rgba(0, 0, 0, 0.3));\n",
              "      fill: #FFFFFF;\n",
              "    }\n",
              "  </style>\n",
              "\n",
              "    <script>\n",
              "      const buttonEl =\n",
              "        document.querySelector('#df-1d874a9c-87f4-4607-9572-b4b986aa1eac button.colab-df-convert');\n",
              "      buttonEl.style.display =\n",
              "        google.colab.kernel.accessAllowed ? 'block' : 'none';\n",
              "\n",
              "      async function convertToInteractive(key) {\n",
              "        const element = document.querySelector('#df-1d874a9c-87f4-4607-9572-b4b986aa1eac');\n",
              "        const dataTable =\n",
              "          await google.colab.kernel.invokeFunction('convertToInteractive',\n",
              "                                                    [key], {});\n",
              "        if (!dataTable) return;\n",
              "\n",
              "        const docLinkHtml = 'Like what you see? Visit the ' +\n",
              "          '<a target=\"_blank\" href=https://colab.research.google.com/notebooks/data_table.ipynb>data table notebook</a>'\n",
              "          + ' to learn more about interactive tables.';\n",
              "        element.innerHTML = '';\n",
              "        dataTable['output_type'] = 'display_data';\n",
              "        await google.colab.output.renderOutput(dataTable, element);\n",
              "        const docLink = document.createElement('div');\n",
              "        docLink.innerHTML = docLinkHtml;\n",
              "        element.appendChild(docLink);\n",
              "      }\n",
              "    </script>\n",
              "  </div>\n",
              "\n",
              "\n",
              "    <div id=\"df-1d3a3e0b-0691-4a78-a024-43e4aa91128d\">\n",
              "      <button class=\"colab-df-quickchart\" onclick=\"quickchart('df-1d3a3e0b-0691-4a78-a024-43e4aa91128d')\"\n",
              "                title=\"Suggest charts\"\n",
              "                style=\"display:none;\">\n",
              "\n",
              "<svg xmlns=\"http://www.w3.org/2000/svg\" height=\"24px\"viewBox=\"0 0 24 24\"\n",
              "     width=\"24px\">\n",
              "    <g>\n",
              "        <path d=\"M19 3H5c-1.1 0-2 .9-2 2v14c0 1.1.9 2 2 2h14c1.1 0 2-.9 2-2V5c0-1.1-.9-2-2-2zM9 17H7v-7h2v7zm4 0h-2V7h2v10zm4 0h-2v-4h2v4z\"/>\n",
              "    </g>\n",
              "</svg>\n",
              "      </button>\n",
              "\n",
              "<style>\n",
              "  .colab-df-quickchart {\n",
              "      --bg-color: #E8F0FE;\n",
              "      --fill-color: #1967D2;\n",
              "      --hover-bg-color: #E2EBFA;\n",
              "      --hover-fill-color: #174EA6;\n",
              "      --disabled-fill-color: #AAA;\n",
              "      --disabled-bg-color: #DDD;\n",
              "  }\n",
              "\n",
              "  [theme=dark] .colab-df-quickchart {\n",
              "      --bg-color: #3B4455;\n",
              "      --fill-color: #D2E3FC;\n",
              "      --hover-bg-color: #434B5C;\n",
              "      --hover-fill-color: #FFFFFF;\n",
              "      --disabled-bg-color: #3B4455;\n",
              "      --disabled-fill-color: #666;\n",
              "  }\n",
              "\n",
              "  .colab-df-quickchart {\n",
              "    background-color: var(--bg-color);\n",
              "    border: none;\n",
              "    border-radius: 50%;\n",
              "    cursor: pointer;\n",
              "    display: none;\n",
              "    fill: var(--fill-color);\n",
              "    height: 32px;\n",
              "    padding: 0;\n",
              "    width: 32px;\n",
              "  }\n",
              "\n",
              "  .colab-df-quickchart:hover {\n",
              "    background-color: var(--hover-bg-color);\n",
              "    box-shadow: 0 1px 2px rgba(60, 64, 67, 0.3), 0 1px 3px 1px rgba(60, 64, 67, 0.15);\n",
              "    fill: var(--button-hover-fill-color);\n",
              "  }\n",
              "\n",
              "  .colab-df-quickchart-complete:disabled,\n",
              "  .colab-df-quickchart-complete:disabled:hover {\n",
              "    background-color: var(--disabled-bg-color);\n",
              "    fill: var(--disabled-fill-color);\n",
              "    box-shadow: none;\n",
              "  }\n",
              "\n",
              "  .colab-df-spinner {\n",
              "    border: 2px solid var(--fill-color);\n",
              "    border-color: transparent;\n",
              "    border-bottom-color: var(--fill-color);\n",
              "    animation:\n",
              "      spin 1s steps(1) infinite;\n",
              "  }\n",
              "\n",
              "  @keyframes spin {\n",
              "    0% {\n",
              "      border-color: transparent;\n",
              "      border-bottom-color: var(--fill-color);\n",
              "      border-left-color: var(--fill-color);\n",
              "    }\n",
              "    20% {\n",
              "      border-color: transparent;\n",
              "      border-left-color: var(--fill-color);\n",
              "      border-top-color: var(--fill-color);\n",
              "    }\n",
              "    30% {\n",
              "      border-color: transparent;\n",
              "      border-left-color: var(--fill-color);\n",
              "      border-top-color: var(--fill-color);\n",
              "      border-right-color: var(--fill-color);\n",
              "    }\n",
              "    40% {\n",
              "      border-color: transparent;\n",
              "      border-right-color: var(--fill-color);\n",
              "      border-top-color: var(--fill-color);\n",
              "    }\n",
              "    60% {\n",
              "      border-color: transparent;\n",
              "      border-right-color: var(--fill-color);\n",
              "    }\n",
              "    80% {\n",
              "      border-color: transparent;\n",
              "      border-right-color: var(--fill-color);\n",
              "      border-bottom-color: var(--fill-color);\n",
              "    }\n",
              "    90% {\n",
              "      border-color: transparent;\n",
              "      border-bottom-color: var(--fill-color);\n",
              "    }\n",
              "  }\n",
              "</style>\n",
              "\n",
              "      <script>\n",
              "        async function quickchart(key) {\n",
              "          const quickchartButtonEl =\n",
              "            document.querySelector('#' + key + ' button');\n",
              "          quickchartButtonEl.disabled = true;  // To prevent multiple clicks.\n",
              "          quickchartButtonEl.classList.add('colab-df-spinner');\n",
              "          try {\n",
              "            const charts = await google.colab.kernel.invokeFunction(\n",
              "                'suggestCharts', [key], {});\n",
              "          } catch (error) {\n",
              "            console.error('Error during call to suggestCharts:', error);\n",
              "          }\n",
              "          quickchartButtonEl.classList.remove('colab-df-spinner');\n",
              "          quickchartButtonEl.classList.add('colab-df-quickchart-complete');\n",
              "        }\n",
              "        (() => {\n",
              "          let quickchartButtonEl =\n",
              "            document.querySelector('#df-1d3a3e0b-0691-4a78-a024-43e4aa91128d button');\n",
              "          quickchartButtonEl.style.display =\n",
              "            google.colab.kernel.accessAllowed ? 'block' : 'none';\n",
              "        })();\n",
              "      </script>\n",
              "    </div>\n",
              "\n",
              "    </div>\n",
              "  </div>\n"
            ],
            "application/vnd.google.colaboratory.intrinsic+json": {
              "type": "dataframe",
              "summary": "{\n  \"name\": \"display(df\",\n  \"rows\": 5,\n  \"fields\": [\n    {\n      \"column\": \"username\",\n      \"properties\": {\n        \"dtype\": \"string\",\n        \"num_unique_values\": 5,\n        \"samples\": [\n          \"@julesinmed\",\n          \"@zirak21mistry\",\n          \"@alphaomega6023\"\n        ],\n        \"semantic_type\": \"\",\n        \"description\": \"\"\n      }\n    },\n    {\n      \"column\": \"comment/reply\",\n      \"properties\": {\n        \"dtype\": \"string\",\n        \"num_unique_values\": 5,\n        \"samples\": [\n          \"Personally, I think hard work should lead to smart work. We tend to associate the term hard work with concepts like long hours, lack of sleep and exhaustion, while it would be more useful if these circumstances were seen as a ''prompt'' to find a way to work smarter (simply to avoid being crushed by them, following natural evolution and self-preservation). Also, the process of simplification is itself ''hard work'', just not in the conventional, general view!\",\n          \"\\\"You can work hard and still do poorly\\\". Can't agree more. All my engineering years, I worked fairly hard, put in multiple extra hours, and attended extra classes. Even after all this extra effort, I managed to get slightly about average grades whereas my few talented peers worked half as hard but produced double the results with exceptional grades. That was the moment when I realised that it is more to it than just hard work.\\n\\nEveryone always says to work harder and harder. They say that you have not yet achieved success because you have not worked hard enough. \\n\\nI feel it is only so much hard work you can do because you have limited time and energy and it is only a matter of time before your genetics give up and you get burnt out (probably multiple times) and give up eventually.\\n\\nFinally someone can understand my point of view. Glad I found you and your channel.\",\n          \"4:21 1. Hard work has diminishing returns\\r\\n6:27 2. Effort is fuel\\r\\n10:29 3. Hard work is also about the type of work that you do\\r\\n12:22 Two things to do to solve this\"\n        ],\n        \"semantic_type\": \"\",\n        \"description\": \"\"\n      }\n    },\n    {\n      \"column\": \"time\",\n      \"properties\": {\n        \"dtype\": \"category\",\n        \"num_unique_values\": 2,\n        \"samples\": [\n          \"1 year ago (edited)\",\n          \"1 year ago\"\n        ],\n        \"semantic_type\": \"\",\n        \"description\": \"\"\n      }\n    },\n    {\n      \"column\": \"likes\",\n      \"properties\": {\n        \"dtype\": \"string\",\n        \"num_unique_values\": 5,\n        \"samples\": [\n          \"1.3K\",\n          \"622\"\n        ],\n        \"semantic_type\": \"\",\n        \"description\": \"\"\n      }\n    },\n    {\n      \"column\": \"isReply\",\n      \"properties\": {\n        \"dtype\": \"boolean\",\n        \"num_unique_values\": 1,\n        \"samples\": [\n          false\n        ],\n        \"semantic_type\": \"\",\n        \"description\": \"\"\n      }\n    }\n  ]\n}"
            }
          },
          "metadata": {}
        }
      ]
    },
    {
      "cell_type": "markdown",
      "source": [
        "Second, I remove every substring of '(edited)' from the `time` column"
      ],
      "metadata": {
        "id": "GUXvHidZcgAE"
      }
    },
    {
      "cell_type": "code",
      "source": [
        "df['time'] = df['time'].str.replace(' \\(edited\\)', '', regex=True)\n",
        "\n",
        "print(\"Unique time:\")\n",
        "print(df['time'].unique().tolist())"
      ],
      "metadata": {
        "colab": {
          "base_uri": "https://localhost:8080/"
        },
        "id": "LFz-oegAAFFh",
        "outputId": "3325ce66-8da4-48b6-e78d-979b8bdfc610"
      },
      "execution_count": null,
      "outputs": [
        {
          "output_type": "stream",
          "name": "stdout",
          "text": [
            "Unique time:\n",
            "['1 year ago', '10 months ago', '9 months ago', '8 months ago', '7 months ago', '6 months ago', '5 months ago', '1 month ago', '3 months ago', '11 months ago', '2 days ago', '9 days ago', '11 days ago', '4 months ago', '2 months ago', '2 weeks ago', '17 hours ago', '3 weeks ago', '4 weeks ago']\n"
          ]
        }
      ]
    },
    {
      "cell_type": "markdown",
      "source": [
        "Third, I unify every time value that indicates a recent post into a single label, 'this month'."
      ],
      "metadata": {
        "id": "s4WI-0CngJ3s"
      }
    },
    {
      "cell_type": "code",
      "source": [
        "def unify_recent_times(time_str):\n",
        "    if 'weeks ago' in time_str or 'days ago' in time_str or 'hours ago' in time_str:\n",
        "         return 'this month'\n",
        "    return time_str\n",
        "\n",
        "df['time'] = df['time'].apply(unify_recent_times)\n",
        "\n",
        "print(\"Unique time:\")\n",
        "print(df['time'].unique().tolist())"
      ],
      "metadata": {
        "colab": {
          "base_uri": "https://localhost:8080/"
        },
        "id": "7WFVFuQjAKKg",
        "outputId": "bda4429c-86fa-4bcf-af5e-c2496095dbc6"
      },
      "execution_count": null,
      "outputs": [
        {
          "output_type": "stream",
          "name": "stdout",
          "text": [
            "Unique time:\n",
            "['1 year ago', '10 months ago', '9 months ago', '8 months ago', '7 months ago', '6 months ago', '5 months ago', '1 month ago', '3 months ago', '11 months ago', 'this month', '4 months ago', '2 months ago']\n"
          ]
        }
      ]
    },
    {
      "cell_type": "markdown",
      "source": [
        "Fourth, I convert the `time` column into an ordered categorical variable based on a chronological list, allowing for proper sorting and time-based analysis."
      ],
      "metadata": {
        "id": "b7MWq07sgnnS"
      }
    },
    {
      "cell_type": "code",
      "source": [
        "time_order = ['1 year ago', '11 months ago', '10 months ago', '9 months ago', '8 months ago', '7 months ago', '6 months ago', '5 months ago', '4 months ago', '3 months ago', '2 months ago', '1 month ago', 'this month']\n",
        "\n",
        "df['time'] = pd.Categorical(df['time'], categories=time_order, ordered=True)\n",
        "\n",
        "print(\"Ordered time categories:\")\n",
        "print(df['time'].cat.categories.tolist())"
      ],
      "metadata": {
        "colab": {
          "base_uri": "https://localhost:8080/"
        },
        "id": "Gh2deNmFAQ4b",
        "outputId": "269f71ac-3d06-40d0-f3c9-1638f3a0423c"
      },
      "execution_count": null,
      "outputs": [
        {
          "output_type": "stream",
          "name": "stdout",
          "text": [
            "Ordered time categories:\n",
            "['1 year ago', '11 months ago', '10 months ago', '9 months ago', '8 months ago', '7 months ago', '6 months ago', '5 months ago', '4 months ago', '3 months ago', '2 months ago', '1 month ago', 'this month']\n"
          ]
        }
      ]
    },
    {
      "cell_type": "markdown",
      "source": [
        "Fifth, I standardize the `likes` values by converting shorthand notation of 'K' into their full numeric form."
      ],
      "metadata": {
        "id": "na3MCZE5hFX2"
      }
    },
    {
      "cell_type": "code",
      "source": [
        "def convert_likes_to_int(likes_str):\n",
        "    if isinstance(likes_str, str):\n",
        "        likes_str = likes_str.replace('K', 'e3')\n",
        "        return int(float(likes_str))\n",
        "    return int(likes_str)\n",
        "\n",
        "df['likes'] = df['likes'].apply(convert_likes_to_int)\n",
        "\n",
        "print(\"Unique likes sorted by descending order:\")\n",
        "print(sorted(df['likes'].unique().tolist(), reverse=True))"
      ],
      "metadata": {
        "id": "uUqvs_TQ60Z8",
        "colab": {
          "base_uri": "https://localhost:8080/"
        },
        "outputId": "d4fff358-75fd-4145-a67b-dc122ea273da"
      },
      "execution_count": null,
      "outputs": [
        {
          "output_type": "stream",
          "name": "stdout",
          "text": [
            "Unique likes sorted by descending order:\n",
            "[2100, 1300, 916, 622, 489, 372, 250, 213, 173, 169, 159, 141, 88, 86, 80, 73, 72, 71, 48, 47, 42, 38, 36, 35, 32, 30, 29, 28, 26, 25, 24, 23, 21, 18, 17, 16, 15, 14, 13, 12, 11, 10, 9, 8, 7, 6, 5, 4, 3, 2, 1, 0]\n"
          ]
        }
      ]
    },
    {
      "cell_type": "markdown",
      "source": [
        "Sixth, I manually drop a specific comment that is a duplicate by its content and username."
      ],
      "metadata": {
        "id": "1bdGNp-8jPHM"
      }
    },
    {
      "cell_type": "code",
      "source": [
        "comment_to_drop = df[(df['username'] == '@josephwillyyose3443') & (df['likes'] == 0) & (df['comment/reply'] == 'Talent is everything with hard work. Hard work is nothing without talent.')]\n",
        "\n",
        "df = df.drop(comment_to_drop.index)\n",
        "\n",
        "duplicates = df[df.duplicated(subset=['username', 'comment/reply'], keep=False)]\n",
        "\n",
        "print(f\"Number of duplicate comments (based on username and comment/reply): {len(duplicates)}\")"
      ],
      "metadata": {
        "colab": {
          "base_uri": "https://localhost:8080/"
        },
        "id": "soPOCxb0DzL2",
        "outputId": "75e2c715-ac80-4faa-f472-69f43d8278ce"
      },
      "execution_count": null,
      "outputs": [
        {
          "output_type": "stream",
          "name": "stdout",
          "text": [
            "Number of duplicate comments (based on username and comment/reply): 0\n"
          ]
        }
      ]
    },
    {
      "cell_type": "code",
      "source": [
        "df.info()"
      ],
      "metadata": {
        "colab": {
          "base_uri": "https://localhost:8080/"
        },
        "id": "4dpy0WsP7xY9",
        "outputId": "2c03aa0d-37e1-4f0c-e786-819407ddcf72"
      },
      "execution_count": null,
      "outputs": [
        {
          "output_type": "stream",
          "name": "stdout",
          "text": [
            "<class 'pandas.core.frame.DataFrame'>\n",
            "Index: 934 entries, 1 to 971\n",
            "Data columns (total 5 columns):\n",
            " #   Column         Non-Null Count  Dtype   \n",
            "---  ------         --------------  -----   \n",
            " 0   username       934 non-null    object  \n",
            " 1   comment/reply  934 non-null    object  \n",
            " 2   time           934 non-null    category\n",
            " 3   likes          934 non-null    int64   \n",
            " 4   isReply        934 non-null    bool    \n",
            "dtypes: bool(1), category(1), int64(1), object(2)\n",
            "memory usage: 31.7+ KB\n"
          ]
        }
      ]
    },
    {
      "cell_type": "markdown",
      "source": [
        "We can see that `date` is now an ordered category type, and `likes` is an integer."
      ],
      "metadata": {
        "id": "_NRzPctyjql7"
      }
    },
    {
      "cell_type": "code",
      "source": [
        "df.describe(include='int').T"
      ],
      "metadata": {
        "colab": {
          "base_uri": "https://localhost:8080/",
          "height": 81
        },
        "id": "bn3CMzefDIYx",
        "outputId": "f168778b-1a4a-4c28-fd77-5e78df6f321a"
      },
      "execution_count": null,
      "outputs": [
        {
          "output_type": "execute_result",
          "data": {
            "text/plain": [
              "       count     mean        std  min  25%  50%  75%     max\n",
              "likes  934.0  9.56424  91.981181  0.0  0.0  0.0  1.0  2100.0"
            ],
            "text/html": [
              "\n",
              "  <div id=\"df-5e5dfcd2-f20f-4fba-aa3d-d1860e4e9a9c\" class=\"colab-df-container\">\n",
              "    <div>\n",
              "<style scoped>\n",
              "    .dataframe tbody tr th:only-of-type {\n",
              "        vertical-align: middle;\n",
              "    }\n",
              "\n",
              "    .dataframe tbody tr th {\n",
              "        vertical-align: top;\n",
              "    }\n",
              "\n",
              "    .dataframe thead th {\n",
              "        text-align: right;\n",
              "    }\n",
              "</style>\n",
              "<table border=\"1\" class=\"dataframe\">\n",
              "  <thead>\n",
              "    <tr style=\"text-align: right;\">\n",
              "      <th></th>\n",
              "      <th>count</th>\n",
              "      <th>mean</th>\n",
              "      <th>std</th>\n",
              "      <th>min</th>\n",
              "      <th>25%</th>\n",
              "      <th>50%</th>\n",
              "      <th>75%</th>\n",
              "      <th>max</th>\n",
              "    </tr>\n",
              "  </thead>\n",
              "  <tbody>\n",
              "    <tr>\n",
              "      <th>likes</th>\n",
              "      <td>934.0</td>\n",
              "      <td>9.56424</td>\n",
              "      <td>91.981181</td>\n",
              "      <td>0.0</td>\n",
              "      <td>0.0</td>\n",
              "      <td>0.0</td>\n",
              "      <td>1.0</td>\n",
              "      <td>2100.0</td>\n",
              "    </tr>\n",
              "  </tbody>\n",
              "</table>\n",
              "</div>\n",
              "    <div class=\"colab-df-buttons\">\n",
              "\n",
              "  <div class=\"colab-df-container\">\n",
              "    <button class=\"colab-df-convert\" onclick=\"convertToInteractive('df-5e5dfcd2-f20f-4fba-aa3d-d1860e4e9a9c')\"\n",
              "            title=\"Convert this dataframe to an interactive table.\"\n",
              "            style=\"display:none;\">\n",
              "\n",
              "  <svg xmlns=\"http://www.w3.org/2000/svg\" height=\"24px\" viewBox=\"0 -960 960 960\">\n",
              "    <path d=\"M120-120v-720h720v720H120Zm60-500h600v-160H180v160Zm220 220h160v-160H400v160Zm0 220h160v-160H400v160ZM180-400h160v-160H180v160Zm440 0h160v-160H620v160ZM180-180h160v-160H180v160Zm440 0h160v-160H620v160Z\"/>\n",
              "  </svg>\n",
              "    </button>\n",
              "\n",
              "  <style>\n",
              "    .colab-df-container {\n",
              "      display:flex;\n",
              "      gap: 12px;\n",
              "    }\n",
              "\n",
              "    .colab-df-convert {\n",
              "      background-color: #E8F0FE;\n",
              "      border: none;\n",
              "      border-radius: 50%;\n",
              "      cursor: pointer;\n",
              "      display: none;\n",
              "      fill: #1967D2;\n",
              "      height: 32px;\n",
              "      padding: 0 0 0 0;\n",
              "      width: 32px;\n",
              "    }\n",
              "\n",
              "    .colab-df-convert:hover {\n",
              "      background-color: #E2EBFA;\n",
              "      box-shadow: 0px 1px 2px rgba(60, 64, 67, 0.3), 0px 1px 3px 1px rgba(60, 64, 67, 0.15);\n",
              "      fill: #174EA6;\n",
              "    }\n",
              "\n",
              "    .colab-df-buttons div {\n",
              "      margin-bottom: 4px;\n",
              "    }\n",
              "\n",
              "    [theme=dark] .colab-df-convert {\n",
              "      background-color: #3B4455;\n",
              "      fill: #D2E3FC;\n",
              "    }\n",
              "\n",
              "    [theme=dark] .colab-df-convert:hover {\n",
              "      background-color: #434B5C;\n",
              "      box-shadow: 0px 1px 3px 1px rgba(0, 0, 0, 0.15);\n",
              "      filter: drop-shadow(0px 1px 2px rgba(0, 0, 0, 0.3));\n",
              "      fill: #FFFFFF;\n",
              "    }\n",
              "  </style>\n",
              "\n",
              "    <script>\n",
              "      const buttonEl =\n",
              "        document.querySelector('#df-5e5dfcd2-f20f-4fba-aa3d-d1860e4e9a9c button.colab-df-convert');\n",
              "      buttonEl.style.display =\n",
              "        google.colab.kernel.accessAllowed ? 'block' : 'none';\n",
              "\n",
              "      async function convertToInteractive(key) {\n",
              "        const element = document.querySelector('#df-5e5dfcd2-f20f-4fba-aa3d-d1860e4e9a9c');\n",
              "        const dataTable =\n",
              "          await google.colab.kernel.invokeFunction('convertToInteractive',\n",
              "                                                    [key], {});\n",
              "        if (!dataTable) return;\n",
              "\n",
              "        const docLinkHtml = 'Like what you see? Visit the ' +\n",
              "          '<a target=\"_blank\" href=https://colab.research.google.com/notebooks/data_table.ipynb>data table notebook</a>'\n",
              "          + ' to learn more about interactive tables.';\n",
              "        element.innerHTML = '';\n",
              "        dataTable['output_type'] = 'display_data';\n",
              "        await google.colab.output.renderOutput(dataTable, element);\n",
              "        const docLink = document.createElement('div');\n",
              "        docLink.innerHTML = docLinkHtml;\n",
              "        element.appendChild(docLink);\n",
              "      }\n",
              "    </script>\n",
              "  </div>\n",
              "\n",
              "\n",
              "    </div>\n",
              "  </div>\n"
            ],
            "application/vnd.google.colaboratory.intrinsic+json": {
              "type": "dataframe",
              "summary": "{\n  \"name\": \"df\",\n  \"rows\": 1,\n  \"fields\": [\n    {\n      \"column\": \"count\",\n      \"properties\": {\n        \"dtype\": \"number\",\n        \"std\": null,\n        \"min\": 934.0,\n        \"max\": 934.0,\n        \"num_unique_values\": 1,\n        \"samples\": [\n          934.0\n        ],\n        \"semantic_type\": \"\",\n        \"description\": \"\"\n      }\n    },\n    {\n      \"column\": \"mean\",\n      \"properties\": {\n        \"dtype\": \"number\",\n        \"std\": null,\n        \"min\": 9.56423982869379,\n        \"max\": 9.56423982869379,\n        \"num_unique_values\": 1,\n        \"samples\": [\n          9.56423982869379\n        ],\n        \"semantic_type\": \"\",\n        \"description\": \"\"\n      }\n    },\n    {\n      \"column\": \"std\",\n      \"properties\": {\n        \"dtype\": \"number\",\n        \"std\": null,\n        \"min\": 91.98118106147807,\n        \"max\": 91.98118106147807,\n        \"num_unique_values\": 1,\n        \"samples\": [\n          91.98118106147807\n        ],\n        \"semantic_type\": \"\",\n        \"description\": \"\"\n      }\n    },\n    {\n      \"column\": \"min\",\n      \"properties\": {\n        \"dtype\": \"number\",\n        \"std\": null,\n        \"min\": 0.0,\n        \"max\": 0.0,\n        \"num_unique_values\": 1,\n        \"samples\": [\n          0.0\n        ],\n        \"semantic_type\": \"\",\n        \"description\": \"\"\n      }\n    },\n    {\n      \"column\": \"25%\",\n      \"properties\": {\n        \"dtype\": \"number\",\n        \"std\": null,\n        \"min\": 0.0,\n        \"max\": 0.0,\n        \"num_unique_values\": 1,\n        \"samples\": [\n          0.0\n        ],\n        \"semantic_type\": \"\",\n        \"description\": \"\"\n      }\n    },\n    {\n      \"column\": \"50%\",\n      \"properties\": {\n        \"dtype\": \"number\",\n        \"std\": null,\n        \"min\": 0.0,\n        \"max\": 0.0,\n        \"num_unique_values\": 1,\n        \"samples\": [\n          0.0\n        ],\n        \"semantic_type\": \"\",\n        \"description\": \"\"\n      }\n    },\n    {\n      \"column\": \"75%\",\n      \"properties\": {\n        \"dtype\": \"number\",\n        \"std\": null,\n        \"min\": 1.0,\n        \"max\": 1.0,\n        \"num_unique_values\": 1,\n        \"samples\": [\n          1.0\n        ],\n        \"semantic_type\": \"\",\n        \"description\": \"\"\n      }\n    },\n    {\n      \"column\": \"max\",\n      \"properties\": {\n        \"dtype\": \"number\",\n        \"std\": null,\n        \"min\": 2100.0,\n        \"max\": 2100.0,\n        \"num_unique_values\": 1,\n        \"samples\": [\n          2100.0\n        ],\n        \"semantic_type\": \"\",\n        \"description\": \"\"\n      }\n    }\n  ]\n}"
            }
          },
          "metadata": {},
          "execution_count": 67
        }
      ]
    },
    {
      "cell_type": "markdown",
      "source": [
        "As a final check, I inspected the `likes` column for any anomalies or implausible values. No issues were found."
      ],
      "metadata": {
        "id": "XMX9cXK2j3Uq"
      }
    },
    {
      "cell_type": "markdown",
      "source": [
        "# Model Setup\n",
        "\n",
        "In this section, I retrieve and configure the API token to authenticate requests to Replicate and choose a designated model perfect for this analysis."
      ],
      "metadata": {
        "id": "8XtSgjRCBs3_"
      }
    },
    {
      "cell_type": "markdown",
      "source": [
        "I retrieve the API token from my Colab's user data and setting it as an environment variable so it can be used by the Replicate API."
      ],
      "metadata": {
        "id": "TRy2x5kEs1HH"
      }
    },
    {
      "cell_type": "code",
      "source": [
        "api_token = userdata.get('api_token')\n",
        "os.environ[\"REPLICATE_API_TOKEN\"] = api_token"
      ],
      "metadata": {
        "id": "F9VtEmjbBvE6"
      },
      "execution_count": null,
      "outputs": []
    },
    {
      "cell_type": "markdown",
      "source": [
        "I choose to use IBM Granite (`granite-3.3-8b-instruct`) because it is well-suited for two key tasks in this analysis: stance classification and summarization.\n",
        "\n",
        "The model has been fine-tuned with instruction-following data and **optimized for tasks like text classification**, which is central to identifying whether a comment supports hard work, favors talent, stays neutral, or is irrelevant. Its architecture allows it to understand nuanced language and subtle argumentation often present in real-world comments.\n",
        "\n",
        "Additionally, Granite is **designed to perform well in summarization tasks**, making it highly effective for deriving key insights from categorized comments and summarizing multiple sides of the debate.\n",
        "\n",
        "Together, these strengths make IBM Granite an ideal choice for conducting a rigorous, structured exploration of the hard work versus talent debate.\n",
        "\n",
        "Source: https://docs.api.nvidia.com/nim/reference/ibm-granite-3_3-8b-instruct"
      ],
      "metadata": {
        "id": "ZyDnk7mFppUJ"
      }
    },
    {
      "cell_type": "code",
      "source": [
        "model = \"ibm-granite/granite-3.3-8b-instruct\""
      ],
      "metadata": {
        "id": "TOQvXT7_BqXs"
      },
      "execution_count": null,
      "outputs": []
    },
    {
      "cell_type": "markdown",
      "source": [
        "# Feature Engineering\n",
        "\n",
        "In this section, I create a new column called `stance` which represent each comment's position in the hard work versus talent debate."
      ],
      "metadata": {
        "id": "InjRisK4BwBw"
      }
    },
    {
      "cell_type": "markdown",
      "source": [
        "Each comment will be reviewed and classified by the IBM Granite model into one of four categories:\n",
        "* 'Pro', comments that support the idea that hard work can overcome talent.\n",
        "* 'Contra', comments that argue talent outweights hard work.\n",
        "* 'Neutral', comments that acknowledge both sides without a strong stance.\n",
        "* 'Irrelevant', comments that do not meaningfully contribute to the debate, such as general video feedback or unrelated remarks.\n",
        "\n",
        "Including the **'Neutral'** category allows me to capture comments that acknowledge both hard work and talent without taking a strong stance, which adds depth to the analysis by revealing more nuanced or integrative perspectives. It provides a fuller, more balanced understanding of the overall sentiment surrounding the debate.\n",
        "\n",
        "On the other hand, **'Irrelevant'** comments will be dropped later to help ensure the analysis remains focused, accurate, and grounded in content that directly engages with the core debate."
      ],
      "metadata": {
        "id": "h4QDx1nEDxfP"
      }
    },
    {
      "cell_type": "markdown",
      "source": [
        "The model is fine tuned for the classification task based on the recommendation from \"Data Classification and Summarization Using IBM Granite\" module:\n",
        "- `top_k = 1`: Forces the model to always pick the most probable next word, making its output highly focused and deterministic.  \n",
        "- `top_p = 0.5`: Narrows the token pool to only high-probability options, making outputs more concise and relevant.  \n",
        "- `max_tokens = 3`: Strictly limits the response length, ensuring the output remains extremely brief and to the point.  \n",
        "- `min_tokens = 1`: Guarantees that at least one token is generated, preventing empty outputs while maintaining conciseness.  \n",
        "- `random_seed = 42` **(my pick)**: Makes the results consistent when running the same input again.  \n",
        "- `repetition_penalty = 1.5`: Strongly discourages repetition, encouraging more varied and compact wording.  \n",
        "- `stopping_criteria = \"length\"`: Ends generation once the token limit is reached, precisely controlling response size.  \n",
        "- `stopping_sequence = \" \"`: Encourages the model to stop at natural word boundaries, improving clarity even in short outputs.\n"
      ],
      "metadata": {
        "id": "_o5b7Dp-thru"
      }
    },
    {
      "cell_type": "code",
      "source": [
        "classification_parameters = {\n",
        "    \"top_k\": 1,\n",
        "    \"top_p\": 0.5,\n",
        "    \"max_tokens\": 3,\n",
        "    \"min_tokens\": 1,\n",
        "    \"random_seed\": 42,\n",
        "    \"repetition_penalty\": 1.5,\n",
        "    \"stopping_criteria\": \"length\",\n",
        "    \"stopping_sequence\": \" \"\n",
        "}"
      ],
      "metadata": {
        "id": "RMmJxWZjo0By"
      },
      "execution_count": null,
      "outputs": []
    },
    {
      "cell_type": "markdown",
      "source": [
        "Now, I initialize the Replicate object with the IBM Granite model and my classification task tuned parameters using my API token to classify each comment's stance."
      ],
      "metadata": {
        "id": "EhClwbYpuoux"
      }
    },
    {
      "cell_type": "code",
      "source": [
        "output = Replicate(\n",
        "    model=model,\n",
        "    replicate_api_token=api_token,\n",
        "    model_kwargs=classification_parameters\n",
        ")"
      ],
      "metadata": {
        "id": "dGrW9h9toZ-l"
      },
      "execution_count": null,
      "outputs": []
    },
    {
      "cell_type": "markdown",
      "source": [
        "I then prompt the model focusing on three key aspects.\n",
        "* **Context**: I define the task's domain clearly where the model roleplay as an expert to analyze YouTube comments that discuss the theme \"Hard work beats talent.\" This narrows the model's scope and attention to relevant expressions, attitudes, or stances related to the debate.\n",
        "* **Clarity**: I give a precise instruction to output only one of four possible labels ('Pro', 'Contra', 'Neutral', or 'Irrelevant'), and explicitly prohibits any additional text. It eliminates ambiguity and ensures consistent, minimal responses ideal for structured classification tasks.\n",
        "* **Examples**: I provide short realistic examples for each classification type. These examples demonstrate how to interpret different opinions and help guide the model toward accurate categorization, especially in nuanced or ambiguous cases."
      ],
      "metadata": {
        "id": "EagH1IFAL4fm"
      }
    },
    {
      "cell_type": "code",
      "source": [
        "classification_prompt = \"\"\"\n",
        "You are an expert sentiment classifier specializing in online comments about the relationship between hard work and talent.\n",
        "Your task is to strictly categorize YouTube comments based on their stance toward the statement: \"Hard work beats talent.\"\n",
        "Analyze the following comment and provide ONLY ONE WORD as its classification.\n",
        "Choose from these four categories: \"Pro\", \"Contra\", \"Neutral\", or \"Irrelevant\".\n",
        "Do NOT provide any explanation, reasoning, or additional text before or after the classification word.\n",
        "\n",
        "Here are examples to guide your classification:\n",
        "\n",
        "Comment: \"Hard work always pays off, talent means nothing without effort.\"\n",
        "Classification: Pro\n",
        "\n",
        "Comment: \"Some people are just born with it, no matter how hard I try I can't keep up.\"\n",
        "Classification: Contra\n",
        "\n",
        "Comment: \"Both hard work and talent are important for success.\"\n",
        "Classification: Neutral\n",
        "\n",
        "Comment: \"Great video! Thanks for sharing.\"\n",
        "Classification: Irrelevant\n",
        "\n",
        "Comment:\n",
        "{comment}\n",
        "\n",
        "Classification:\"\"\""
      ],
      "metadata": {
        "id": "yJ7MySB1mPvv"
      },
      "execution_count": null,
      "outputs": []
    },
    {
      "cell_type": "markdown",
      "source": [
        "Time to classify each comment's stance."
      ],
      "metadata": {
        "id": "Sz3E7bJsO6Nb"
      }
    },
    {
      "cell_type": "code",
      "source": [
        "# Create a new column for the stance\n",
        "df['stance'] = None\n",
        "\n",
        "# Iterate through each comment and classify it\n",
        "for index, row in tqdm(df.iterrows(), total=df.shape[0], desc=\"Classifying comments\"):\n",
        "    comment = row['comment/reply']\n",
        "    prompt = classification_prompt.format(comment=comment)\n",
        "\n",
        "    # Get the model's prediction\n",
        "    prediction = output.invoke(prompt)\n",
        "\n",
        "    # Clean up the prediction to ensure it's just one word (handle potential newline characters or extra spaces)\n",
        "    cleaned_prediction = prediction.strip().split('\\n')[0].split(' ')[0]\n",
        "\n",
        "    # Further validation to ensure the output is one of the expected categories\n",
        "    valid_categories = [\"Pro\", \"Contra\", \"Neutral\", \"Irrelevant\"]\n",
        "    if cleaned_prediction in valid_categories:\n",
        "        df.loc[index, 'stance'] = cleaned_prediction\n",
        "    else:\n",
        "        print(f\"Model returned unexpected classification '{prediction}' for comment at index {index}\")\n",
        "        df.loc[index, 'stance'] = prediction # Store raw prediction\n",
        "\n",
        "print(\"First 5 comments with new column 'stance':\")\n",
        "display(df.head())"
      ],
      "metadata": {
        "colab": {
          "base_uri": "https://localhost:8080/",
          "height": 1000,
          "referenced_widgets": [
            "92f484d3406649a6a7a7e7b4c9dbc6cf",
            "5edabcffa4424cffb8544a8aafaa824e",
            "30e64757f92d4b4abcc20da445422162",
            "59b73b1eb64c445ab253f4383644822a",
            "f941ea01da3b4ac1b01e36285ee24cf5",
            "c3cd1364bf7646b6a02a4522fd9b1a14",
            "f253ab664c7744cfb7b6cccd4b40080f",
            "90b44bb3160044b7a98bbd381c406b23",
            "595cc1b6b1254540ac532ad99b8ace55",
            "f9f5338d0a444e908adc5d3a563780e1",
            "30f5a2f4577a4013b9716ddf2aceecb4"
          ]
        },
        "id": "3wGE21UsqMrm",
        "outputId": "f9506f29-8959-46df-e7df-69638221f763"
      },
      "execution_count": null,
      "outputs": [
        {
          "output_type": "display_data",
          "data": {
            "text/plain": [
              "Classifying comments:   0%|          | 0/934 [00:00<?, ?it/s]"
            ],
            "application/vnd.jupyter.widget-view+json": {
              "version_major": 2,
              "version_minor": 0,
              "model_id": "92f484d3406649a6a7a7e7b4c9dbc6cf"
            }
          },
          "metadata": {}
        },
        {
          "output_type": "stream",
          "name": "stdout",
          "text": [
            "First 5 comments with new column 'stance':\n"
          ]
        },
        {
          "output_type": "display_data",
          "data": {
            "text/plain": [
              "          username  \\\n",
              "1          @vikshi   \n",
              "2      @julesinmed   \n",
              "3  @alphaomega6023   \n",
              "4        @eagle772   \n",
              "5   @zirak21mistry   \n",
              "\n",
              "                                                                                                                                                                                                                                                                                                                                                                                                                                                                                                                                                                                                                                                                                                                                                                                                                                                                                                        comment/reply  \\\n",
              "1                                                                                                                                                                                                                                                                                                                                                                                                                                                                                                                                                                                                                                                                                                                                                                                                                                                                Hardwork beats talent when talent doesn't work hard.   \n",
              "2                                                                                                                                                                                                                                                                                                                                                                                                                                     Personally, I think hard work should lead to smart work. We tend to associate the term hard work with concepts like long hours, lack of sleep and exhaustion, while it would be more useful if these circumstances were seen as a ''prompt'' to find a way to work smarter (simply to avoid being crushed by them, following natural evolution and self-preservation). Also, the process of simplification is itself ''hard work'', just not in the conventional, general view!   \n",
              "3                                                                                                                                                                                                                                                                                                                                                                                                                                                                                                                                                                                                                                                                                                                                        4:21 1. Hard work has diminishing returns\\r\\n6:27 2. Effort is fuel\\r\\n10:29 3. Hard work is also about the type of work that you do\\r\\n12:22 Two things to do to solve this   \n",
              "4                                                                                                                                                                                                                                                                                                                                                                                                                                                    “Talent is just the natural ability for someone to intuitively use more optimal processes.” \\n\\nWow, that is some deep insight!\\n\\nIt basically means, you need to discover the optimal processes that will give you the desired results . And then train yourself on making them intuitive; second nature. \\n\\nThen keep upgrading them. So you are able to do more with less. \\n\\nThank you Justin! You have literally changed my life. \\n\\nThank you brother!   \n",
              "5  \"You can work hard and still do poorly\". Can't agree more. All my engineering years, I worked fairly hard, put in multiple extra hours, and attended extra classes. Even after all this extra effort, I managed to get slightly about average grades whereas my few talented peers worked half as hard but produced double the results with exceptional grades. That was the moment when I realised that it is more to it than just hard work.\\n\\nEveryone always says to work harder and harder. They say that you have not yet achieved success because you have not worked hard enough. \\n\\nI feel it is only so much hard work you can do because you have limited time and energy and it is only a matter of time before your genetics give up and you get burnt out (probably multiple times) and give up eventually.\\n\\nFinally someone can understand my point of view. Glad I found you and your channel.   \n",
              "\n",
              "         time  likes  isReply      stance  \n",
              "1  1 year ago   2100    False         Pro  \n",
              "2  1 year ago   1300    False         Pro  \n",
              "3  1 year ago    372    False     Neutral  \n",
              "4  1 year ago    916    False  Irrelevant  \n",
              "5  1 year ago    622    False      Contra  "
            ],
            "text/html": [
              "\n",
              "  <div id=\"df-4413f4c8-2f34-4166-8d06-c9e22e57f61e\" class=\"colab-df-container\">\n",
              "    <div>\n",
              "<style scoped>\n",
              "    .dataframe tbody tr th:only-of-type {\n",
              "        vertical-align: middle;\n",
              "    }\n",
              "\n",
              "    .dataframe tbody tr th {\n",
              "        vertical-align: top;\n",
              "    }\n",
              "\n",
              "    .dataframe thead th {\n",
              "        text-align: right;\n",
              "    }\n",
              "</style>\n",
              "<table border=\"1\" class=\"dataframe\">\n",
              "  <thead>\n",
              "    <tr style=\"text-align: right;\">\n",
              "      <th></th>\n",
              "      <th>username</th>\n",
              "      <th>comment/reply</th>\n",
              "      <th>time</th>\n",
              "      <th>likes</th>\n",
              "      <th>isReply</th>\n",
              "      <th>stance</th>\n",
              "    </tr>\n",
              "  </thead>\n",
              "  <tbody>\n",
              "    <tr>\n",
              "      <th>1</th>\n",
              "      <td>@vikshi</td>\n",
              "      <td>Hardwork beats talent when talent doesn't work hard.</td>\n",
              "      <td>1 year ago</td>\n",
              "      <td>2100</td>\n",
              "      <td>False</td>\n",
              "      <td>Pro</td>\n",
              "    </tr>\n",
              "    <tr>\n",
              "      <th>2</th>\n",
              "      <td>@julesinmed</td>\n",
              "      <td>Personally, I think hard work should lead to smart work. We tend to associate the term hard work with concepts like long hours, lack of sleep and exhaustion, while it would be more useful if these circumstances were seen as a ''prompt'' to find a way to work smarter (simply to avoid being crushed by them, following natural evolution and self-preservation). Also, the process of simplification is itself ''hard work'', just not in the conventional, general view!</td>\n",
              "      <td>1 year ago</td>\n",
              "      <td>1300</td>\n",
              "      <td>False</td>\n",
              "      <td>Pro</td>\n",
              "    </tr>\n",
              "    <tr>\n",
              "      <th>3</th>\n",
              "      <td>@alphaomega6023</td>\n",
              "      <td>4:21 1. Hard work has diminishing returns\\r\\n6:27 2. Effort is fuel\\r\\n10:29 3. Hard work is also about the type of work that you do\\r\\n12:22 Two things to do to solve this</td>\n",
              "      <td>1 year ago</td>\n",
              "      <td>372</td>\n",
              "      <td>False</td>\n",
              "      <td>Neutral</td>\n",
              "    </tr>\n",
              "    <tr>\n",
              "      <th>4</th>\n",
              "      <td>@eagle772</td>\n",
              "      <td>“Talent is just the natural ability for someone to intuitively use more optimal processes.” \\n\\nWow, that is some deep insight!\\n\\nIt basically means, you need to discover the optimal processes that will give you the desired results . And then train yourself on making them intuitive; second nature. \\n\\nThen keep upgrading them. So you are able to do more with less. \\n\\nThank you Justin! You have literally changed my life. \\n\\nThank you brother!</td>\n",
              "      <td>1 year ago</td>\n",
              "      <td>916</td>\n",
              "      <td>False</td>\n",
              "      <td>Irrelevant</td>\n",
              "    </tr>\n",
              "    <tr>\n",
              "      <th>5</th>\n",
              "      <td>@zirak21mistry</td>\n",
              "      <td>\"You can work hard and still do poorly\". Can't agree more. All my engineering years, I worked fairly hard, put in multiple extra hours, and attended extra classes. Even after all this extra effort, I managed to get slightly about average grades whereas my few talented peers worked half as hard but produced double the results with exceptional grades. That was the moment when I realised that it is more to it than just hard work.\\n\\nEveryone always says to work harder and harder. They say that you have not yet achieved success because you have not worked hard enough. \\n\\nI feel it is only so much hard work you can do because you have limited time and energy and it is only a matter of time before your genetics give up and you get burnt out (probably multiple times) and give up eventually.\\n\\nFinally someone can understand my point of view. Glad I found you and your channel.</td>\n",
              "      <td>1 year ago</td>\n",
              "      <td>622</td>\n",
              "      <td>False</td>\n",
              "      <td>Contra</td>\n",
              "    </tr>\n",
              "  </tbody>\n",
              "</table>\n",
              "</div>\n",
              "    <div class=\"colab-df-buttons\">\n",
              "\n",
              "  <div class=\"colab-df-container\">\n",
              "    <button class=\"colab-df-convert\" onclick=\"convertToInteractive('df-4413f4c8-2f34-4166-8d06-c9e22e57f61e')\"\n",
              "            title=\"Convert this dataframe to an interactive table.\"\n",
              "            style=\"display:none;\">\n",
              "\n",
              "  <svg xmlns=\"http://www.w3.org/2000/svg\" height=\"24px\" viewBox=\"0 -960 960 960\">\n",
              "    <path d=\"M120-120v-720h720v720H120Zm60-500h600v-160H180v160Zm220 220h160v-160H400v160Zm0 220h160v-160H400v160ZM180-400h160v-160H180v160Zm440 0h160v-160H620v160ZM180-180h160v-160H180v160Zm440 0h160v-160H620v160Z\"/>\n",
              "  </svg>\n",
              "    </button>\n",
              "\n",
              "  <style>\n",
              "    .colab-df-container {\n",
              "      display:flex;\n",
              "      gap: 12px;\n",
              "    }\n",
              "\n",
              "    .colab-df-convert {\n",
              "      background-color: #E8F0FE;\n",
              "      border: none;\n",
              "      border-radius: 50%;\n",
              "      cursor: pointer;\n",
              "      display: none;\n",
              "      fill: #1967D2;\n",
              "      height: 32px;\n",
              "      padding: 0 0 0 0;\n",
              "      width: 32px;\n",
              "    }\n",
              "\n",
              "    .colab-df-convert:hover {\n",
              "      background-color: #E2EBFA;\n",
              "      box-shadow: 0px 1px 2px rgba(60, 64, 67, 0.3), 0px 1px 3px 1px rgba(60, 64, 67, 0.15);\n",
              "      fill: #174EA6;\n",
              "    }\n",
              "\n",
              "    .colab-df-buttons div {\n",
              "      margin-bottom: 4px;\n",
              "    }\n",
              "\n",
              "    [theme=dark] .colab-df-convert {\n",
              "      background-color: #3B4455;\n",
              "      fill: #D2E3FC;\n",
              "    }\n",
              "\n",
              "    [theme=dark] .colab-df-convert:hover {\n",
              "      background-color: #434B5C;\n",
              "      box-shadow: 0px 1px 3px 1px rgba(0, 0, 0, 0.15);\n",
              "      filter: drop-shadow(0px 1px 2px rgba(0, 0, 0, 0.3));\n",
              "      fill: #FFFFFF;\n",
              "    }\n",
              "  </style>\n",
              "\n",
              "    <script>\n",
              "      const buttonEl =\n",
              "        document.querySelector('#df-4413f4c8-2f34-4166-8d06-c9e22e57f61e button.colab-df-convert');\n",
              "      buttonEl.style.display =\n",
              "        google.colab.kernel.accessAllowed ? 'block' : 'none';\n",
              "\n",
              "      async function convertToInteractive(key) {\n",
              "        const element = document.querySelector('#df-4413f4c8-2f34-4166-8d06-c9e22e57f61e');\n",
              "        const dataTable =\n",
              "          await google.colab.kernel.invokeFunction('convertToInteractive',\n",
              "                                                    [key], {});\n",
              "        if (!dataTable) return;\n",
              "\n",
              "        const docLinkHtml = 'Like what you see? Visit the ' +\n",
              "          '<a target=\"_blank\" href=https://colab.research.google.com/notebooks/data_table.ipynb>data table notebook</a>'\n",
              "          + ' to learn more about interactive tables.';\n",
              "        element.innerHTML = '';\n",
              "        dataTable['output_type'] = 'display_data';\n",
              "        await google.colab.output.renderOutput(dataTable, element);\n",
              "        const docLink = document.createElement('div');\n",
              "        docLink.innerHTML = docLinkHtml;\n",
              "        element.appendChild(docLink);\n",
              "      }\n",
              "    </script>\n",
              "  </div>\n",
              "\n",
              "\n",
              "    <div id=\"df-b9760c59-0fce-446c-9683-48628dbf4189\">\n",
              "      <button class=\"colab-df-quickchart\" onclick=\"quickchart('df-b9760c59-0fce-446c-9683-48628dbf4189')\"\n",
              "                title=\"Suggest charts\"\n",
              "                style=\"display:none;\">\n",
              "\n",
              "<svg xmlns=\"http://www.w3.org/2000/svg\" height=\"24px\"viewBox=\"0 0 24 24\"\n",
              "     width=\"24px\">\n",
              "    <g>\n",
              "        <path d=\"M19 3H5c-1.1 0-2 .9-2 2v14c0 1.1.9 2 2 2h14c1.1 0 2-.9 2-2V5c0-1.1-.9-2-2-2zM9 17H7v-7h2v7zm4 0h-2V7h2v10zm4 0h-2v-4h2v4z\"/>\n",
              "    </g>\n",
              "</svg>\n",
              "      </button>\n",
              "\n",
              "<style>\n",
              "  .colab-df-quickchart {\n",
              "      --bg-color: #E8F0FE;\n",
              "      --fill-color: #1967D2;\n",
              "      --hover-bg-color: #E2EBFA;\n",
              "      --hover-fill-color: #174EA6;\n",
              "      --disabled-fill-color: #AAA;\n",
              "      --disabled-bg-color: #DDD;\n",
              "  }\n",
              "\n",
              "  [theme=dark] .colab-df-quickchart {\n",
              "      --bg-color: #3B4455;\n",
              "      --fill-color: #D2E3FC;\n",
              "      --hover-bg-color: #434B5C;\n",
              "      --hover-fill-color: #FFFFFF;\n",
              "      --disabled-bg-color: #3B4455;\n",
              "      --disabled-fill-color: #666;\n",
              "  }\n",
              "\n",
              "  .colab-df-quickchart {\n",
              "    background-color: var(--bg-color);\n",
              "    border: none;\n",
              "    border-radius: 50%;\n",
              "    cursor: pointer;\n",
              "    display: none;\n",
              "    fill: var(--fill-color);\n",
              "    height: 32px;\n",
              "    padding: 0;\n",
              "    width: 32px;\n",
              "  }\n",
              "\n",
              "  .colab-df-quickchart:hover {\n",
              "    background-color: var(--hover-bg-color);\n",
              "    box-shadow: 0 1px 2px rgba(60, 64, 67, 0.3), 0 1px 3px 1px rgba(60, 64, 67, 0.15);\n",
              "    fill: var(--button-hover-fill-color);\n",
              "  }\n",
              "\n",
              "  .colab-df-quickchart-complete:disabled,\n",
              "  .colab-df-quickchart-complete:disabled:hover {\n",
              "    background-color: var(--disabled-bg-color);\n",
              "    fill: var(--disabled-fill-color);\n",
              "    box-shadow: none;\n",
              "  }\n",
              "\n",
              "  .colab-df-spinner {\n",
              "    border: 2px solid var(--fill-color);\n",
              "    border-color: transparent;\n",
              "    border-bottom-color: var(--fill-color);\n",
              "    animation:\n",
              "      spin 1s steps(1) infinite;\n",
              "  }\n",
              "\n",
              "  @keyframes spin {\n",
              "    0% {\n",
              "      border-color: transparent;\n",
              "      border-bottom-color: var(--fill-color);\n",
              "      border-left-color: var(--fill-color);\n",
              "    }\n",
              "    20% {\n",
              "      border-color: transparent;\n",
              "      border-left-color: var(--fill-color);\n",
              "      border-top-color: var(--fill-color);\n",
              "    }\n",
              "    30% {\n",
              "      border-color: transparent;\n",
              "      border-left-color: var(--fill-color);\n",
              "      border-top-color: var(--fill-color);\n",
              "      border-right-color: var(--fill-color);\n",
              "    }\n",
              "    40% {\n",
              "      border-color: transparent;\n",
              "      border-right-color: var(--fill-color);\n",
              "      border-top-color: var(--fill-color);\n",
              "    }\n",
              "    60% {\n",
              "      border-color: transparent;\n",
              "      border-right-color: var(--fill-color);\n",
              "    }\n",
              "    80% {\n",
              "      border-color: transparent;\n",
              "      border-right-color: var(--fill-color);\n",
              "      border-bottom-color: var(--fill-color);\n",
              "    }\n",
              "    90% {\n",
              "      border-color: transparent;\n",
              "      border-bottom-color: var(--fill-color);\n",
              "    }\n",
              "  }\n",
              "</style>\n",
              "\n",
              "      <script>\n",
              "        async function quickchart(key) {\n",
              "          const quickchartButtonEl =\n",
              "            document.querySelector('#' + key + ' button');\n",
              "          quickchartButtonEl.disabled = true;  // To prevent multiple clicks.\n",
              "          quickchartButtonEl.classList.add('colab-df-spinner');\n",
              "          try {\n",
              "            const charts = await google.colab.kernel.invokeFunction(\n",
              "                'suggestCharts', [key], {});\n",
              "          } catch (error) {\n",
              "            console.error('Error during call to suggestCharts:', error);\n",
              "          }\n",
              "          quickchartButtonEl.classList.remove('colab-df-spinner');\n",
              "          quickchartButtonEl.classList.add('colab-df-quickchart-complete');\n",
              "        }\n",
              "        (() => {\n",
              "          let quickchartButtonEl =\n",
              "            document.querySelector('#df-b9760c59-0fce-446c-9683-48628dbf4189 button');\n",
              "          quickchartButtonEl.style.display =\n",
              "            google.colab.kernel.accessAllowed ? 'block' : 'none';\n",
              "        })();\n",
              "      </script>\n",
              "    </div>\n",
              "\n",
              "    </div>\n",
              "  </div>\n"
            ],
            "application/vnd.google.colaboratory.intrinsic+json": {
              "type": "dataframe",
              "summary": "{\n  \"name\": \"display(df\",\n  \"rows\": 5,\n  \"fields\": [\n    {\n      \"column\": \"username\",\n      \"properties\": {\n        \"dtype\": \"string\",\n        \"num_unique_values\": 5,\n        \"samples\": [\n          \"@julesinmed\",\n          \"@zirak21mistry\",\n          \"@alphaomega6023\"\n        ],\n        \"semantic_type\": \"\",\n        \"description\": \"\"\n      }\n    },\n    {\n      \"column\": \"comment/reply\",\n      \"properties\": {\n        \"dtype\": \"string\",\n        \"num_unique_values\": 5,\n        \"samples\": [\n          \"Personally, I think hard work should lead to smart work. We tend to associate the term hard work with concepts like long hours, lack of sleep and exhaustion, while it would be more useful if these circumstances were seen as a ''prompt'' to find a way to work smarter (simply to avoid being crushed by them, following natural evolution and self-preservation). Also, the process of simplification is itself ''hard work'', just not in the conventional, general view!\",\n          \"\\\"You can work hard and still do poorly\\\". Can't agree more. All my engineering years, I worked fairly hard, put in multiple extra hours, and attended extra classes. Even after all this extra effort, I managed to get slightly about average grades whereas my few talented peers worked half as hard but produced double the results with exceptional grades. That was the moment when I realised that it is more to it than just hard work.\\n\\nEveryone always says to work harder and harder. They say that you have not yet achieved success because you have not worked hard enough. \\n\\nI feel it is only so much hard work you can do because you have limited time and energy and it is only a matter of time before your genetics give up and you get burnt out (probably multiple times) and give up eventually.\\n\\nFinally someone can understand my point of view. Glad I found you and your channel.\",\n          \"4:21 1. Hard work has diminishing returns\\r\\n6:27 2. Effort is fuel\\r\\n10:29 3. Hard work is also about the type of work that you do\\r\\n12:22 Two things to do to solve this\"\n        ],\n        \"semantic_type\": \"\",\n        \"description\": \"\"\n      }\n    },\n    {\n      \"column\": \"time\",\n      \"properties\": {\n        \"dtype\": \"category\",\n        \"num_unique_values\": 1,\n        \"samples\": [\n          \"1 year ago\"\n        ],\n        \"semantic_type\": \"\",\n        \"description\": \"\"\n      }\n    },\n    {\n      \"column\": \"likes\",\n      \"properties\": {\n        \"dtype\": \"number\",\n        \"std\": 675,\n        \"min\": 372,\n        \"max\": 2100,\n        \"num_unique_values\": 5,\n        \"samples\": [\n          1300\n        ],\n        \"semantic_type\": \"\",\n        \"description\": \"\"\n      }\n    },\n    {\n      \"column\": \"isReply\",\n      \"properties\": {\n        \"dtype\": \"boolean\",\n        \"num_unique_values\": 1,\n        \"samples\": [\n          false\n        ],\n        \"semantic_type\": \"\",\n        \"description\": \"\"\n      }\n    },\n    {\n      \"column\": \"stance\",\n      \"properties\": {\n        \"dtype\": \"string\",\n        \"num_unique_values\": 4,\n        \"samples\": [\n          \"Neutral\"\n        ],\n        \"semantic_type\": \"\",\n        \"description\": \"\"\n      }\n    }\n  ]\n}"
            }
          },
          "metadata": {}
        }
      ]
    },
    {
      "cell_type": "markdown",
      "source": [
        "Looking at the first five comments, it seems to classify the comments quite well.\n",
        "* The **first comment** is correctly classified as 'Pro' because it clearly supports the value of hard work over talent.\n",
        "* The **second comment** is also accurately labeled 'Pro', as it reframes hard work into a smarter approach without undermining its importance.\n",
        "* The **third comment** is rightly marked 'Neutral' since it discusses various perspectives on hard work without taking a clear stance for or against it.\n",
        "* The **fourth comment** labeled as 'Irrelevant' is appropriate because its focus is on personal gratitude and life transformation, not on taking a clear stance in the hard work vs talent debate.\n",
        "* The **fifth comment** is also appropriate as 'Contra' because it argues that talent outperforms hard work based on his experience.\n",
        "\n",
        "Before immediately dropping the 'Irrelevant' categories, I want to check its composition inside the dataset to see the significance of dropping it."
      ],
      "metadata": {
        "id": "H4qzNb5gSjGB"
      }
    },
    {
      "cell_type": "code",
      "source": [
        "# Define a color map for each stance with my chosen shades\n",
        "color_map = {\n",
        "    'Pro': '#87CEFA',     # Light Sky Blue\n",
        "    'Contra': '#FA8072',  # Salmon\n",
        "    'Neutral': '#90EE90', # Light Green\n",
        "    'Irrelevant': '#D3D3D3' # Light Grey\n",
        "}"
      ],
      "metadata": {
        "id": "huTET4p4Prt1"
      },
      "execution_count": null,
      "outputs": []
    },
    {
      "cell_type": "code",
      "source": [
        "# Count the occurrences of each stance category\n",
        "stance_counts = df['stance'].value_counts()\n",
        "\n",
        "# Create a list of colors in the order of the stance_counts index\n",
        "colors = [color_map[stance] for stance in stance_counts.index]\n",
        "\n",
        "# Create a pie chart\n",
        "plt.figure(figsize=(8, 8))\n",
        "plt.pie(stance_counts, labels=stance_counts.index, autopct='%1.2f%%', startangle=90, colors=colors)\n",
        "plt.title('Distribution of Comment Stances')\n",
        "plt.axis('equal')\n",
        "plt.show()"
      ],
      "metadata": {
        "colab": {
          "base_uri": "https://localhost:8080/",
          "height": 699
        },
        "id": "di4kas2ZPwht",
        "outputId": "648203c8-834c-457f-fe3d-4255c515da88"
      },
      "execution_count": null,
      "outputs": [
        {
          "output_type": "display_data",
          "data": {
            "text/plain": [
              "<Figure size 800x800 with 1 Axes>"
            ],
            "image/png": "[encoded data removed]"
          },
          "metadata": {}
        }
      ]
    },
    {
      "cell_type": "markdown",
      "source": [
        "'Irrelevant' comments only make up about 23.55% of the data, hence removing them will surely sharpen the insight derived from my future analysis without compromising dataset size."
      ],
      "metadata": {
        "id": "WkqyIf6KSOUU"
      }
    },
    {
      "cell_type": "code",
      "source": [
        "df = df[df['stance'] != 'Irrelevant'].copy()\n",
        "\n",
        "print(f\"Number of comments after removing irrelevant comments: {len(df)}\")\n",
        "display(df.head(10))"
      ],
      "metadata": {
        "colab": {
          "base_uri": "https://localhost:8080/",
          "height": 1000
        },
        "id": "lChhVSLUUSwz",
        "outputId": "8e43ff6a-35d6-4182-b7f9-b30a1de57058"
      },
      "execution_count": null,
      "outputs": [
        {
          "output_type": "stream",
          "name": "stdout",
          "text": [
            "Number of comments after removing irrelevant comments: 714\n"
          ]
        },
        {
          "output_type": "display_data",
          "data": {
            "text/plain": [
              "             username  \\\n",
              "1             @vikshi   \n",
              "2         @julesinmed   \n",
              "3     @alphaomega6023   \n",
              "5      @zirak21mistry   \n",
              "6       @Darknight526   \n",
              "7   @PixelatedApollo1   \n",
              "8        @debeatz3381   \n",
              "9     @shenghongzhong   \n",
              "10          @eagle772   \n",
              "11          @IamKudos   \n",
              "\n",
              "                                                                                                                                                                                                                                                                                                                                                                                                                                                                                                                                                                                                                                                                                                                                                                                                                                                                                                                                                                                     comment/reply  \\\n",
              "1                                                                                                                                                                                                                                                                                                                                                                                                                                                                                                                                                                                                                                                                                                                                                                                                                                                                                                                                             Hardwork beats talent when talent doesn't work hard.   \n",
              "2                                                                                                                                                                                                                                                                                                                                                                                                                                                                                                                  Personally, I think hard work should lead to smart work. We tend to associate the term hard work with concepts like long hours, lack of sleep and exhaustion, while it would be more useful if these circumstances were seen as a ''prompt'' to find a way to work smarter (simply to avoid being crushed by them, following natural evolution and self-preservation). Also, the process of simplification is itself ''hard work'', just not in the conventional, general view!   \n",
              "3                                                                                                                                                                                                                                                                                                                                                                                                                                                                                                                                                                                                                                                                                                                                                                                                                     4:21 1. Hard work has diminishing returns\\r\\n6:27 2. Effort is fuel\\r\\n10:29 3. Hard work is also about the type of work that you do\\r\\n12:22 Two things to do to solve this   \n",
              "5                                                                               \"You can work hard and still do poorly\". Can't agree more. All my engineering years, I worked fairly hard, put in multiple extra hours, and attended extra classes. Even after all this extra effort, I managed to get slightly about average grades whereas my few talented peers worked half as hard but produced double the results with exceptional grades. That was the moment when I realised that it is more to it than just hard work.\\n\\nEveryone always says to work harder and harder. They say that you have not yet achieved success because you have not worked hard enough. \\n\\nI feel it is only so much hard work you can do because you have limited time and energy and it is only a matter of time before your genetics give up and you get burnt out (probably multiple times) and give up eventually.\\n\\nFinally someone can understand my point of view. Glad I found you and your channel.   \n",
              "6                                                                                                                                                                                                                                                                                                                                                                                                                                                                                                                                                                                                                                                                                                                                                                                                                                                       12:06\\nSuccess = Hard work x Talent x Processes \\nTalent is the natural ability to intuitively use more optimal processes.\\nThanks Justin!   \n",
              "7                                                                                                                                                                                                                                                                                                                                                                                                                                                                                                                                                                                                                                      It’s also enormously BASED when someone who struggles more at doing something, (or has less talent) but works hard anyways. They can see peers easily progressing faster than them, but yet they struggle on and achieve greatness within their own time. I respect people who accomplish something very challenging, even if it was easy for other people.   \n",
              "8                                                                                                                                                                                                                                                                                                                                                                                                                                                                                                                                                                                                                                                                                                                                                                                                                           can't beat a guy with both hard work and talent. Met a guy like that....dude was a machine, my man is gonna be a good doctor after 3 years. Wishing him all the best 👍   \n",
              "9                                                                                                                                                                                                                                                                                                                                                                                                                                                                                                                                                                                                                                                                                                                                                                                   \"Taking action is rarely about changing your action immediately. Most of time, especially for things that are difficult and complex, taking action means making decision to learn what action you should take\"   \n",
              "10                                                                                                                                                                                                                                                                                                                                                                                                                                                                                                                                                                                                                                                                                                                                                                                                                                                               “Working hard never had anything to do with it. It’s not about how hard you work on something. It’s about doing the right thing.”   \n",
              "11  Really love this video. I think the reason people love to say \"Hard work beats talent\" is because they see talent as this mysterious gift that people have been privileged with by genetics or something. People don't want to flip a stone to check and see what really is talent. It's just better cognitive recognition and higher-order learning that people do accidentally for one thing. And because they didn't realize that they were doing that, they cant seem to apply that for others. Hence that becomes their \"talent\". And people like things explained in simplified terms. So they don't even want to wrap their head around what talent really is, or if they can DEVELOP or LEARN to be smart, to be talented. Deploying your brain is seeming to be harder to people than just passively putting in a grind of 10 hours of hard work. When you're active and aware of the processes you're using to improve yourself, you will achieve something even better than talent.   \n",
              "\n",
              "          time  likes  isReply   stance  \n",
              "1   1 year ago   2100    False      Pro  \n",
              "2   1 year ago   1300    False      Pro  \n",
              "3   1 year ago    372    False  Neutral  \n",
              "5   1 year ago    622    False   Contra  \n",
              "6   1 year ago     35    False      Pro  \n",
              "7   1 year ago     36    False      Pro  \n",
              "8   1 year ago     47    False      Pro  \n",
              "9   1 year ago    159    False  Neutral  \n",
              "10  1 year ago    489    False   Contra  \n",
              "11  1 year ago    213    False      Pro  "
            ],
            "text/html": [
              "\n",
              "  <div id=\"df-b84919c6-f45b-4249-83b8-348d168009fb\" class=\"colab-df-container\">\n",
              "    <div>\n",
              "<style scoped>\n",
              "    .dataframe tbody tr th:only-of-type {\n",
              "        vertical-align: middle;\n",
              "    }\n",
              "\n",
              "    .dataframe tbody tr th {\n",
              "        vertical-align: top;\n",
              "    }\n",
              "\n",
              "    .dataframe thead th {\n",
              "        text-align: right;\n",
              "    }\n",
              "</style>\n",
              "<table border=\"1\" class=\"dataframe\">\n",
              "  <thead>\n",
              "    <tr style=\"text-align: right;\">\n",
              "      <th></th>\n",
              "      <th>username</th>\n",
              "      <th>comment/reply</th>\n",
              "      <th>time</th>\n",
              "      <th>likes</th>\n",
              "      <th>isReply</th>\n",
              "      <th>stance</th>\n",
              "    </tr>\n",
              "  </thead>\n",
              "  <tbody>\n",
              "    <tr>\n",
              "      <th>1</th>\n",
              "      <td>@vikshi</td>\n",
              "      <td>Hardwork beats talent when talent doesn't work hard.</td>\n",
              "      <td>1 year ago</td>\n",
              "      <td>2100</td>\n",
              "      <td>False</td>\n",
              "      <td>Pro</td>\n",
              "    </tr>\n",
              "    <tr>\n",
              "      <th>2</th>\n",
              "      <td>@julesinmed</td>\n",
              "      <td>Personally, I think hard work should lead to smart work. We tend to associate the term hard work with concepts like long hours, lack of sleep and exhaustion, while it would be more useful if these circumstances were seen as a ''prompt'' to find a way to work smarter (simply to avoid being crushed by them, following natural evolution and self-preservation). Also, the process of simplification is itself ''hard work'', just not in the conventional, general view!</td>\n",
              "      <td>1 year ago</td>\n",
              "      <td>1300</td>\n",
              "      <td>False</td>\n",
              "      <td>Pro</td>\n",
              "    </tr>\n",
              "    <tr>\n",
              "      <th>3</th>\n",
              "      <td>@alphaomega6023</td>\n",
              "      <td>4:21 1. Hard work has diminishing returns\\r\\n6:27 2. Effort is fuel\\r\\n10:29 3. Hard work is also about the type of work that you do\\r\\n12:22 Two things to do to solve this</td>\n",
              "      <td>1 year ago</td>\n",
              "      <td>372</td>\n",
              "      <td>False</td>\n",
              "      <td>Neutral</td>\n",
              "    </tr>\n",
              "    <tr>\n",
              "      <th>5</th>\n",
              "      <td>@zirak21mistry</td>\n",
              "      <td>\"You can work hard and still do poorly\". Can't agree more. All my engineering years, I worked fairly hard, put in multiple extra hours, and attended extra classes. Even after all this extra effort, I managed to get slightly about average grades whereas my few talented peers worked half as hard but produced double the results with exceptional grades. That was the moment when I realised that it is more to it than just hard work.\\n\\nEveryone always says to work harder and harder. They say that you have not yet achieved success because you have not worked hard enough. \\n\\nI feel it is only so much hard work you can do because you have limited time and energy and it is only a matter of time before your genetics give up and you get burnt out (probably multiple times) and give up eventually.\\n\\nFinally someone can understand my point of view. Glad I found you and your channel.</td>\n",
              "      <td>1 year ago</td>\n",
              "      <td>622</td>\n",
              "      <td>False</td>\n",
              "      <td>Contra</td>\n",
              "    </tr>\n",
              "    <tr>\n",
              "      <th>6</th>\n",
              "      <td>@Darknight526</td>\n",
              "      <td>12:06\\nSuccess = Hard work x Talent x Processes \\nTalent is the natural ability to intuitively use more optimal processes.\\nThanks Justin!</td>\n",
              "      <td>1 year ago</td>\n",
              "      <td>35</td>\n",
              "      <td>False</td>\n",
              "      <td>Pro</td>\n",
              "    </tr>\n",
              "    <tr>\n",
              "      <th>7</th>\n",
              "      <td>@PixelatedApollo1</td>\n",
              "      <td>It’s also enormously BASED when someone who struggles more at doing something, (or has less talent) but works hard anyways. They can see peers easily progressing faster than them, but yet they struggle on and achieve greatness within their own time. I respect people who accomplish something very challenging, even if it was easy for other people.</td>\n",
              "      <td>1 year ago</td>\n",
              "      <td>36</td>\n",
              "      <td>False</td>\n",
              "      <td>Pro</td>\n",
              "    </tr>\n",
              "    <tr>\n",
              "      <th>8</th>\n",
              "      <td>@debeatz3381</td>\n",
              "      <td>can't beat a guy with both hard work and talent. Met a guy like that....dude was a machine, my man is gonna be a good doctor after 3 years. Wishing him all the best 👍</td>\n",
              "      <td>1 year ago</td>\n",
              "      <td>47</td>\n",
              "      <td>False</td>\n",
              "      <td>Pro</td>\n",
              "    </tr>\n",
              "    <tr>\n",
              "      <th>9</th>\n",
              "      <td>@shenghongzhong</td>\n",
              "      <td>\"Taking action is rarely about changing your action immediately. Most of time, especially for things that are difficult and complex, taking action means making decision to learn what action you should take\"</td>\n",
              "      <td>1 year ago</td>\n",
              "      <td>159</td>\n",
              "      <td>False</td>\n",
              "      <td>Neutral</td>\n",
              "    </tr>\n",
              "    <tr>\n",
              "      <th>10</th>\n",
              "      <td>@eagle772</td>\n",
              "      <td>“Working hard never had anything to do with it. It’s not about how hard you work on something. It’s about doing the right thing.”</td>\n",
              "      <td>1 year ago</td>\n",
              "      <td>489</td>\n",
              "      <td>False</td>\n",
              "      <td>Contra</td>\n",
              "    </tr>\n",
              "    <tr>\n",
              "      <th>11</th>\n",
              "      <td>@IamKudos</td>\n",
              "      <td>Really love this video. I think the reason people love to say \"Hard work beats talent\" is because they see talent as this mysterious gift that people have been privileged with by genetics or something. People don't want to flip a stone to check and see what really is talent. It's just better cognitive recognition and higher-order learning that people do accidentally for one thing. And because they didn't realize that they were doing that, they cant seem to apply that for others. Hence that becomes their \"talent\". And people like things explained in simplified terms. So they don't even want to wrap their head around what talent really is, or if they can DEVELOP or LEARN to be smart, to be talented. Deploying your brain is seeming to be harder to people than just passively putting in a grind of 10 hours of hard work. When you're active and aware of the processes you're using to improve yourself, you will achieve something even better than talent.</td>\n",
              "      <td>1 year ago</td>\n",
              "      <td>213</td>\n",
              "      <td>False</td>\n",
              "      <td>Pro</td>\n",
              "    </tr>\n",
              "  </tbody>\n",
              "</table>\n",
              "</div>\n",
              "    <div class=\"colab-df-buttons\">\n",
              "\n",
              "  <div class=\"colab-df-container\">\n",
              "    <button class=\"colab-df-convert\" onclick=\"convertToInteractive('df-b84919c6-f45b-4249-83b8-348d168009fb')\"\n",
              "            title=\"Convert this dataframe to an interactive table.\"\n",
              "            style=\"display:none;\">\n",
              "\n",
              "  <svg xmlns=\"http://www.w3.org/2000/svg\" height=\"24px\" viewBox=\"0 -960 960 960\">\n",
              "    <path d=\"M120-120v-720h720v720H120Zm60-500h600v-160H180v160Zm220 220h160v-160H400v160Zm0 220h160v-160H400v160ZM180-400h160v-160H180v160Zm440 0h160v-160H620v160ZM180-180h160v-160H180v160Zm440 0h160v-160H620v160Z\"/>\n",
              "  </svg>\n",
              "    </button>\n",
              "\n",
              "  <style>\n",
              "    .colab-df-container {\n",
              "      display:flex;\n",
              "      gap: 12px;\n",
              "    }\n",
              "\n",
              "    .colab-df-convert {\n",
              "      background-color: #E8F0FE;\n",
              "      border: none;\n",
              "      border-radius: 50%;\n",
              "      cursor: pointer;\n",
              "      display: none;\n",
              "      fill: #1967D2;\n",
              "      height: 32px;\n",
              "      padding: 0 0 0 0;\n",
              "      width: 32px;\n",
              "    }\n",
              "\n",
              "    .colab-df-convert:hover {\n",
              "      background-color: #E2EBFA;\n",
              "      box-shadow: 0px 1px 2px rgba(60, 64, 67, 0.3), 0px 1px 3px 1px rgba(60, 64, 67, 0.15);\n",
              "      fill: #174EA6;\n",
              "    }\n",
              "\n",
              "    .colab-df-buttons div {\n",
              "      margin-bottom: 4px;\n",
              "    }\n",
              "\n",
              "    [theme=dark] .colab-df-convert {\n",
              "      background-color: #3B4455;\n",
              "      fill: #D2E3FC;\n",
              "    }\n",
              "\n",
              "    [theme=dark] .colab-df-convert:hover {\n",
              "      background-color: #434B5C;\n",
              "      box-shadow: 0px 1px 3px 1px rgba(0, 0, 0, 0.15);\n",
              "      filter: drop-shadow(0px 1px 2px rgba(0, 0, 0, 0.3));\n",
              "      fill: #FFFFFF;\n",
              "    }\n",
              "  </style>\n",
              "\n",
              "    <script>\n",
              "      const buttonEl =\n",
              "        document.querySelector('#df-b84919c6-f45b-4249-83b8-348d168009fb button.colab-df-convert');\n",
              "      buttonEl.style.display =\n",
              "        google.colab.kernel.accessAllowed ? 'block' : 'none';\n",
              "\n",
              "      async function convertToInteractive(key) {\n",
              "        const element = document.querySelector('#df-b84919c6-f45b-4249-83b8-348d168009fb');\n",
              "        const dataTable =\n",
              "          await google.colab.kernel.invokeFunction('convertToInteractive',\n",
              "                                                    [key], {});\n",
              "        if (!dataTable) return;\n",
              "\n",
              "        const docLinkHtml = 'Like what you see? Visit the ' +\n",
              "          '<a target=\"_blank\" href=https://colab.research.google.com/notebooks/data_table.ipynb>data table notebook</a>'\n",
              "          + ' to learn more about interactive tables.';\n",
              "        element.innerHTML = '';\n",
              "        dataTable['output_type'] = 'display_data';\n",
              "        await google.colab.output.renderOutput(dataTable, element);\n",
              "        const docLink = document.createElement('div');\n",
              "        docLink.innerHTML = docLinkHtml;\n",
              "        element.appendChild(docLink);\n",
              "      }\n",
              "    </script>\n",
              "  </div>\n",
              "\n",
              "\n",
              "    <div id=\"df-d7197754-6e2e-4b73-b53f-16d6dfcdd18b\">\n",
              "      <button class=\"colab-df-quickchart\" onclick=\"quickchart('df-d7197754-6e2e-4b73-b53f-16d6dfcdd18b')\"\n",
              "                title=\"Suggest charts\"\n",
              "                style=\"display:none;\">\n",
              "\n",
              "<svg xmlns=\"http://www.w3.org/2000/svg\" height=\"24px\"viewBox=\"0 0 24 24\"\n",
              "     width=\"24px\">\n",
              "    <g>\n",
              "        <path d=\"M19 3H5c-1.1 0-2 .9-2 2v14c0 1.1.9 2 2 2h14c1.1 0 2-.9 2-2V5c0-1.1-.9-2-2-2zM9 17H7v-7h2v7zm4 0h-2V7h2v10zm4 0h-2v-4h2v4z\"/>\n",
              "    </g>\n",
              "</svg>\n",
              "      </button>\n",
              "\n",
              "<style>\n",
              "  .colab-df-quickchart {\n",
              "      --bg-color: #E8F0FE;\n",
              "      --fill-color: #1967D2;\n",
              "      --hover-bg-color: #E2EBFA;\n",
              "      --hover-fill-color: #174EA6;\n",
              "      --disabled-fill-color: #AAA;\n",
              "      --disabled-bg-color: #DDD;\n",
              "  }\n",
              "\n",
              "  [theme=dark] .colab-df-quickchart {\n",
              "      --bg-color: #3B4455;\n",
              "      --fill-color: #D2E3FC;\n",
              "      --hover-bg-color: #434B5C;\n",
              "      --hover-fill-color: #FFFFFF;\n",
              "      --disabled-bg-color: #3B4455;\n",
              "      --disabled-fill-color: #666;\n",
              "  }\n",
              "\n",
              "  .colab-df-quickchart {\n",
              "    background-color: var(--bg-color);\n",
              "    border: none;\n",
              "    border-radius: 50%;\n",
              "    cursor: pointer;\n",
              "    display: none;\n",
              "    fill: var(--fill-color);\n",
              "    height: 32px;\n",
              "    padding: 0;\n",
              "    width: 32px;\n",
              "  }\n",
              "\n",
              "  .colab-df-quickchart:hover {\n",
              "    background-color: var(--hover-bg-color);\n",
              "    box-shadow: 0 1px 2px rgba(60, 64, 67, 0.3), 0 1px 3px 1px rgba(60, 64, 67, 0.15);\n",
              "    fill: var(--button-hover-fill-color);\n",
              "  }\n",
              "\n",
              "  .colab-df-quickchart-complete:disabled,\n",
              "  .colab-df-quickchart-complete:disabled:hover {\n",
              "    background-color: var(--disabled-bg-color);\n",
              "    fill: var(--disabled-fill-color);\n",
              "    box-shadow: none;\n",
              "  }\n",
              "\n",
              "  .colab-df-spinner {\n",
              "    border: 2px solid var(--fill-color);\n",
              "    border-color: transparent;\n",
              "    border-bottom-color: var(--fill-color);\n",
              "    animation:\n",
              "      spin 1s steps(1) infinite;\n",
              "  }\n",
              "\n",
              "  @keyframes spin {\n",
              "    0% {\n",
              "      border-color: transparent;\n",
              "      border-bottom-color: var(--fill-color);\n",
              "      border-left-color: var(--fill-color);\n",
              "    }\n",
              "    20% {\n",
              "      border-color: transparent;\n",
              "      border-left-color: var(--fill-color);\n",
              "      border-top-color: var(--fill-color);\n",
              "    }\n",
              "    30% {\n",
              "      border-color: transparent;\n",
              "      border-left-color: var(--fill-color);\n",
              "      border-top-color: var(--fill-color);\n",
              "      border-right-color: var(--fill-color);\n",
              "    }\n",
              "    40% {\n",
              "      border-color: transparent;\n",
              "      border-right-color: var(--fill-color);\n",
              "      border-top-color: var(--fill-color);\n",
              "    }\n",
              "    60% {\n",
              "      border-color: transparent;\n",
              "      border-right-color: var(--fill-color);\n",
              "    }\n",
              "    80% {\n",
              "      border-color: transparent;\n",
              "      border-right-color: var(--fill-color);\n",
              "      border-bottom-color: var(--fill-color);\n",
              "    }\n",
              "    90% {\n",
              "      border-color: transparent;\n",
              "      border-bottom-color: var(--fill-color);\n",
              "    }\n",
              "  }\n",
              "</style>\n",
              "\n",
              "      <script>\n",
              "        async function quickchart(key) {\n",
              "          const quickchartButtonEl =\n",
              "            document.querySelector('#' + key + ' button');\n",
              "          quickchartButtonEl.disabled = true;  // To prevent multiple clicks.\n",
              "          quickchartButtonEl.classList.add('colab-df-spinner');\n",
              "          try {\n",
              "            const charts = await google.colab.kernel.invokeFunction(\n",
              "                'suggestCharts', [key], {});\n",
              "          } catch (error) {\n",
              "            console.error('Error during call to suggestCharts:', error);\n",
              "          }\n",
              "          quickchartButtonEl.classList.remove('colab-df-spinner');\n",
              "          quickchartButtonEl.classList.add('colab-df-quickchart-complete');\n",
              "        }\n",
              "        (() => {\n",
              "          let quickchartButtonEl =\n",
              "            document.querySelector('#df-d7197754-6e2e-4b73-b53f-16d6dfcdd18b button');\n",
              "          quickchartButtonEl.style.display =\n",
              "            google.colab.kernel.accessAllowed ? 'block' : 'none';\n",
              "        })();\n",
              "      </script>\n",
              "    </div>\n",
              "\n",
              "    </div>\n",
              "  </div>\n"
            ],
            "application/vnd.google.colaboratory.intrinsic+json": {
              "type": "dataframe",
              "summary": "{\n  \"name\": \"display(df\",\n  \"rows\": 10,\n  \"fields\": [\n    {\n      \"column\": \"username\",\n      \"properties\": {\n        \"dtype\": \"string\",\n        \"num_unique_values\": 10,\n        \"samples\": [\n          \"@eagle772\",\n          \"@julesinmed\",\n          \"@PixelatedApollo1\"\n        ],\n        \"semantic_type\": \"\",\n        \"description\": \"\"\n      }\n    },\n    {\n      \"column\": \"comment/reply\",\n      \"properties\": {\n        \"dtype\": \"string\",\n        \"num_unique_values\": 10,\n        \"samples\": [\n          \"\\u201cWorking hard never had anything to do with it. It\\u2019s not about how hard you work on something. It\\u2019s about doing the right thing.\\u201d\",\n          \"Personally, I think hard work should lead to smart work. We tend to associate the term hard work with concepts like long hours, lack of sleep and exhaustion, while it would be more useful if these circumstances were seen as a ''prompt'' to find a way to work smarter (simply to avoid being crushed by them, following natural evolution and self-preservation). Also, the process of simplification is itself ''hard work'', just not in the conventional, general view!\",\n          \"It\\u2019s also enormously BASED when someone who struggles more at doing something, (or has less talent) but works hard anyways. They can see peers easily progressing faster than them, but yet they struggle on and achieve greatness within their own time. I respect people who accomplish something very challenging, even if it was easy for other people.\"\n        ],\n        \"semantic_type\": \"\",\n        \"description\": \"\"\n      }\n    },\n    {\n      \"column\": \"time\",\n      \"properties\": {\n        \"dtype\": \"category\",\n        \"num_unique_values\": 1,\n        \"samples\": [\n          \"1 year ago\"\n        ],\n        \"semantic_type\": \"\",\n        \"description\": \"\"\n      }\n    },\n    {\n      \"column\": \"likes\",\n      \"properties\": {\n        \"dtype\": \"number\",\n        \"std\": 671,\n        \"min\": 35,\n        \"max\": 2100,\n        \"num_unique_values\": 10,\n        \"samples\": [\n          489\n        ],\n        \"semantic_type\": \"\",\n        \"description\": \"\"\n      }\n    },\n    {\n      \"column\": \"isReply\",\n      \"properties\": {\n        \"dtype\": \"boolean\",\n        \"num_unique_values\": 1,\n        \"samples\": [\n          false\n        ],\n        \"semantic_type\": \"\",\n        \"description\": \"\"\n      }\n    },\n    {\n      \"column\": \"stance\",\n      \"properties\": {\n        \"dtype\": \"category\",\n        \"num_unique_values\": 3,\n        \"samples\": [\n          \"Pro\"\n        ],\n        \"semantic_type\": \"\",\n        \"description\": \"\"\n      }\n    }\n  ]\n}"
            }
          },
          "metadata": {}
        }
      ]
    },
    {
      "cell_type": "markdown",
      "source": [
        "The final cleaned and complete dataset is saved for future reference."
      ],
      "metadata": {
        "id": "L11V8WTrPJAT"
      }
    },
    {
      "cell_type": "code",
      "source": [
        "df.to_csv(\"clean_dataset.csv\", index=False)"
      ],
      "metadata": {
        "id": "3oKBMsf9Ch7v"
      },
      "execution_count": null,
      "outputs": []
    },
    {
      "cell_type": "markdown",
      "source": [
        "# Exploratory Data Analysis (EDA)\n",
        "\n",
        "In this section, I perform exploratory data analysis to examine the distribution, engagement, temporal trends, and key discussion themes of the comments, providing both quantitative and visual insights to support my stance summarization."
      ],
      "metadata": {
        "id": "qPuRn-oiBW91"
      }
    },
    {
      "cell_type": "code",
      "source": [
        "# df = pd.read_csv(\"clean_dataset.csv\")"
      ],
      "metadata": {
        "id": "EtCG5FbKDJaO"
      },
      "execution_count": null,
      "outputs": []
    },
    {
      "cell_type": "markdown",
      "source": [
        "I want to firstly check the distribution of comment stances after dropping the \"Irrelevant\" ones. It helps me understand how the remaining comments are actually divided -- whether they lean more toward supporting, opposing, or staying neutral -- so I can draw more credible conclusion."
      ],
      "metadata": {
        "id": "wvLIv1CwoigE"
      }
    },
    {
      "cell_type": "code",
      "source": [
        "# Count the occurrences of each stance category\n",
        "stance_counts = df['stance'].value_counts()\n",
        "\n",
        "# Create a list of colors in the order of the stance_counts index\n",
        "colors = [color_map[stance] for stance in stance_counts.index]\n",
        "\n",
        "# Create a pie chart\n",
        "plt.figure(figsize=(8, 8))\n",
        "plt.pie(stance_counts, labels=stance_counts.index, autopct='%1.2f%%', startangle=90, colors=colors)\n",
        "plt.title('Distribution of Comment Stances')\n",
        "plt.axis('equal')\n",
        "plt.show()"
      ],
      "metadata": {
        "colab": {
          "base_uri": "https://localhost:8080/",
          "height": 644
        },
        "id": "zXNDSP4iBZXv",
        "outputId": "18bcacee-986b-4efd-a612-ea21728d1136"
      },
      "execution_count": null,
      "outputs": [
        {
          "output_type": "display_data",
          "data": {
            "text/plain": [
              "<Figure size 800x800 with 1 Axes>"
            ],
            "image/png": "[encoded data removed]"
          },
          "metadata": {}
        }
      ]
    },
    {
      "cell_type": "markdown",
      "source": [
        "The pie chart reveals that the majority of comments (52.08%) express a 'Pro' stance, about 32.35% are 'Contra', and 14.56% are 'Neutral'. This distribution reflects that the dominant opinion in the comment section leans toward valuing effort over innate ability. Hence, it should be acknowledged that **the 'Pro' stance will naturally be represented more prominently in the summarization.**"
      ],
      "metadata": {
        "id": "eFVJ7W1_xzAm"
      }
    },
    {
      "cell_type": "code",
      "source": [
        "# Group by stance and sum the likes\n",
        "likes_by_stance = df.groupby('stance')['likes'].sum().reset_index()\n",
        "\n",
        "# Sort by likes in descending order for better visualization\n",
        "likes_by_stance = likes_by_stance.sort_values(by='likes', ascending=False)\n",
        "\n",
        "# Create a list of colors in the order of the likes_by_stance index\n",
        "colors = [color_map[stance] for stance in likes_by_stance['stance']]\n",
        "\n",
        "# Create a bar chart\n",
        "plt.figure(figsize=(8, 6))\n",
        "sns.barplot(x='stance', y='likes', data=likes_by_stance, palette=colors, hue='stance', legend=False)\n",
        "plt.title('Total Likes by Comment Stance')\n",
        "plt.xlabel('Stance')\n",
        "plt.ylabel('Total Likes')\n",
        "plt.show()"
      ],
      "metadata": {
        "id": "QmUN_LXGEqGG",
        "colab": {
          "base_uri": "https://localhost:8080/",
          "height": 526
        },
        "outputId": "3eaa993e-047c-4753-8ead-40bd36ec7694"
      },
      "execution_count": null,
      "outputs": [
        {
          "output_type": "display_data",
          "data": {
            "text/plain": [
              "<Figure size 800x600 with 1 Axes>"
            ],
            "image/png": "[encoded data removed]"
          },
          "metadata": {}
        }
      ]
    },
    {
      "cell_type": "markdown",
      "source": [
        "Once again, the chart confirms that the 'Pro' stance not only dominates in quantity but also receives significantly more audience approval, as reflected by the total number of likes. This reinforces the earlier point that **any summarization will naturally be skewed toward the 'Pro' perpective, not by bias in the analysis, but due to the moderately strong imbalance in both representation and engagement.**"
      ],
      "metadata": {
        "id": "8qmrhTMN0tF5"
      }
    },
    {
      "cell_type": "markdown",
      "source": [
        "Next, I will use a line chart to see how the number of comments in each stance evolved overtime. This format makes it easier to detect temporal patterns, such as spikes or long-term trends, and to compare stances side by side in a clean, continuous format."
      ],
      "metadata": {
        "id": "iTzinxkj6tSO"
      }
    },
    {
      "cell_type": "code",
      "source": [
        "# Group by time and stance, then count the occurrences\n",
        "stance_over_time = df.groupby(['time', 'stance'], observed=False).size().reset_index(name='count')\n",
        "\n",
        "# Calculate the overall average comment count\n",
        "overall_average_count = stance_over_time['count'].mean()\n",
        "\n",
        "# Create the line chart\n",
        "plt.figure(figsize=(12, 6))\n",
        "sns.lineplot(data=stance_over_time, x='time', y='count', hue='stance', marker='o', palette=color_map)\n",
        "plt.axhline(y=overall_average_count, color='grey', linestyle='--')\n",
        "plt.text(\n",
        "    stance_over_time['time'].iloc[-1],\n",
        "    overall_average_count + 2,\n",
        "    f'Overall Average ({overall_average_count:.2f} comments)',\n",
        "    verticalalignment='bottom',\n",
        "    horizontalalignment='right',\n",
        "    color='black'\n",
        ")\n",
        "plt.title('Comment Stance Distribution Over Time')\n",
        "plt.xlabel('Time')\n",
        "plt.ylabel('Number of Comments')\n",
        "plt.xticks(rotation=45, ha='right')\n",
        "plt.legend(title='Stance')\n",
        "plt.tight_layout()\n",
        "plt.show()"
      ],
      "metadata": {
        "id": "iJ_gm8Oo6kSl",
        "colab": {
          "base_uri": "https://localhost:8080/",
          "height": 342
        },
        "outputId": "83bdef6d-d9a4-4ea3-a97c-c544faa857d1"
      },
      "execution_count": null,
      "outputs": [
        {
          "output_type": "display_data",
          "data": {
            "text/plain": [
              "<Figure size 1200x600 with 1 Axes>"
            ],
            "image/png": "[encoded data removed]"
          },
          "metadata": {}
        }
      ]
    },
    {
      "cell_type": "markdown",
      "source": [
        "From the chart, it's clear that almost all comments were posted around the time the video was released (1 year ago). In the following months, the number of new comments dropped sharply and remained near zero. This suggests that user engagement was heavily concentrated at the time of release and has not sustained over time.\n",
        "\n",
        "As a result, **any stance summarization or sentiment analysis done on this analysis will primarily reflect the opinions of viewers from one year ago, not the current audience**. Therefore, the conclusions drawn may be indicative of opinions in the past year, 2024."
      ],
      "metadata": {
        "id": "n0WaohEQ68in"
      }
    },
    {
      "cell_type": "markdown",
      "source": [
        "Lastly, I visualize the comments using a word cloud to quickly identify the most frequently mentioned concepts, which helps validate whether user discussions are truly centered around talent and hard work which is the core focus of my analysis."
      ],
      "metadata": {
        "id": "CpMElWRG954j"
      }
    },
    {
      "cell_type": "code",
      "metadata": {
        "id": "2c2d512c",
        "colab": {
          "base_uri": "https://localhost:8080/",
          "height": 442
        },
        "outputId": "654afad6-30df-4ac6-cc3f-0b160321eb5a"
      },
      "source": [
        "# Combine all comments into a single string\n",
        "all_comments = \" \".join(df['comment/reply'].dropna().tolist())\n",
        "\n",
        "# Generate the word cloud\n",
        "wordcloud = WordCloud(width=800, height=400, background_color='white').generate(all_comments)\n",
        "\n",
        "# Display the word cloud\n",
        "plt.figure(figsize=(10, 5))\n",
        "plt.imshow(wordcloud, interpolation='bilinear')\n",
        "plt.axis('off')\n",
        "plt.show()"
      ],
      "execution_count": null,
      "outputs": [
        {
          "output_type": "display_data",
          "data": {
            "text/plain": [
              "<Figure size 1000x500 with 1 Axes>"
            ],
            "image/png": "[encoded data removed]"
          },
          "metadata": {}
        }
      ]
    },
    {
      "cell_type": "markdown",
      "source": [
        "The word cloud effectively visualizes the central focus of the discussion, aligning perfectly with my analysis on the debate between talent and hard work. The most prominent words, such as 'talent', 'hard', 'work', 'people', and 'time' highlight the key themes users repeatedly mention. Their frequency confirms that **viewers are deeply engaged with the video's main question, making my stance classification and summarization highly relevant**. Additionally, the appearance of phrases like 'beats talent', 'practice', and 'effort' supports my interpretation that **users are contrasting natural ability with perseverance and consistent effort**."
      ],
      "metadata": {
        "id": "2fpQwmxh9LYO"
      }
    },
    {
      "cell_type": "markdown",
      "source": [
        "# Stance Summarization\n",
        "\n",
        "In this section, I configure the designated model with optimized summarization parameters, initialize it with my API token, and prompt it to generate clear, context-aware, and well-structured bullet-point summaries of the key arguments for each stance based on the classified comments."
      ],
      "metadata": {
        "id": "0HsIml-5-d1v"
      }
    },
    {
      "cell_type": "markdown",
      "source": [
        "The model is fine-tuned for the summarization task based on the recommendation from the \"Data Classification and Summarization Using IBM Granite\" module:\n",
        "- `top_k = 10`: Allows the model to choose from the top 10 most likely tokens, introducing slight variation while maintaining coherence. This is useful for generating more natural and fluid summaries.\n",
        "- `top_p = 0.9`: Retains only the top 90% of cumulative probability mass for token selection, balancing creativity with relevance to produce richer, yet focused summaries.\n",
        "- `max_tokens = 500`: Expands the output length limit to accommodate detailed summaries with up to five fully developed bullet points, each explaining a recurring argument with moderate depth and clarity.  \n",
        "- `min_tokens = 200`: Ensures that the summary includes substantial content, preventing the model from producing overly short or incomplete outputs while still allowing for variation in length.\n",
        "- `random_seed = 42` **(my pick)**: Ensures consistent outputs across runs for the same input, useful for evaluation and reproducibility.  \n",
        "- `repetition_penalty = 1.5`: Discourages redundant phrasing, improving the quality of summarization by making it more compact and diverse.  \n",
        "- `stopping_criteria = \"length\"`: Automatically ends generation when the token limit is reached.\n",
        "- `stopping_sequence = \" \"`: Encourages output to stop at natural word boundaries, leading to clearer and more readable sentence fragments."
      ],
      "metadata": {
        "id": "egK0IINMBvEw"
      }
    },
    {
      "cell_type": "code",
      "source": [
        "summarization_parameters = {\n",
        "    \"top_k\": 10,\n",
        "    \"top_p\": 0.9,\n",
        "    \"max_tokens\": 500,\n",
        "    \"min_tokens\": 200,\n",
        "    \"random_seed\": 42,\n",
        "    \"repetition_penalty\": 1.5,\n",
        "    \"stopping_criteria\": \"length\",\n",
        "    \"stopping_sequence\": \" \"\n",
        "}"
      ],
      "metadata": {
        "id": "J-gYQUaF_2RS"
      },
      "execution_count": null,
      "outputs": []
    },
    {
      "cell_type": "markdown",
      "source": [
        "Now, I initialize the Replicate object with the IBM Granite model and my summarization task tuned parameters using my API token to summarize each stance from the comments."
      ],
      "metadata": {
        "id": "wdAIzQG3CcXW"
      }
    },
    {
      "cell_type": "code",
      "source": [
        "output = Replicate(\n",
        "    model=model,\n",
        "    replicate_api_token=api_token,\n",
        "    model_kwargs=summarization_parameters\n",
        ")"
      ],
      "metadata": {
        "id": "yYNCIlZA_zbp"
      },
      "execution_count": null,
      "outputs": []
    },
    {
      "cell_type": "markdown",
      "source": [
        "I then prompt the model focusing on three key aspects.\n",
        "* **Clarity**: I ensure that each bullet point is written in a way that is easy to understand, avoiding both vague generalizations and overly technical language. The instructions specify a balance between being informative without becoming dense so the summary remains accessible and academically suitable.\n",
        "* **Context**: I provide the stance category and debate topic to ground the model's output in the appropriate thematic frame. This helps the model generate points that are not only relevant but also reflective of recurring ideas within a particular argumentative position (Pro, Contra, or Neutral).\n",
        "* **Format**: I define a strict, consistent structure using bullet points with bolded titles, a limit of five items, and no concluding paragraph. This format encourages thematic grouping of ideas and avoids unnecessary filler or narrative drift.\n"
      ],
      "metadata": {
        "id": "Axm7S01_DfD7"
      }
    },
    {
      "cell_type": "code",
      "source": [
        "def summarize_stance_comments(df, stance, debate_topic, output):\n",
        "    stance_comments_df = df[df['stance'] == stance]\n",
        "    comments_text = \"\\n---\\n\".join(stance_comments_df['comment/reply'].dropna().tolist())\n",
        "\n",
        "    summary_prompt = f\"\"\"\n",
        "    Summarize the following user comments, which fall into the \"{stance}\" category, using no more than five bullet points.\n",
        "\n",
        "    Strictly follow these instructions:\n",
        "    - Use bullet points only (-).\n",
        "    - Limit your output to a maximum of five bullet points.\n",
        "    - Do not include a concluding paragraph.\n",
        "    - Each bullet point must summarize a recurring argument, belief, or example found in the comments.\n",
        "    - Explain each point with moderate detail, enough to be informative and clear, but not overly technical or deeply analytical.\n",
        "    - Avoid surface-level phrasing (e.g., \"X is good\") and overly complex arguments; aim for clarity and balance.\n",
        "    - Maintain a neutral, evidence-aware tone suitable for academic presentation.\n",
        "\n",
        "    The purpose of this summary is to investigate differing public opinions about whether *{debate_topic}*, using real-world responses.\n",
        "\n",
        "    Each bullet point should begin with a short, descriptive title in bold (without numbering), followed by a colon and a detailed explanation.\n",
        "\n",
        "    Here are the comments classified as {stance}:\n",
        "    {comments_text}\n",
        "\n",
        "    Summary:\n",
        "    \"\"\"\n",
        "\n",
        "    return output.invoke(summary_prompt)"
      ],
      "metadata": {
        "id": "DEFNP_pClWcI"
      },
      "execution_count": null,
      "outputs": []
    },
    {
      "cell_type": "markdown",
      "source": [
        "Finally, I can extract a summary of the key points associated with each stance."
      ],
      "metadata": {
        "id": "6jg5NRtpGI78"
      }
    },
    {
      "cell_type": "code",
      "source": [
        "pro_summary = summarize_stance_comments(df, \"Pro\", \"hard work beats talent\", output)\n",
        "print(pro_summary)"
      ],
      "metadata": {
        "id": "wRxg1rzj-lS3",
        "colab": {
          "base_uri": "https://localhost:8080/"
        },
        "outputId": "02650fb4-8303-4e6f-ebfa-072ee906a9d5"
      },
      "execution_count": null,
      "outputs": [
        {
          "output_type": "stream",
          "name": "stdout",
          "text": [
            "- **Hard Work as a Precursor to Smart Work**: Many commenters emphasize that hard work, when combined with the right methods or \"processes,\" leads to smart work. This suggests that hard work lays the foundation for developing efficient strategies and techniques, which in turn enhances productivity and results.\n",
            "\n",
            "- **Talent as Intuitive Optimal Processes**: Talent is described as an innate ability to instinctively use optimal processes. This implies that talent is not merely a static attribute but a dynamic capacity to apply effective strategies efficiently.\n",
            "\n",
            "- **Hard Work as a Necessity for Success**: Numerous comments underscore the necessity of hard work for achieving success, regardless of initial talent levels. The consensus is that without hard work, talent alone is insufficient for reaching one's full potential.\n",
            "\n",
            "- **Examples of Hard Work Overcoming Talent Without Effort**: Several personal anecdotes illustrate individuals who, through dedicated hard work, surpassed those with perceived natural talent but lacked the necessary work ethic. This highlights that while talent may provide an initial advantage, sustained hard work can overcome this.\n",
            "\n",
            "- **Importance of Finding One's Talent Through Hard Work**: Many commenters share experiences where they discovered their aptitudes or \"talents\" only after persistent hard work. This reinforces the idea that identifying and honing one's talents often requires significant effort and dedication.\n"
          ]
        }
      ]
    },
    {
      "cell_type": "code",
      "source": [
        "contra_summary = summarize_stance_comments(df, \"Contra\", \"hard work beats talent\", output)\n",
        "print(contra_summary)"
      ],
      "metadata": {
        "id": "zOMZH7hEA6PK",
        "colab": {
          "base_uri": "https://localhost:8080/"
        },
        "outputId": "17e31978-019b-4541-eb61-c93c81a9407d"
      },
      "execution_count": null,
      "outputs": [
        {
          "output_type": "stream",
          "name": "stdout",
          "text": [
            "- **Innate Limitations**: Many users highlight that individuals have inherent limitations, such as genetics or physical attributes, which cannot be overcome through hard work alone. For example, someone naturally taller and more athletically gifted in basketball like Michael Jordan or Ronaldo might inherently surpass someone who works extremely hard but lacks those physical attributes.\n",
            "\n",
            "- **Talent as a Head Start**: Talent is often depicted as a significant advantage or \"head start\" that cannot be entirely caught up by hard work. Users suggest that talented individuals can excel in their fields with less effort compared to those who must work harder to achieve similar results.\n",
            "\n",
            "- **Burnout and Diminishing Returns**: Some users argue that excessive hard work can lead to burnout, where the individual's energy and capacity diminish over time, regardless of their initial talent or potential. This suggests that while talent might give someone an initial edge, hard work without talent can lead to exhaustion and failure.\n",
            "\n",
            "- **Misinterpretation of Success Stories**: Critics point out that many success stories are misinterpreted as being solely the result of hard work, overlooking the role of innate talent. Users emphasize that exceptional achievements, especially at the highest levels, are often driven by a combination of talent and hard work, not just the latter.\n",
            "\n",
            "- **Oversimplification of Success**: There is a recurring theme that success is oversimplified when attributed solely to hard work. Users argue that factors such as luck, timing, and privilege play significant roles in success, and that reducing success to hard work neglects these crucial elements.\n"
          ]
        }
      ]
    },
    {
      "cell_type": "code",
      "source": [
        "neutral_summary = summarize_stance_comments(df, \"Neutral\", \"hard work beats talent\", output)\n",
        "print(neutral_summary)"
      ],
      "metadata": {
        "id": "jNszWZ7ziCmA",
        "colab": {
          "base_uri": "https://localhost:8080/"
        },
        "outputId": "0a06a3cd-11a9-4c2b-d275-c9d5fb08ad8b"
      },
      "execution_count": null,
      "outputs": [
        {
          "output_type": "stream",
          "name": "stdout",
          "text": [
            "- **Diminishing Returns of Hard Work**: Some commenters argue that the effectiveness of hard work decreases over time without proper strategy or optimization.\n",
            "- **Quality of Effort**: Effort, or hard work, is emphasized to be about doing the right kind of work, not just putting in more hours.\n",
            "- **Talent and Hard Work Synergy**: Many acknowledge that both talent and hard work are crucial; talent can make hard work more efficient, while hard work can help talented individuals reach their full potential.\n",
            "- **Smart Work vs. Hard Work**: There's a recurring theme that 'smart work'—working efficiently and strategically—is more impactful than mere 'hard work' or mindless effort.\n",
            "- **Environmental and Personal Factors**: Comments highlight the importance of upbringing, experience, consistency, and personal interest in shaping success, suggesting that talent is often a product of nurture rather than nature alone.\n"
          ]
        }
      ]
    }
  ]
}